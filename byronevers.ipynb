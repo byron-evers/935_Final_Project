{
 "cells": [
  {
   "cell_type": "markdown",
   "metadata": {},
   "source": [
    "# Project Update\n",
    "### 2019-03-19\n",
    "\n",
    "## Calculating thermal time indices and merging UAV data.\n",
    "\n",
    "**Name**: Byron Evers<br/>\n",
    "**Semester**: Spring 2019 <br/>\n",
    "**Project area**: Agronomy"
   ]
  },
  {
   "cell_type": "markdown",
   "metadata": {},
   "source": [
    "## Table of contents\n",
    "1. [Objective](#Update_Objective)\n",
    "2. [Motivation](#Update_Motivation)\n",
    "3. [Equations](#Update_Equations)\n",
    "    * [GDD](#Update_GDD)\n",
    "    * [Pdays](#Update_Pdays)\n",
    "    * [BMT](#Update_BMT)\n",
    "4. [Progress](#Update_Progress)\n",
    "5. [Road Blocks](#Update_Road_Blocks)\n",
    "6. [Examples](#Update_examples)\n",
    "    * [Mesonet Input](#Update_inputs)\n",
    "    * [GDD Function](#Update_function)\n",
    "    * [Data Frame Output](#Update_output)\n",
    "    * [Graph](#Update_graph)\n"
   ]
  },
  {
   "cell_type": "markdown",
   "metadata": {},
   "source": [
    "<a name=\"Update_Objective\"></a>\n",
    "## Objective\n",
    "\n",
    "1. Write a python function to calculate three thermal time indices for all UAV collection dates\n",
    "    * growing degree days (GDD)\n",
    "    * physiological days (Pdays)\n",
    "    * biometeorological time (BMT) \n",
    "2. Merge all of the UAV reflectance data, plot level phenotypic data and the calculated thermal values into one .csv file.\n"
   ]
  },
  {
   "cell_type": "markdown",
   "metadata": {},
   "source": [
    "<img src=\"diagram.png\" alt=\"sketch_image\" width=\"1000\"/>"
   ]
  },
  {
   "cell_type": "markdown",
   "metadata": {},
   "source": [
    "<a name=\"Update_Motivation\"></a>\n",
    "## Motivation\n",
    "- Poland labs current UAV pipeline includes stitching photos and extracting plot level reflectance data through Agisoft software.\n",
    "    * 2017 Data is \n",
    "- Data recived from this process is in either an Excel or csv file. \n",
    "- The data set includes reflectance values for 5 indiviual bands (R,G,B,RE and NIR) and 3 vegitative indices (NDVI, NDRE and GNDVI). \n",
    "- Thermal time indices are important for data analysis between years\n",
    "- Comparing thermal time indices maybe usefull in plots with diverse germplasm"
   ]
  },
  {
   "cell_type": "markdown",
   "metadata": {},
   "source": [
    "<a name=\"Update_Equations\"></a>\n",
    "## Equations\n"
   ]
  },
  {
   "cell_type": "markdown",
   "metadata": {},
   "source": [
    "<a name=\"Update_GDD\"></a>\n",
    "### Growing Degree Days (GDD):\n",
    "$$GDD = \\sum_{Planting}^{Harvest}(\\frac{Tmax+Tmin}{2})-Tbase$$"
   ]
  },
  {
   "cell_type": "markdown",
   "metadata": {},
   "source": [
    "<a name=\"Update_Pdays\"></a>\n",
    "### Physological Days (Pdays):\n",
    "$$Pdays = \\frac{1}{24}(5*P(T_1)+8*P(T_2)+8*P(T_3)+3*P(T_4))$$\n",
    "**Where**\n",
    "* $T_1=Tmin$\n",
    "* $T_2=\\frac{(2*Tmin)+Tmax}{3}$\n",
    "* $T_3=\\frac{Tmin+(2*Tmax)}{3}$\n",
    "* $T_4=Tmax$\n",
    "\n",
    "**And P is**\n",
    "* $P=0$   When $T <=Tmin$\n",
    "* $P=k*(1-\\frac{(T-Topt)2}{(Topt-Tmin)2})$ when $Tmin <= T <=Topt$\n",
    "* $P=k*(1-\\frac{(T-Topt)2}{(Tmax-Topt)2})$ when $Topt <= T <=Tmax$\n",
    "* $P=0$ when $T >=Tmax$\n"
   ]
  },
  {
   "cell_type": "markdown",
   "metadata": {},
   "source": [
    "<a name=\"Update_BMT\"></a>\n",
    "### Biometeorological Time\n",
    "$$BMT = \\sum_{Planting}^{Harvest}[a_1(L-a_0) + a_2(L-a_0)^2]* {[b_1(L-b_0) + b_2(L-b_0)^2]}*{[d_1(L-b_0) + d_2(L-b_0)^2]}$$\n",
    "**Where**\n",
    "* $L$= daily photoperiod\n",
    "* $a_0$= base daylength\n",
    "* $b_0$= base temperature\n",
    "* $a_1, a_2, b_1, b_2, d_1, d_2$ are response coefficents "
   ]
  },
  {
   "cell_type": "markdown",
   "metadata": {},
   "source": [
    "<a name=\"Update_Progress\"></a>\n",
    "## Progress\n",
    "- [X] Downloaded data from KSU Mesonet as a csv\n",
    "- [X] Defined and imported needed modules\n",
    "- [X] Imported data as a pands dataframe\n",
    "- [X] Edited the dataframe\n",
    "- Define user inputs needed for the cacluations and provide and place to enter\n",
    "    * [X] <span style=\"color:green\">Planting Date</span>\n",
    "    * [X] <span style=\"color:green\">Harvest Date</span>\n",
    "    * [X] <span style=\"color:green\">tbase</span>\n",
    "    * [X] <span style=\"color:green\">topt</span>\n",
    "    * [X] <span style=\"color:green\">tmax</span>\n",
    "- Define function for:\n",
    "    * [X] <span style=\"color:green\">Pdays</span>\n",
    "    * [ ] <span style=\"color:red\">Pdays</span>\n",
    "    * [ ] <span style=\"color:red\">BMT</span>\n",
    "- Visulize GDD with matplotlib. Include biophysical thermal time predictors\n",
    "    * [X] <span style=\"color:green\">Tillering</span>\n",
    "    * [X] <span style=\"color:green\">Flowering</span>\n",
    "    * [X] <span style=\"color:green\">Grain Fill</span>\n",
    "    \n",
    "    \n"
   ]
  },
  {
   "cell_type": "markdown",
   "metadata": {},
   "source": [
    "<a name=\"Update_Road_Blocks\"></a>\n",
    "## Road Blocks\n",
    "- Pdays how to incorperate two conditions (ie 5<x<17)\n",
    "- Source data and how to incorperate photoperiod \n",
    "- Importing UAV data from Excel particularly multiple tabs\n",
    "- Formating UAV csv data from a table format to a database format\n",
    "- Importing all csv files from single working directory and joining them on a common column"
   ]
  },
  {
   "cell_type": "markdown",
   "metadata": {},
   "source": [
    "<a name=\"Update_examples\"></a>\n",
    "## Examples"
   ]
  },
  {
   "cell_type": "code",
   "execution_count": 10,
   "metadata": {},
   "outputs": [],
   "source": [
    "import pandas as pd\n",
    "import numpy as np\n",
    "import glob\n",
    "import datetime as dt\n",
    "from datetime import datetime\n",
    "import matplotlib.pyplot as plt\n",
    "#import matplotlib.pyplot as plt\n",
    "%matplotlib inline\n",
    "dirname = '/Users/bevers/Desktop/Coding/Project_Update/Data/'\n",
    "filename_17 = '2017_growing_season.txt'"
   ]
  },
  {
   "cell_type": "markdown",
   "metadata": {},
   "source": [
    "<a name=\"Update_inputs\"></a>\n",
    "## Mesonet Input"
   ]
  },
  {
   "cell_type": "code",
   "execution_count": 15,
   "metadata": {},
   "outputs": [
    {
     "data": {
      "text/html": [
       "<div>\n",
       "<style scoped>\n",
       "    .dataframe tbody tr th:only-of-type {\n",
       "        vertical-align: middle;\n",
       "    }\n",
       "\n",
       "    .dataframe tbody tr th {\n",
       "        vertical-align: top;\n",
       "    }\n",
       "\n",
       "    .dataframe thead th {\n",
       "        text-align: right;\n",
       "    }\n",
       "</style>\n",
       "<table border=\"1\" class=\"dataframe\">\n",
       "  <thead>\n",
       "    <tr style=\"text-align: right;\">\n",
       "      <th></th>\n",
       "      <th>Timestamp</th>\n",
       "      <th>Station</th>\n",
       "      <th>AirTemperature</th>\n",
       "      <th>AirTemperature.1</th>\n",
       "      <th>RelativeHumidity</th>\n",
       "      <th>Precipitation</th>\n",
       "      <th>WindSpeed2m</th>\n",
       "      <th>WindSpeed2m.1</th>\n",
       "      <th>SoilTemperature5cm</th>\n",
       "      <th>SoilTemperature5cm.1</th>\n",
       "      <th>SoilTemperature10cm</th>\n",
       "      <th>SoilTemperature10cm.1</th>\n",
       "      <th>SolarRadiation</th>\n",
       "      <th>ETo</th>\n",
       "      <th>ETo.1</th>\n",
       "    </tr>\n",
       "  </thead>\n",
       "  <tbody>\n",
       "    <tr>\n",
       "      <th>0</th>\n",
       "      <td>NaN</td>\n",
       "      <td>NaN</td>\n",
       "      <td>max</td>\n",
       "      <td>min</td>\n",
       "      <td>avg</td>\n",
       "      <td>total</td>\n",
       "      <td>avg</td>\n",
       "      <td>max</td>\n",
       "      <td>max</td>\n",
       "      <td>min</td>\n",
       "      <td>max</td>\n",
       "      <td>min</td>\n",
       "      <td>total</td>\n",
       "      <td>grass</td>\n",
       "      <td>alfalfa</td>\n",
       "    </tr>\n",
       "    <tr>\n",
       "      <th>1</th>\n",
       "      <td>NaN</td>\n",
       "      <td>NaN</td>\n",
       "      <td>°C</td>\n",
       "      <td>°C</td>\n",
       "      <td>%</td>\n",
       "      <td>mm</td>\n",
       "      <td>m/s</td>\n",
       "      <td>m/s</td>\n",
       "      <td>°C</td>\n",
       "      <td>°C</td>\n",
       "      <td>°C</td>\n",
       "      <td>°C</td>\n",
       "      <td>MJ/m²</td>\n",
       "      <td>mm</td>\n",
       "      <td>mm</td>\n",
       "    </tr>\n",
       "    <tr>\n",
       "      <th>2</th>\n",
       "      <td>2016-09-01</td>\n",
       "      <td>Scandia</td>\n",
       "      <td>26.3</td>\n",
       "      <td>12.8</td>\n",
       "      <td>76.2</td>\n",
       "      <td>0</td>\n",
       "      <td>1.0</td>\n",
       "      <td>4.9</td>\n",
       "      <td>22.8</td>\n",
       "      <td>13.5</td>\n",
       "      <td>24.9</td>\n",
       "      <td>18.1</td>\n",
       "      <td>22.5</td>\n",
       "      <td>3.92</td>\n",
       "      <td>4.54</td>\n",
       "    </tr>\n",
       "    <tr>\n",
       "      <th>3</th>\n",
       "      <td>2016-09-02</td>\n",
       "      <td>Scandia</td>\n",
       "      <td>24.8</td>\n",
       "      <td>13.9</td>\n",
       "      <td>74.2</td>\n",
       "      <td>0</td>\n",
       "      <td>1.8</td>\n",
       "      <td>6.5</td>\n",
       "      <td>21.4</td>\n",
       "      <td>13.3</td>\n",
       "      <td>23.9</td>\n",
       "      <td>17.9</td>\n",
       "      <td>21.4</td>\n",
       "      <td>3.97</td>\n",
       "      <td>4.85</td>\n",
       "    </tr>\n",
       "    <tr>\n",
       "      <th>4</th>\n",
       "      <td>2016-09-03</td>\n",
       "      <td>Scandia</td>\n",
       "      <td>26.5</td>\n",
       "      <td>15.4</td>\n",
       "      <td>76.4</td>\n",
       "      <td>8.64</td>\n",
       "      <td>2.5</td>\n",
       "      <td>7.9</td>\n",
       "      <td>19.5</td>\n",
       "      <td>13.6</td>\n",
       "      <td>22.5</td>\n",
       "      <td>18.2</td>\n",
       "      <td>9.2</td>\n",
       "      <td>2.79</td>\n",
       "      <td>3.75</td>\n",
       "    </tr>\n",
       "  </tbody>\n",
       "</table>\n",
       "</div>"
      ],
      "text/plain": [
       "    Timestamp  Station AirTemperature AirTemperature.1 RelativeHumidity  \\\n",
       "0         NaN      NaN            max              min              avg   \n",
       "1         NaN      NaN             °C               °C                %   \n",
       "2  2016-09-01  Scandia           26.3             12.8             76.2   \n",
       "3  2016-09-02  Scandia           24.8             13.9             74.2   \n",
       "4  2016-09-03  Scandia           26.5             15.4             76.4   \n",
       "\n",
       "  Precipitation WindSpeed2m WindSpeed2m.1 SoilTemperature5cm  \\\n",
       "0         total         avg           max                max   \n",
       "1            mm         m/s           m/s                 °C   \n",
       "2             0         1.0           4.9               22.8   \n",
       "3             0         1.8           6.5               21.4   \n",
       "4          8.64         2.5           7.9               19.5   \n",
       "\n",
       "  SoilTemperature5cm.1 SoilTemperature10cm SoilTemperature10cm.1  \\\n",
       "0                  min                 max                   min   \n",
       "1                   °C                  °C                    °C   \n",
       "2                 13.5                24.9                  18.1   \n",
       "3                 13.3                23.9                  17.9   \n",
       "4                 13.6                22.5                  18.2   \n",
       "\n",
       "  SolarRadiation    ETo    ETo.1  \n",
       "0          total  grass  alfalfa  \n",
       "1          MJ/m²     mm       mm  \n",
       "2           22.5   3.92     4.54  \n",
       "3           21.4   3.97     4.85  \n",
       "4            9.2   2.79     3.75  "
      ]
     },
     "execution_count": 15,
     "metadata": {},
     "output_type": "execute_result"
    }
   ],
   "source": [
    "df17 = pd.read_csv(dirname + filename_17)\n",
    "df17.head(5)"
   ]
  },
  {
   "cell_type": "code",
   "execution_count": 16,
   "metadata": {},
   "outputs": [
    {
     "data": {
      "text/html": [
       "<div>\n",
       "<style scoped>\n",
       "    .dataframe tbody tr th:only-of-type {\n",
       "        vertical-align: middle;\n",
       "    }\n",
       "\n",
       "    .dataframe tbody tr th {\n",
       "        vertical-align: top;\n",
       "    }\n",
       "\n",
       "    .dataframe thead th {\n",
       "        text-align: right;\n",
       "    }\n",
       "</style>\n",
       "<table border=\"1\" class=\"dataframe\">\n",
       "  <thead>\n",
       "    <tr style=\"text-align: right;\">\n",
       "      <th></th>\n",
       "      <th>Date</th>\n",
       "      <th>Station</th>\n",
       "      <th>Tmax</th>\n",
       "      <th>Tmin</th>\n",
       "    </tr>\n",
       "  </thead>\n",
       "  <tbody>\n",
       "    <tr>\n",
       "      <th>2</th>\n",
       "      <td>2016-09-01</td>\n",
       "      <td>Scandia</td>\n",
       "      <td>26.3</td>\n",
       "      <td>12.8</td>\n",
       "    </tr>\n",
       "    <tr>\n",
       "      <th>3</th>\n",
       "      <td>2016-09-02</td>\n",
       "      <td>Scandia</td>\n",
       "      <td>24.8</td>\n",
       "      <td>13.9</td>\n",
       "    </tr>\n",
       "    <tr>\n",
       "      <th>4</th>\n",
       "      <td>2016-09-03</td>\n",
       "      <td>Scandia</td>\n",
       "      <td>26.5</td>\n",
       "      <td>15.4</td>\n",
       "    </tr>\n",
       "    <tr>\n",
       "      <th>5</th>\n",
       "      <td>2016-09-04</td>\n",
       "      <td>Scandia</td>\n",
       "      <td>29.4</td>\n",
       "      <td>16.8</td>\n",
       "    </tr>\n",
       "    <tr>\n",
       "      <th>6</th>\n",
       "      <td>2016-09-05</td>\n",
       "      <td>Scandia</td>\n",
       "      <td>31.5</td>\n",
       "      <td>22.2</td>\n",
       "    </tr>\n",
       "  </tbody>\n",
       "</table>\n",
       "</div>"
      ],
      "text/plain": [
       "         Date  Station  Tmax  Tmin\n",
       "2  2016-09-01  Scandia  26.3  12.8\n",
       "3  2016-09-02  Scandia  24.8  13.9\n",
       "4  2016-09-03  Scandia  26.5  15.4\n",
       "5  2016-09-04  Scandia  29.4  16.8\n",
       "6  2016-09-05  Scandia  31.5  22.2"
      ]
     },
     "execution_count": 16,
     "metadata": {},
     "output_type": "execute_result"
    }
   ],
   "source": [
    "df17.rename(columns={'Timestamp':'Date', 'AirTemperature':'Tmax', 'AirTemperature.1':'Tmin'}, inplace=True)\n",
    "df17 = df17.drop((df17.index[:2])) # Drop top lines of non numaric data\n",
    "df17 = df17.drop(['RelativeHumidity', 'Precipitation', 'WindSpeed2m','WindSpeed2m.1','SoilTemperature5cm','SoilTemperature5cm.1',\n",
    "             'SoilTemperature10cm','SoilTemperature10cm.1','SolarRadiation','ETo','ETo.1'], axis=1)\n"
   ]
  },
  {
   "cell_type": "markdown",
   "metadata": {},
   "source": [
    "<a name=\"Update_function\"></a>\n",
    "## Define GDD Function"
   ]
  },
  {
   "cell_type": "code",
   "execution_count": 17,
   "metadata": {},
   "outputs": [],
   "source": [
    "#Define function\n",
    "def GDD(df):\n",
    "    \"\"\"\n",
    "    Clacluates an individual and cumluative value for GDD for each day in the dataframe\n",
    "    \n",
    "    Input: Pandas dataframe. Minimum required columns include:\n",
    "        T_max= daily maximum temprerature\n",
    "        T_min= daily minimum temperatrue\n",
    "        Date = date of collection\n",
    "        \n",
    "    Output: Pandas dataframe. In addition the columns in the dataframe input two additional columns will be clclulated and added:\n",
    "        GDD= The growing degree day value for that individual day\n",
    "        cum_GDD = The cumlative growing degree day value for all days in the designated growing period.\n",
    "    \n",
    "    Byron Evers\n",
    "    \n",
    "    2019-03-06\n",
    "    \"\"\"\n",
    "    df.Tmin = df.Tmin.astype(float)\n",
    "    df.Tmax = df.Tmax.astype(float)\n",
    "    df.Date =  pd.to_datetime(df.Date,format='%Y-%m-%d')\n",
    "    df = df.drop(df[df.Date < plantDate].index)\n",
    "    df = df.drop(df[df.Date > harvestDate].index)\n",
    "    df['Tbase']=tbase\n",
    "    df['tavg'] =((df.Tmax+df.Tmin)/2)\n",
    "    values = np.where(df.tavg < tbase, df.Tbase, df.tavg).astype(float)\n",
    "    df['GDD']=(values)-df.Tbase\n",
    "    df['cum_GDD'] = df.GDD.cumsum()\n",
    "    return df"
   ]
  },
  {
   "cell_type": "markdown",
   "metadata": {},
   "source": [
    "<a name=\"Update_output\"></a>\n",
    "## Dataframe Output\n"
   ]
  },
  {
   "cell_type": "code",
   "execution_count": 18,
   "metadata": {},
   "outputs": [
    {
     "data": {
      "text/html": [
       "<div>\n",
       "<style scoped>\n",
       "    .dataframe tbody tr th:only-of-type {\n",
       "        vertical-align: middle;\n",
       "    }\n",
       "\n",
       "    .dataframe tbody tr th {\n",
       "        vertical-align: top;\n",
       "    }\n",
       "\n",
       "    .dataframe thead th {\n",
       "        text-align: right;\n",
       "    }\n",
       "</style>\n",
       "<table border=\"1\" class=\"dataframe\">\n",
       "  <thead>\n",
       "    <tr style=\"text-align: right;\">\n",
       "      <th></th>\n",
       "      <th>Date</th>\n",
       "      <th>Station</th>\n",
       "      <th>Tmax</th>\n",
       "      <th>Tmin</th>\n",
       "      <th>Tbase</th>\n",
       "      <th>tavg</th>\n",
       "      <th>GDD</th>\n",
       "      <th>cum_GDD</th>\n",
       "    </tr>\n",
       "  </thead>\n",
       "  <tbody>\n",
       "    <tr>\n",
       "      <th>41</th>\n",
       "      <td>2016-10-10</td>\n",
       "      <td>Scandia</td>\n",
       "      <td>21.3</td>\n",
       "      <td>10.7</td>\n",
       "      <td>5</td>\n",
       "      <td>16.00</td>\n",
       "      <td>11.00</td>\n",
       "      <td>11.00</td>\n",
       "    </tr>\n",
       "    <tr>\n",
       "      <th>42</th>\n",
       "      <td>2016-10-11</td>\n",
       "      <td>Scandia</td>\n",
       "      <td>24.4</td>\n",
       "      <td>8.5</td>\n",
       "      <td>5</td>\n",
       "      <td>16.45</td>\n",
       "      <td>11.45</td>\n",
       "      <td>22.45</td>\n",
       "    </tr>\n",
       "    <tr>\n",
       "      <th>43</th>\n",
       "      <td>2016-10-12</td>\n",
       "      <td>Scandia</td>\n",
       "      <td>12.2</td>\n",
       "      <td>-0.3</td>\n",
       "      <td>5</td>\n",
       "      <td>5.95</td>\n",
       "      <td>0.95</td>\n",
       "      <td>23.40</td>\n",
       "    </tr>\n",
       "    <tr>\n",
       "      <th>44</th>\n",
       "      <td>2016-10-13</td>\n",
       "      <td>Scandia</td>\n",
       "      <td>15.4</td>\n",
       "      <td>-2.5</td>\n",
       "      <td>5</td>\n",
       "      <td>6.45</td>\n",
       "      <td>1.45</td>\n",
       "      <td>24.85</td>\n",
       "    </tr>\n",
       "    <tr>\n",
       "      <th>45</th>\n",
       "      <td>2016-10-14</td>\n",
       "      <td>Scandia</td>\n",
       "      <td>21.3</td>\n",
       "      <td>4.6</td>\n",
       "      <td>5</td>\n",
       "      <td>12.95</td>\n",
       "      <td>7.95</td>\n",
       "      <td>32.80</td>\n",
       "    </tr>\n",
       "  </tbody>\n",
       "</table>\n",
       "</div>"
      ],
      "text/plain": [
       "         Date  Station  Tmax  Tmin  Tbase   tavg    GDD  cum_GDD\n",
       "41 2016-10-10  Scandia  21.3  10.7      5  16.00  11.00    11.00\n",
       "42 2016-10-11  Scandia  24.4   8.5      5  16.45  11.45    22.45\n",
       "43 2016-10-12  Scandia  12.2  -0.3      5   5.95   0.95    23.40\n",
       "44 2016-10-13  Scandia  15.4  -2.5      5   6.45   1.45    24.85\n",
       "45 2016-10-14  Scandia  21.3   4.6      5  12.95   7.95    32.80"
      ]
     },
     "execution_count": 18,
     "metadata": {},
     "output_type": "execute_result"
    }
   ],
   "source": [
    "plantDate=np.datetime64('2016-10-10') #set the date your crop was planted\n",
    "harvestDate=np.datetime64('2017-06-30') #set the date your crop was planted\n",
    "tbase=5 # set the base temperature for your given crop. \n",
    "topt=17\n",
    "tmax=31\n",
    "k= .35\n",
    "\n",
    "df17 = GDD(df17)\n",
    "df17.head(5)"
   ]
  },
  {
   "cell_type": "markdown",
   "metadata": {},
   "source": [
    "<a name=\"Update_graph\"></a>\n",
    "## Graph\n",
    "<img src=\"2017v2018GDD.png\" alt=\"sketch_image\" width=\"700\"/>"
   ]
  },
  {
   "cell_type": "code",
   "execution_count": 19,
   "metadata": {},
   "outputs": [
    {
     "name": "stderr",
     "output_type": "stream",
     "text": [
      "/Users/bevers/.local/lib/python3.7/site-packages/matplotlib/figure.py:98: MatplotlibDeprecationWarning: \n",
      "Adding an axes using the same arguments as a previous axes currently reuses the earlier instance.  In a future version, a new instance will always be created and returned.  Meanwhile, this warning can be suppressed, and the future behavior ensured, by passing a unique label to each axes instance.\n",
      "  \"Adding an axes using the same arguments as a previous axes \"\n"
     ]
    },
    {
     "ename": "NameError",
     "evalue": "name 'df18' is not defined",
     "output_type": "error",
     "traceback": [
      "\u001b[0;31m---------------------------------------------------------------------------\u001b[0m",
      "\u001b[0;31mNameError\u001b[0m                                 Traceback (most recent call last)",
      "\u001b[0;32m<ipython-input-19-fb649d49a80f>\u001b[0m in \u001b[0;36m<module>\u001b[0;34m\u001b[0m\n\u001b[1;32m     11\u001b[0m \u001b[0;31m#plot 2018 Data\u001b[0m\u001b[0;34m\u001b[0m\u001b[0;34m\u001b[0m\u001b[0;34m\u001b[0m\u001b[0m\n\u001b[1;32m     12\u001b[0m \u001b[0mplt\u001b[0m\u001b[0;34m.\u001b[0m\u001b[0msubplot\u001b[0m\u001b[0;34m(\u001b[0m\u001b[0;36m2\u001b[0m\u001b[0;34m,\u001b[0m\u001b[0;36m1\u001b[0m\u001b[0;34m,\u001b[0m\u001b[0;36m2\u001b[0m\u001b[0;34m)\u001b[0m\u001b[0;34m\u001b[0m\u001b[0;34m\u001b[0m\u001b[0m\n\u001b[0;32m---> 13\u001b[0;31m \u001b[0mplt\u001b[0m\u001b[0;34m.\u001b[0m\u001b[0mplot\u001b[0m\u001b[0;34m(\u001b[0m\u001b[0mdf18\u001b[0m\u001b[0;34m.\u001b[0m\u001b[0mDate\u001b[0m\u001b[0;34m,\u001b[0m\u001b[0mdf18\u001b[0m\u001b[0;34m.\u001b[0m\u001b[0mcum_GDD\u001b[0m\u001b[0;34m,\u001b[0m \u001b[0;34m'k'\u001b[0m\u001b[0;34m)\u001b[0m\u001b[0;34m\u001b[0m\u001b[0;34m\u001b[0m\u001b[0m\n\u001b[0m\u001b[1;32m     14\u001b[0m \u001b[0mplt\u001b[0m\u001b[0;34m.\u001b[0m\u001b[0mylabel\u001b[0m\u001b[0;34m(\u001b[0m\u001b[0;34m'GDD'\u001b[0m\u001b[0;34m,\u001b[0m \u001b[0mfontsize\u001b[0m \u001b[0;34m=\u001b[0m\u001b[0;36m24\u001b[0m\u001b[0;34m)\u001b[0m\u001b[0;34m\u001b[0m\u001b[0;34m\u001b[0m\u001b[0m\n\u001b[1;32m     15\u001b[0m \u001b[0mplt\u001b[0m\u001b[0;34m.\u001b[0m\u001b[0mxticks\u001b[0m\u001b[0;34m(\u001b[0m\u001b[0mrotation\u001b[0m\u001b[0;34m=\u001b[0m\u001b[0;36m60\u001b[0m\u001b[0;34m)\u001b[0m\u001b[0;34m\u001b[0m\u001b[0;34m\u001b[0m\u001b[0m\n",
      "\u001b[0;31mNameError\u001b[0m: name 'df18' is not defined"
     ]
    },
    {
     "data": {
      "image/png": "[encoded data removed]",
      "text/plain": [
       "<Figure size 864x1008 with 1 Axes>"
      ]
     },
     "metadata": {
      "needs_background": "light"
     },
     "output_type": "display_data"
    }
   ],
   "source": [
    "#size plot\n",
    "plt.figure(figsize=(12,14))\n",
    "\n",
    "\n",
    "#plot 2017 Data\n",
    "plt.subplot(2,1,2)\n",
    "plt.plot(df17.Date,df17.cum_GDD)\n",
    "plt.ylabel('GDD', fontsize =24)\n",
    "plt.xticks(rotation=60)\n",
    "\n",
    "#plot 2018 Data\n",
    "plt.subplot(2,1,2)\n",
    "plt.plot(df18.Date,df18.cum_GDD, 'k')\n",
    "plt.ylabel('GDD', fontsize =24)\n",
    "plt.xticks(rotation=60)\n",
    "\n",
    "#plot stage prediction lines\n",
    "plt.plot(df17.Date, df17.Tillering, '--y')\n",
    "plt.plot(df17.Date, df17.Flower, '--k')\n",
    "plt.plot(df17.Date, df17.GrainFill, '--r')\n",
    "plt.plot(df18.Date, df18.Tillering, '--y')\n",
    "plt.plot(df18.Date, df18.Flower, '--k')\n",
    "plt.plot(df18.Date, df18.GrainFill, '--r')\n",
    "\n",
    "\n",
    "# edit plot\n",
    "plt.title('GDD Comparison by Year', size=24)\n",
    "\n",
    "plt.legend(['17-GDD','18-GDD','Tillering Est.','Flowering Est.', 'Grain Fill Est.'], loc=2)\n",
    "plt.show()"
   ]
  },
  {
   "cell_type": "code",
   "execution_count": null,
   "metadata": {},
   "outputs": [],
   "source": []
  },
  {
   "cell_type": "code",
   "execution_count": null,
   "metadata": {},
   "outputs": [],
   "source": []
  }
 ],
 "metadata": {
  "kernelspec": {
   "display_name": "Python 3",
   "language": "python",
   "name": "python3"
  },
  "language_info": {
   "codemirror_mode": {
    "name": "ipython",
    "version": 3
   },
   "file_extension": ".py",
   "mimetype": "text/x-python",
   "name": "python",
   "nbconvert_exporter": "python",
   "pygments_lexer": "ipython3",
   "version": "3.7.1"
  }
 },
 "nbformat": 4,
 "nbformat_minor": 2
}
