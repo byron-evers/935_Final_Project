{
 "cells": [
  {
   "cell_type": "markdown",
   "metadata": {},
   "source": [
    "# Calculating thermal time indices and merging UAV data.\n",
    "\n",
    "**Name**: Byron Evers<br/>\n",
    "**Semester**: Spring 2019 <br/>\n",
    "**Project area**: Agronomy"
   ]
  },
  {
   "cell_type": "markdown",
   "metadata": {},
   "source": [
    "## Motivation\n",
    "- Poland labs current UAV pipeline includes stitching photos and extracting plot level reflectance data through Agisoft software.\n",
    "- Data received from this process is in either an Excel or csv file. \n",
    "- The data set includes reflectance values for 5 individual bands (R,G,B,RE and NIR) and 3 vegetative indices (NDVI, NDRE and GNDVI). \n",
    "- Currently a wide range of time scales are used for UAV data analysis. \n",
    "    * Days after planting\n",
    "    * Day of Year\n",
    "    * Thermal Time"
   ]
  },
  {
   "cell_type": "markdown",
   "metadata": {},
   "source": [
    "<a name=\"BJE_objective\"></a>\n",
    "## Objective\n",
    "\n",
    "1. Write a python function to calculate three thermal time indices for all UAV collection dates\n",
    "    * growing degree days (GDD)\n",
    "    * physiological days (Pdays)\n",
    "    * biometeorological time (BMT) \n",
    "2. Merge all of the UAV reflectance data, plot level phenotypic data and the calculated thermal values into one .csv file.\n",
    "\n",
    "**I would like to emphasize that the goal of this project is to create a single output file with UAV data and thermal time indices.**"
   ]
  },
  {
   "cell_type": "markdown",
   "metadata": {},
   "source": [
    "<a name=\"BJE_step1\"></a>\n",
    "# Step 1: Import needed modules\n",
    "To run ephm you may need to install it first. To do this please run **pip install ephem** command line or execute the cell bellow."
   ]
  },
  {
   "cell_type": "code",
   "execution_count": 3,
   "metadata": {},
   "outputs": [
    {
     "name": "stdout",
     "output_type": "stream",
     "text": [
      "Requirement already satisfied: ephem in /Users/bevers/anaconda3/lib/python3.7/site-packages (3.7.6.0)\n"
     ]
    }
   ],
   "source": [
    "!pip install ephem"
   ]
  },
  {
   "cell_type": "code",
   "execution_count": 4,
   "metadata": {},
   "outputs": [],
   "source": [
    "import pandas as pd\n",
    "import numpy as np\n",
    "import datetime\n",
    "import ephem\n",
    "import matplotlib.pyplot as plt\n",
    "%matplotlib inline"
   ]
  },
  {
   "cell_type": "markdown",
   "metadata": {},
   "source": [
    "<a name=\"BJE_step2\"></a>\n",
    "# Step 2: Download Data from the KSU Mesonet. \n",
    "* daily\n",
    "* root = 'http://mesonet.k-state.edu/rest/stationdata/?'\n",
    "* stn = 'Manhattan'\n",
    "* start_time = \"20140101000000\" \n",
    "* end_time =  datetime.datetime.now().strftime('%Y%m%d%H%M%S') "
   ]
  },
  {
   "cell_type": "markdown",
   "metadata": {},
   "source": [
    "# Step 3: Format Data Frame \n",
    "* Date- class 'pandas._libs.tslibs.timestamps.Timestamp'\n",
    "* Station- class 'str'\n",
    "* Min daily temperature- class 'numpy.float64'\n",
    "* Max daily temperature- class 'numpy.float64'\n",
    "     "
   ]
  },
  {
   "cell_type": "markdown",
   "metadata": {},
   "source": [
    "# Step 4: Define User Inputs\n",
    "* The inputs needed are;\n",
    "    * plantDate- YYYY-mm-dd\n",
    "    * harvestDate- YYYY-mm-dd\n",
    "    * lat- decimal degree latitude \n",
    "    * long- decimal degree longitude \n",
    "    * tbase- base temperature for the crop in degrees C, 5<sup>o</sup>C for this example\n",
    "    * topt- optimumn growing temperature for the crop in degrees C. 17<sup>o</sup>C for this example\n",
    "    * tmax- maximum growing temperature for the crop in degrees C. 30<sup>o</sup>C for this example\n",
    "    * k- scale factor for the Pdays equation. This maybe be edited for other crops. \n",
    "    \n",
    "**All of these parameters are designed so that users can adjust them to fit the needs of the individual project**"
   ]
  },
  {
   "cell_type": "markdown",
   "metadata": {},
   "source": [
    "# Step 5: Calculate Photoperiod\n",
    "\n",
    "To complete this the ephem module is used. The output is displayed as decimal hours with the times of sunrise and sunset on a 24 hour clock. Date frame must have the following columns;\n",
    "* Date\n",
    "* lat\n",
    "* long"
   ]
  },
  {
   "cell_type": "code",
   "execution_count": 5,
   "metadata": {},
   "outputs": [
    {
     "ename": "NameError",
     "evalue": "name 'long' is not defined",
     "output_type": "error",
     "traceback": [
      "\u001b[0;31m---------------------------------------------------------------------------\u001b[0m",
      "\u001b[0;31mNameError\u001b[0m                                 Traceback (most recent call last)",
      "\u001b[0;32m<ipython-input-5-ef62dfd7e236>\u001b[0m in \u001b[0;36m<module>\u001b[0;34m\u001b[0m\n\u001b[1;32m      1\u001b[0m \u001b[0mobs\u001b[0m \u001b[0;34m=\u001b[0m \u001b[0mephem\u001b[0m\u001b[0;34m.\u001b[0m\u001b[0mObserver\u001b[0m\u001b[0;34m(\u001b[0m\u001b[0;34m)\u001b[0m\u001b[0;34m\u001b[0m\u001b[0;34m\u001b[0m\u001b[0m\n\u001b[0;32m----> 2\u001b[0;31m \u001b[0mobs\u001b[0m\u001b[0;34m.\u001b[0m\u001b[0mlong\u001b[0m \u001b[0;34m=\u001b[0m \u001b[0mephem\u001b[0m\u001b[0;34m.\u001b[0m\u001b[0mdegrees\u001b[0m\u001b[0;34m(\u001b[0m\u001b[0mlong\u001b[0m\u001b[0;34m)\u001b[0m\u001b[0;34m\u001b[0m\u001b[0;34m\u001b[0m\u001b[0m\n\u001b[0m\u001b[1;32m      3\u001b[0m \u001b[0mobs\u001b[0m\u001b[0;34m.\u001b[0m\u001b[0mlat\u001b[0m \u001b[0;34m=\u001b[0m \u001b[0mephem\u001b[0m\u001b[0;34m.\u001b[0m\u001b[0mdegrees\u001b[0m\u001b[0;34m(\u001b[0m\u001b[0mlat\u001b[0m\u001b[0;34m)\u001b[0m\u001b[0;34m\u001b[0m\u001b[0;34m\u001b[0m\u001b[0m\n\u001b[1;32m      4\u001b[0m \u001b[0mdate\u001b[0m \u001b[0;34m=\u001b[0m  \u001b[0mdf\u001b[0m\u001b[0;34m[\u001b[0m\u001b[0;34m'Date'\u001b[0m\u001b[0;34m]\u001b[0m\u001b[0;34m.\u001b[0m\u001b[0mdt\u001b[0m\u001b[0;34m.\u001b[0m\u001b[0mstrftime\u001b[0m\u001b[0;34m(\u001b[0m\u001b[0;34m'%Y/%m/%d'\u001b[0m\u001b[0;34m)\u001b[0m\u001b[0;34m\u001b[0m\u001b[0;34m\u001b[0m\u001b[0m\n\u001b[1;32m      5\u001b[0m \u001b[0msun\u001b[0m \u001b[0;34m=\u001b[0m \u001b[0mephem\u001b[0m\u001b[0;34m.\u001b[0m\u001b[0mSun\u001b[0m\u001b[0;34m(\u001b[0m\u001b[0mobs\u001b[0m\u001b[0;34m)\u001b[0m\u001b[0;34m\u001b[0m\u001b[0;34m\u001b[0m\u001b[0m\n",
      "\u001b[0;31mNameError\u001b[0m: name 'long' is not defined"
     ]
    }
   ],
   "source": [
    "obs = ephem.Observer()\n",
    "obs.long = ephem.degrees(long)\n",
    "obs.lat = ephem.degrees(lat)\n",
    "date =  df['Date'].dt.strftime('%Y/%m/%d')\n",
    "sun = ephem.Sun(obs)\n",
    "\n",
    "rise_data=[]\n",
    "set_data=[]\n",
    "photoperiod_data=[]\n",
    "\n",
    "for i in date:\n",
    "    obs.date = ephem.Date(i)\n",
    "    r1 = obs.next_rising(sun)\n",
    "    s1 = obs.next_setting(sun)\n",
    "    r1_lt = ephem.Date(r1 - 5 * ephem.hour) #local time \n",
    "    (y, mn, d, h, min, s) = r1_lt.tuple()\n",
    "    rise = ( h + min/60. + s/3600. )\n",
    "    s1_lt = ephem.Date(s1 - 5 * ephem.hour) #local time\n",
    "    (y, mn, d, h, min, s) = s1_lt.tuple()\n",
    "    sunset = ( h + min/60. + s/3600. )\n",
    "    photoperiod=sunset-rise\n",
    "    rise_data.append(rise)\n",
    "    set_data.append(sunset)\n",
    "    photoperiod_data.append(photoperiod)\n",
    "    df['Sunrise']= pd.DataFrame(rise_data)\n",
    "    df['Sunset']= pd.DataFrame(set_data)\n",
    "    df['PhotoPeriod']= pd.DataFrame(photoperiod_data)   \n",
    "df.head(5)    "
   ]
  },
  {
   "cell_type": "markdown",
   "metadata": {},
   "source": [
    "<img src=\"Fig/photoperiod.png\" alt=\"sketch_image\" width=\"600\"/>"
   ]
  },
  {
   "cell_type": "markdown",
   "metadata": {},
   "source": [
    "# Step 6: Define Growing Season"
   ]
  },
  {
   "cell_type": "code",
   "execution_count": null,
   "metadata": {},
   "outputs": [],
   "source": [
    "def Growing_season (plant, harvest, df):\n",
    "    \"\"\"\n",
    "    Sets the growing season form plant to harvest for each growing season \n",
    "   \n",
    "     Input: Requires three inputs;\n",
    "    1. harvest date string formatted as 'YYYY-MM-DD' this can be in the form of a stored variable or a direct string input\n",
    "    2. Harvest date, string, formatted as 'YYYY-MM-DD' this can be in the form of a stored variable or a direct string input\n",
    "    3. Pandas data frame with required date column formatted as 'YYYY-MM-DD'\n",
    "    \n",
    "    Output: Pandas data frame. With the dates of the growing season of interest. Recommend to save the ouput as a variable\n",
    "        \n",
    "    Byron Evers\n",
    "    \n",
    "    2019-03-06 \n",
    "    \"\"\"\n",
    "    plant = np.datetime64(plant)\n",
    "    harvest = np.datetime64(harvest)\n",
    "    min_date = df.Date.min()\n",
    "    min_date = min_date.to_datetime64()\n",
    "    max_date = df.Date.max()\n",
    "    max_date = max_date.to_datetime64()\n",
    "    if min_date > plant:\n",
    "        print('The planting date ' +str(plant)+' is beyond the range of the Mesonet data. The mesonet data goes from ' + str(df.Date.min())+ \" to \" + str(df.Date.max()))\n",
    "        return('The harvest date ' +str(plant)+' is beyond the range of the Mesonet data. The mesonet data goes from ' + str(df.Date.min())+ \" to \" + str(df.Date.max()))\n",
    "    if min_date > harvest:\n",
    "        print('The harvest date ' +str(harvest)+' is beyond the range of the Mesonet data. The mesonet data goes from ' + str(df.Date.min())+ \" to \" + str(df.Date.max()))\n",
    "        return('The harvest date ' +str(harvest)+' is beyond the range of the Mesonet data. The mesonet data goes from ' + str(df.Date.min())+ \" to \" + str(df.Date.max()))\n",
    "    if max_date < harvest:\n",
    "        print('The harvest date ' +str(harvest)+' is beyond the range of the Mesonet data. The mesonet data goes from ' + str(df.Date.min())+ \" to \" + str(df.Date.max()))\n",
    "        return('The harvest date ' +str(harvest)+' is beyond the range of the Mesonet data. The mesonet data goes from ' + str(df.Date.min())+ \" to \" + str(df.Date.max()))\n",
    "    if max_date < plant:\n",
    "        print('The planting date ' +str(plant)+' is beyond the range of the Mesonet data. The mesonet data goes from ' + str(df.Date.min())+ \" to \" + str(df.Date.max()))\n",
    "        return('The planting date ' +str(plant)+' is beyond the range of the Mesonet data. The mesonet data goes from ' + str(df.Date.min())+ \" to \" + str(df.Date.max()))\n",
    "    df = df.drop(df[df.Date < plant].index)\n",
    "    df = df.drop(df[df.Date > harvest].index)\n",
    "    return df"
   ]
  },
  {
   "cell_type": "code",
   "execution_count": null,
   "metadata": {},
   "outputs": [],
   "source": [
    "#Call the function and store the data as a new data frame. In this example two data frames are created,df17 and df18, for the 2017 and 2018 winter wheat growing season\n",
    "df17 = Growing_season('1916-10-17','2017-06-21',df)\n",
    "df18 = Growing_season(plantDate,harvestDate,df)\n",
    "# For df17 date as a string was used where as df18 used the stored variable from input cell. \n",
    "#This is just to demonstrate that either format is accepted with this function."
   ]
  },
  {
   "cell_type": "markdown",
   "metadata": {},
   "source": [
    "The planting date 1916-10-17 is beyond the range of the Mesonet data. The mesonet data goes from 2014-01-02 00:00:00 to 2019-04-14 00:00:00"
   ]
  },
  {
   "cell_type": "markdown",
   "metadata": {},
   "source": [
    "# Step 7: Calculate GDD\n",
    "* Tmax= daily maximum temperature\n",
    "* Tmin= daily minimum temperature\n",
    "* Tbase= base growing temperature for given crop\n",
    "* Date = date of collection\n",
    "$$GDD = \\sum_{Planting}^{Harvest}(\\frac{Tmax+Tmin}{2})-Tbase$$"
   ]
  },
  {
   "cell_type": "markdown",
   "metadata": {},
   "source": [
    "# Step 8: Calculate Pdays \n",
    "* Tmax= daily maximum temperature\n",
    "* Tmin= daily minimum temperature\n",
    "* Tbase= base growing temperature for given crop\n",
    "* topt= optimum growing temperature for given crop\n",
    "* tmax= maximum growing temperature for given crop\n",
    "* Date = date of collection\n",
    "* k= scale factor\n",
    "$$Pdays = \\frac{1}{24}(5*P(T_1)+8*P(T_2)+8*P(T_3)+3*P(T_4))$$\n",
    "**Where**\n",
    "* $T_1=Tmin$\n",
    "* $T_2=\\frac{(2*Tmin)+Tmax}{3}$\n",
    "* $T_3=\\frac{Tmin+(2*Tmax)}{3}$\n",
    "* $T_4=Tmax$\n",
    "\n",
    "**And P is**\n",
    "* $P=0$   When $T <=Tmin$\n",
    "* $P=k*(1-\\frac{(T-Topt)2}{(Topt-Tmin)2})$ when $Tmin <= T <=Topt$\n",
    "* $P=k*(1-\\frac{(T-Topt)2}{(Tmax-Topt)2})$ when $Topt <= T <=Tmax$\n",
    "* $P=0$ when $T >=Tmax$\n",
    "\n",
    "**And k is**\n",
    "* $P=0$   When $T <=Tmin$"
   ]
  },
  {
   "cell_type": "markdown",
   "metadata": {},
   "source": [
    "# Step 9: Calculate BMT\n",
    "* par = dictonary of coefficents for each stage of development\n",
    "* Tmax= daily maximum temperature\n",
    "* Tmin= daily minimum temperature\n",
    "* PhotoPeriod=daily photo period\n",
    "* Date = date of collection\n",
    "        "
   ]
  },
  {
   "cell_type": "markdown",
   "metadata": {},
   "source": [
    "<a name=\"BJE_BMT\"></a>\n",
    "### Biometeorological Time\n",
    "$$BMT = \\sum_{Planting}^{Harvest}[a_1(L-a_0) + a_2(L-a_0)^2* {[b_1(Tmax-b_0) + b_2(Tmax-b_0)^2}+{d_1(Tmin-b_0) + d_2(Tmin-b_0)^2]}$$\n",
    "or for simplicity:\n",
    "$$BMT = \\sum_{Planting}^{Harvest}V_1 {(V_2}+{V_3)}$$\n",
    "**Where**\n",
    "* $L$= daily photoperiod\n",
    "* $a_0$= base daylength\n",
    "* $b_0$= base temperature\n",
    "* $a_1, a_2, b_1, b_2, d_1, d_2$ are response coefficients\n",
    "    * For this project I used the coefficents detailed by Robertson (1968)"
   ]
  },
  {
   "cell_type": "code",
   "execution_count": 6,
   "metadata": {},
   "outputs": [],
   "source": [
    "par = {'a0':0,'a1':0,'a2':0,'b0':0,'b1':0,'b2':0,'d1':0,'d2':0,\n",
    "       'a0_PE':8.413,'a1_PE':1.005,'a2_PE':0,'b0_PE':0,'b1_PE':0.003512,'b2_PE':0.00005026,'d1_PE':0.000366,'d2_PE':0.000004282,\n",
    "       'a0_EJ':9.413,'a1_EJ':1.005,'a2_EJ':0,'b0_EJ':0,'b1_EJ':0.003512,'b2_EJ':0.00005026,'d1_EJ':0.000366,'d2_EJ':0.000004282,\n",
    "       'a0_JH':10.93,'a1_JH':0.9256,'a2_JH':0.06025,'b0_JH':0,'b1_JH':0.0002958,'b2_JH':0,'d1_JH':0.0003943,'d2_JH':0,\n",
    "       'a0_HS':10.94,'a1_HS':1.389,'a2_HS':1,'b0_HS':0,'b1_HS':0.004458,'b2_HS':0,'d1_HS':0.00003109,'d2_HS':0,\n",
    "       'a0_SR':14.38,'a1_SR':1.614,'a2_SR':1,'b0_SR':0,'b1_SR':0.007733,'b2_SR':0,'d1_SR':0.0003442,'d2_SR':0,}"
   ]
  },
  {
   "cell_type": "code",
   "execution_count": 10,
   "metadata": {},
   "outputs": [],
   "source": [
    "def BMT (par,df):\n",
    "    \"\"\"\n",
    "    Calculates an individual and cumulative value for BMT for each day in the data frame\n",
    "    \n",
    "    Input: Pandas data frame. Minimum required columns include:\n",
    "        par = dictonary of coefficents for each stage of development\n",
    "        Tmax= daily maximum temperature\n",
    "        Tmin= daily minimum temperature\n",
    "        PhotoPeriod=daily photo period\n",
    "        Date = date of collection\n",
    "        \n",
    "        \n",
    "    Output: Pandas data frame. In addition, the columns in the data frame input two additional columns will be calculated and added:\n",
    "        BMT= The BMT value for that individual day\n",
    "        cum_BMT = The cumulative BMT value for all days in the designated growing period.\n",
    "    \n",
    "    Byron Evers\n",
    "    \n",
    "    2019-05-05\n",
    "    \"\"\"\n",
    "    BMT=[0]*len(df)\n",
    "    cum_BMT=[0]*len(df)\n",
    "    for i in range(1,len(df)):\n",
    "        if cum_BMT[i-1] < 1:\n",
    "            par['a0']=par['a0_PE']\n",
    "            par['a1']=par['a1_PE']\n",
    "            par['a2']=par['a2_PE']\n",
    "            par['b0']=par['b0_PE']\n",
    "            par['b1']=par['b1_PE']\n",
    "            par['b2']=par['b2_PE']\n",
    "            par['d1']=par['d1_PE']\n",
    "            par['d2']=par['d2_PE']\n",
    "        elif cum_BMT[i-1] >= 1 and cum_BMT[i-1]< 2:\n",
    "            par['a0']=par['a0_EJ']\n",
    "            par['a1']=par['a1_EJ']\n",
    "            par['a2']=par['a2_EJ']\n",
    "            par['b0']=par['b0_EJ']\n",
    "            par['b1']=par['b1_EJ']\n",
    "            par['b2']=par['b2_EJ']\n",
    "            par['d1']=par['d1_EJ']\n",
    "            par['d2']=par['d2_EJ']\n",
    "        elif cum_BMT[i-1] >= 2 and cum_BMT[i-1]< 2.5:\n",
    "            par['a0']=par['a0_JH']\n",
    "            par['a1']=par['a1_JH']\n",
    "            par['a2']=par['a2_JH']\n",
    "            par['b0']=par['b0_JH']\n",
    "            par['b1']=par['b1_JH']\n",
    "            par['b2']=par['b2_JH']\n",
    "            par['d1']=par['d1_JH']\n",
    "            par['d2']=par['d2_JH']\n",
    "        elif cum_BMT[i-1] >= 2.5 and cum_BMT[i-1]< 3:\n",
    "            par['a0']=par['a0_HS']\n",
    "            par['a1']=par['a1_HS']\n",
    "            par['a2']=par['a2_HS']\n",
    "            par['b0']=par['b0_HS']\n",
    "            par['b1']=par['b1_HS']\n",
    "            par['b2']=par['b2_HS']\n",
    "            par['d1']=par['d1_HS']\n",
    "            par['d2']=par['d2_HS']  \n",
    "        else: \n",
    "            par['a0']=par['a0_SR']\n",
    "            par['a1']=par['a1_SR']\n",
    "            par['a2']=par['a2_SR']\n",
    "            par['b0']=par['b0_SR']\n",
    "            par['b1']=par['b1_SR']\n",
    "            par['b2']=par['b2_SR']\n",
    "            par['d1']=par['d1_SR']\n",
    "            par['d2']=par['d2_SR']\n",
    "        \n",
    "        photo =df.PhotoPeriod\n",
    "        photo= np.where(photo < 0,0,photo)\n",
    "        tmax =df.Tmax\n",
    "        tmax= np.where(tmax < 0,0,tmax)\n",
    "        tmin =df.Tmin\n",
    "        tmin= np.where(tmin < 0,0,tmin)\n",
    "        if cum_BMT[i-1] < 0.25:\n",
    "            v1=1\n",
    "        else:\n",
    "            v1=abs((par['a1']*(photo[i]-par['a0'])+(par['a2']*((photo[i]-par['a0'])**2))))\n",
    "        v2=(par['b1']*(tmin[i]-par['b0'])+(par['b2']*((tmin[i]-par['b0'])**2)))\n",
    "        v3=(par['d1']*(tmin[i]-par['b0'])+(par['d2']*((tmin[i]-par['b0'])**2)))\n",
    "        BMT[i]=(v1*(v2+v3))\n",
    "\n",
    "        T=cum_BMT[i-1]+BMT[i]\n",
    "        cum_BMT[i]=T\n",
    "    df['BMT']=BMT  \n",
    "    df['cum_BMT']=cum_BMT   \n",
    "    return df"
   ]
  },
  {
   "cell_type": "markdown",
   "metadata": {},
   "source": [
    "# Step 10: Graph Results\n",
    "Graphing the data allows for visual comparison. However, as stated in Step 9 the scale of the three thermal time indices are not equivalent. Therefore, when comparing the three indices a scale factor was needed. For this project the scale created was defined as;\n",
    "\n",
    "$$scale = \\frac{cumGDD.max()}{cumBMT.max()}$$"
   ]
  },
  {
   "cell_type": "markdown",
   "metadata": {},
   "source": [
    "<img src=\"Fig/graph.png\" alt=\"sketch_image\" width=\"800\"/>"
   ]
  },
  {
   "cell_type": "markdown",
   "metadata": {},
   "source": [
    "# Step 11: Merge UAV and Thermal Time Index\n",
    "* Merge UAV data and thermal time indices by \"Date\""
   ]
  },
  {
   "cell_type": "markdown",
   "metadata": {},
   "source": [
    "<img src=\"Fig/finaldf.png\" alt=\"sketch_image\" width=\"800\"/>"
   ]
  },
  {
   "cell_type": "markdown",
   "metadata": {},
   "source": [
    "## Conclusions\n",
    "* Functions for all three indices are operational\n",
    "* Code with in the functions needs to be optimized\n",
    "* I would like to explore other thermal indices and collect additional field data to choose the best index to model time series reflectance data"
   ]
  }
 ],
 "metadata": {
  "kernelspec": {
   "display_name": "Python 3",
   "language": "python",
   "name": "python3"
  },
  "language_info": {
   "codemirror_mode": {
    "name": "ipython",
    "version": 3
   },
   "file_extension": ".py",
   "mimetype": "text/x-python",
   "name": "python",
   "nbconvert_exporter": "python",
   "pygments_lexer": "ipython3",
   "version": "3.7.1"
  }
 },
 "nbformat": 4,
 "nbformat_minor": 2
}
