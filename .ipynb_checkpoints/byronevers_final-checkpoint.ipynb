{
 "cells": [
  {
   "cell_type": "markdown",
   "metadata": {},
   "source": [
    "# Calculating thermal time indices and merging UAV data.\n",
    "\n",
    "**Name**: Byron Evers<br/>\n",
    "**Semester**: Spring 2019 <br/>\n",
    "**Project area**: Agronomy"
   ]
  },
  {
   "cell_type": "markdown",
   "metadata": {},
   "source": [
    "## Table of contents\n",
    "1. [Motivation](#BJE_motivation)\n",
    "2. [Objective](#BJE_objective)\n",
    "3. [Equations](#BJE_equations)\n",
    "    * [GDD](#BJE_GDD)\n",
    "    * [Pdays](#BJE_Pdays)\n",
    "    * [BMT](#BJE_BMT)\n",
    "4. [Project Steps](#BJE_examples)\n",
    "    * [Step 1: Import Modules](#BJE_step1)\n",
    "    * [Step 2: Download Data](#BJE_step2)\n",
    "    * [Step 3: Format Data Frame](#BJE_step3)\n",
    "    * [Step 4: Define User Inputs](#BJE_step4)\n",
    "    * [Step 5: Calculate Photoperiod](#BJE_step5)\n",
    "    * [Step 6: Define Growing Season](#BJE_step6)\n",
    "    * [Step 7: Calculate GDD](#BJE_step7)\n",
    "    * [Step 8: Calculate Pdays ](#BJE_step8)\n",
    "    * [Step 9: Calculate BMT](#BJE_step9)\n",
    "    * [Step 10: Graph Results](#BJE_step10)\n",
    "    * [Step 11: Merge UAV and Thermal Time Index](#BJE_step11)\n",
    "5. [Conclusions](#BJE_conclusions)\n",
    "6. [Self Evaluation](#BJE_self)\n",
    "7. [References](#BJE_ref)"
   ]
  },
  {
   "cell_type": "markdown",
   "metadata": {},
   "source": [
    "<a name=\"BJE_motivation\"></a>\n",
    "## Motivation\n",
    "- Poland labs current UAV pipeline includes stitching photos and extracting plot level reflectance data through Agisoft software.\n",
    "- Data received from this process is in either an Excel or csv file. \n",
    "- The data set includes reflectance values for 5 individual bands (R,G,B,RE and NIR) and 3 vegetative indices (NDVI, NDRE and GNDVI). \n",
    "- Currently a wide range of time scales are used for UAV data analysis. \n",
    "    * Days after planting\n",
    "    * Day of Year\n",
    "    * Thermal Time\n",
    "        * GDD\n",
    "        * Pdays\n",
    "        * BMT\n",
    "        \n",
    "Thermal time indices are important for data analysis between years. However, how thermal time is calculated can also influence reflectance data. Using set values such as a base temperature, maximum temperature and optimum temperature all effect thermal time. Additionally, photo period can also affect the growing stage in many crops. Typically, wheat is not as photo period dependent but in crops such as soybeans it can heavily influence crop development. For this project three thermal time indices were chosen to further explore the differences between these indices."
   ]
  },
  {
   "cell_type": "markdown",
   "metadata": {},
   "source": [
    "<a name=\"BJE_objective\"></a>\n",
    "## Objective\n",
    "\n",
    "1. Write a python function to calculate three thermal time indices for all UAV collection dates\n",
    "    * growing degree days (GDD)\n",
    "    * physiological days (Pdays)\n",
    "    * biometeorological time (BMT) \n",
    "2. Merge all of the UAV reflectance data, plot level phenotypic data and the calculated thermal values into one .csv file.\n",
    "\n",
    "**I would like to emphasize that the goal of this project is to create a single output file with UAV data and thermal time indices. Calculating UAV indices such as NDVI is already completed by this point. The diagram bellow shows the outline of the entire process. However only steps in green are the objectives of this project.**"
   ]
  },
  {
   "cell_type": "markdown",
   "metadata": {},
   "source": [
    "<img src= \"Fig/diagram.png\" alt=\"sketch_image\" width=\"1000\"/>"
   ]
  },
  {
   "cell_type": "markdown",
   "metadata": {},
   "source": [
    "<a name=\"BJE_equations\"></a>\n",
    "## Equations"
   ]
  },
  {
   "cell_type": "markdown",
   "metadata": {},
   "source": [
    "<a name=\"BJE_GDD\"></a>\n",
    "### Growing Degree Days (GDD):\n",
    "$$GDD = \\sum_{Planting}^{Harvest}(\\frac{Tmax+Tmin}{2})-Tbase$$"
   ]
  },
  {
   "cell_type": "markdown",
   "metadata": {},
   "source": [
    "<a name=\"BJE_Pdays\"></a>\n",
    "### Physiological Days (Pdays):\n",
    "$$Pdays = \\frac{1}{24}(5*P(T_1)+8*P(T_2)+8*P(T_3)+3*P(T_4))$$\n",
    "**Where**\n",
    "* $T_1=Tmin$\n",
    "* $T_2=\\frac{(2*Tmin)+Tmax}{3}$\n",
    "* $T_3=\\frac{Tmin+(2*Tmax)}{3}$\n",
    "* $T_4=Tmax$\n",
    "\n",
    "**And P is**\n",
    "* $P=0$   When $T <=Tmin$\n",
    "* $P=k*(1-\\frac{(T-Topt)2}{(Topt-Tmin)2})$ when $Tmin <= T <=Topt$\n",
    "* $P=k*(1-\\frac{(T-Topt)2}{(Tmax-Topt)2})$ when $Topt <= T <=Tmax$\n",
    "* $P=0$ when $T >=Tmax$\n",
    "\n",
    "**And k is**\n",
    "* $P=0$   When $T <=Tmin$"
   ]
  },
  {
   "cell_type": "markdown",
   "metadata": {},
   "source": [
    "<a name=\"BJE_BMT\"></a>\n",
    "### Biometeorological Time\n",
    "$$BMT = \\sum_{Planting}^{Harvest}[a_1(L-a_0) + a_2(L-a_0)^2* {[b_1(Tmax-b_0) + b_2(Tmax-b_0)^2}+{d_1(Tmin-b_0) + d_2(Tmin-b_0)^2]}$$\n",
    "or for simplicity:\n",
    "$$BMT = \\sum_{Planting}^{Harvest}V_1 {(V_2}+{V_3)}$$\n",
    "**Where**\n",
    "* $L$= daily photoperiod\n",
    "* $a_0$= base daylength\n",
    "* $b_0$= base temperature\n",
    "* $a_1, a_2, b_1, b_2, d_1, d_2$ are response coefficients\n",
    "    * For this project I used the coefficents detailed by Robertson (1968)"
   ]
  },
  {
   "cell_type": "markdown",
   "metadata": {},
   "source": [
    "<a name=\"BJE_examples\"></a>\n",
    "## Examples and Operational Code\n",
    "\n",
    "Thank you for reviewing my project and I appreciate any feedback you can provide. This is a fully functional version that pulls data from KSU Mesonet. If for some reason KSU Mesonet is not working I do have a .csv file with weather data save in the data folder. \n",
    "<a name=\"BJE_step1\"></a>\n",
    "# Step 1: Import needed modules\n",
    "To run ephm you may need to install it first. To do this please run **pip install ephem** command line or execute the cell bellow."
   ]
  },
  {
   "cell_type": "code",
   "execution_count": 26,
   "metadata": {},
   "outputs": [
    {
     "name": "stdout",
     "output_type": "stream",
     "text": [
      "Requirement already satisfied: ephem in /Users/bevers/anaconda3/lib/python3.7/site-packages (3.7.6.0)\n"
     ]
    }
   ],
   "source": [
    "!pip install ephem"
   ]
  },
  {
   "cell_type": "code",
   "execution_count": 27,
   "metadata": {},
   "outputs": [],
   "source": [
    "import pandas as pd\n",
    "import numpy as np\n",
    "import datetime\n",
    "import ephem\n",
    "import matplotlib.pyplot as plt\n",
    "%matplotlib inline"
   ]
  },
  {
   "cell_type": "markdown",
   "metadata": {},
   "source": [
    "<a name=\"BJE_step2\"></a>\n",
    "# Step 2: Download Data from the KSU Mesonet. \n",
    "* For this project I am only interested in day interval and there for it is hard coded in to the URL\n",
    "* Users should edit the stn variable to the station they desire. A list of stations is provided at; http://mesonet.k-state.edu/rest/stationnames/\n",
    "* Date searches must be formatted as YYYYmmddHHMMSS (year, month, day, hour, minute, second). \n",
    "* Currently the start date is 20140101000000, or Jan 1, 2014. Granted that is well beyond the scope of this project, is over kill and may slow the download process. However, I used this to demonstrate the power and time scale flexibility of this project. \n",
    "* Similar to the start time the end time, as it is set to the time the user executes the cell, is potentially not useful. However, again here I wanted to demonstrate another way to create inputs for the URL builder.\n",
    "* In sequential steps the large data frame will reduces to capture only date times of interest.\n",
    "* Additional documentation can be found at; http://mesonet.k-state.edu/rest/"
   ]
  },
  {
   "cell_type": "markdown",
   "metadata": {},
   "source": [
    "<a name=\"Update__inputs\"></a>"
   ]
  },
  {
   "cell_type": "code",
   "execution_count": 28,
   "metadata": {},
   "outputs": [],
   "source": [
    "# Set connection to KS Mesonet\n",
    "root = 'http://mesonet.k-state.edu/rest/stationdata/?'\n",
    "stn = 'Manhattan'\n",
    "start_time = \"20140101000000\" \n",
    "end_time =  datetime.datetime.now().strftime('%Y%m%d%H%M%S') "
   ]
  },
  {
   "cell_type": "code",
   "execution_count": 29,
   "metadata": {},
   "outputs": [
    {
     "data": {
      "text/plain": [
       "'http://mesonet.k-state.edu/rest/stationdata/?stn=Manhattan&int=day&t_start=20140101000000&t_end=20190507114939'"
      ]
     },
     "execution_count": 29,
     "metadata": {},
     "output_type": "execute_result"
    }
   ],
   "source": [
    "# Create url to mesonet\n",
    "url = root + \"stn=\"+stn+'&int=day'+'&t_start='+start_time+'&t_end='+end_time\n",
    "url #prints url so user can check format"
   ]
  },
  {
   "cell_type": "markdown",
   "metadata": {},
   "source": [
    "<span style=\"color:red\">**The cell below will pull data from KSU Mesonet. This works as long as the mesonet site is operational. Additionally, this can be slow depending on your internet connection, feel free to access data through the URL. However, there is a sample data set saved as a .txt that can be accessed in the cells bellow.**<span>"
   ]
  },
  {
   "cell_type": "code",
   "execution_count": 30,
   "metadata": {},
   "outputs": [
    {
     "name": "stdout",
     "output_type": "stream",
     "text": [
      "<class 'pandas.core.frame.DataFrame'>\n"
     ]
    },
    {
     "data": {
      "text/html": [
       "<div>\n",
       "<style scoped>\n",
       "    .dataframe tbody tr th:only-of-type {\n",
       "        vertical-align: middle;\n",
       "    }\n",
       "\n",
       "    .dataframe tbody tr th {\n",
       "        vertical-align: top;\n",
       "    }\n",
       "\n",
       "    .dataframe thead th {\n",
       "        text-align: right;\n",
       "    }\n",
       "</style>\n",
       "<table border=\"1\" class=\"dataframe\">\n",
       "  <thead>\n",
       "    <tr style=\"text-align: right;\">\n",
       "      <th></th>\n",
       "      <th>TIMESTAMP</th>\n",
       "      <th>STATION</th>\n",
       "      <th>PRESSUREAVG</th>\n",
       "      <th>PRESSUREMAX</th>\n",
       "      <th>PRESSUREMIN</th>\n",
       "      <th>SLPAVG</th>\n",
       "      <th>TEMP2MAVG</th>\n",
       "      <th>TEMP2MMIN</th>\n",
       "      <th>TEMP2MMAX</th>\n",
       "      <th>TEMP10MAVG</th>\n",
       "      <th>...</th>\n",
       "      <th>SOILVR20CM</th>\n",
       "      <th>SOILVR40CM</th>\n",
       "      <th>SOILVR50CM</th>\n",
       "      <th>SOILVR60CM</th>\n",
       "      <th>VWC5CM</th>\n",
       "      <th>VWC10CM</th>\n",
       "      <th>VWC20CM</th>\n",
       "      <th>VWC40CM</th>\n",
       "      <th>VWC50CM</th>\n",
       "      <th>VWC60CM</th>\n",
       "    </tr>\n",
       "  </thead>\n",
       "  <tbody>\n",
       "    <tr>\n",
       "      <th>0</th>\n",
       "      <td>2014-01-02 00:00:00</td>\n",
       "      <td>Manhattan</td>\n",
       "      <td>76.12</td>\n",
       "      <td>76.34</td>\n",
       "      <td>75.94</td>\n",
       "      <td>79.40</td>\n",
       "      <td>-8.75</td>\n",
       "      <td>-12.82</td>\n",
       "      <td>0.10</td>\n",
       "      <td>M</td>\n",
       "      <td>...</td>\n",
       "      <td>M</td>\n",
       "      <td>M</td>\n",
       "      <td>M</td>\n",
       "      <td>M</td>\n",
       "      <td>M</td>\n",
       "      <td>M</td>\n",
       "      <td>M</td>\n",
       "      <td>M</td>\n",
       "      <td>M</td>\n",
       "      <td>M</td>\n",
       "    </tr>\n",
       "    <tr>\n",
       "      <th>1</th>\n",
       "      <td>2014-01-03 00:00:00</td>\n",
       "      <td>Manhattan</td>\n",
       "      <td>76.36</td>\n",
       "      <td>76.52</td>\n",
       "      <td>76.14</td>\n",
       "      <td>79.75</td>\n",
       "      <td>-12.45</td>\n",
       "      <td>-17.79</td>\n",
       "      <td>-6.43</td>\n",
       "      <td>M</td>\n",
       "      <td>...</td>\n",
       "      <td>M</td>\n",
       "      <td>M</td>\n",
       "      <td>M</td>\n",
       "      <td>M</td>\n",
       "      <td>M</td>\n",
       "      <td>M</td>\n",
       "      <td>M</td>\n",
       "      <td>M</td>\n",
       "      <td>M</td>\n",
       "      <td>M</td>\n",
       "    </tr>\n",
       "  </tbody>\n",
       "</table>\n",
       "<p>2 rows × 73 columns</p>\n",
       "</div>"
      ],
      "text/plain": [
       "             TIMESTAMP    STATION  PRESSUREAVG  PRESSUREMAX  PRESSUREMIN  \\\n",
       "0  2014-01-02 00:00:00  Manhattan        76.12        76.34        75.94   \n",
       "1  2014-01-03 00:00:00  Manhattan        76.36        76.52        76.14   \n",
       "\n",
       "   SLPAVG  TEMP2MAVG  TEMP2MMIN  TEMP2MMAX TEMP10MAVG   ...    SOILVR20CM  \\\n",
       "0   79.40      -8.75     -12.82       0.10          M   ...             M   \n",
       "1   79.75     -12.45     -17.79      -6.43          M   ...             M   \n",
       "\n",
       "  SOILVR40CM  SOILVR50CM  SOILVR60CM  VWC5CM VWC10CM VWC20CM VWC40CM  VWC50CM  \\\n",
       "0          M           M           M       M       M       M       M        M   \n",
       "1          M           M           M       M       M       M       M        M   \n",
       "\n",
       "   VWC60CM  \n",
       "0        M  \n",
       "1        M  \n",
       "\n",
       "[2 rows x 73 columns]"
      ]
     },
     "execution_count": 30,
     "metadata": {},
     "output_type": "execute_result"
    }
   ],
   "source": [
    "df = pd.read_csv(url)\n",
    "print(type(df))\n",
    "df.head(2)"
   ]
  },
  {
   "cell_type": "markdown",
   "metadata": {},
   "source": [
    "<span style=\"color:red\">**If mesonet is working you can skip the next two cells. However, if mesonet is not working or if you want to try the remaining code with a stored source of code please continue.**<span>"
   ]
  },
  {
   "cell_type": "code",
   "execution_count": 31,
   "metadata": {},
   "outputs": [],
   "source": [
    "dirname = '/Users/bevers/Desktop/Coding/Thermal_Time_Indices/Data/' #change to the working directory where the data is stored\n",
    "filename ='Manhattan_mesonet.txt'"
   ]
  },
  {
   "cell_type": "code",
   "execution_count": 32,
   "metadata": {},
   "outputs": [
    {
     "name": "stdout",
     "output_type": "stream",
     "text": [
      "<class 'pandas.core.frame.DataFrame'>\n"
     ]
    }
   ],
   "source": [
    "df = pd.read_csv(dirname + filename)\n",
    "print(type(df))"
   ]
  },
  {
   "cell_type": "markdown",
   "metadata": {},
   "source": [
    "**df should now be a pandas.core.frame.DataFrame if not please try to re-upload the data either from the url or directly from the data folder. If you cannot get the data to load properly please contact me.**"
   ]
  },
  {
   "cell_type": "markdown",
   "metadata": {},
   "source": [
    "<a name=\"BJE_step3\"></a>\n",
    "# Step 3: Format Data Frame \n",
    "* For this project the only columns needs are;\n",
    "    * Date\n",
    "    * Station\n",
    "    * Min daily temperature\n",
    "    * Max daily temperature\n",
    "* The cell below selects those columns, renames the columns, interpolates data, reformats the data to the types needed and then shows a 5 row preview of the data. "
   ]
  },
  {
   "cell_type": "code",
   "execution_count": 33,
   "metadata": {},
   "outputs": [
    {
     "name": "stdout",
     "output_type": "stream",
     "text": [
      "<class 'numpy.float64'>\n"
     ]
    }
   ],
   "source": [
    "# Select colums you want and put in a dataframe\n",
    "df =df[['TIMESTAMP', 'STATION', 'TEMP2MMIN','TEMP2MMAX']] #selects columns needed\n",
    "df.rename(columns={'TIMESTAMP':'Date', 'TEMP2MMAX':'Tmax', 'TEMP2MMIN':'Tmin'}, inplace=True) #renames columns \n",
    "df['Date'] =  pd.to_datetime(df['Date'],format='%Y-%m-%d')\n",
    "df.head(5)\n",
    "print(type(df.Tmin[2]))"
   ]
  },
  {
   "cell_type": "code",
   "execution_count": 34,
   "metadata": {},
   "outputs": [
    {
     "name": "stdout",
     "output_type": "stream",
     "text": [
      "<class 'numpy.float64'>\n"
     ]
    }
   ],
   "source": [
    "print(type(df.Tmax[4]))"
   ]
  },
  {
   "cell_type": "markdown",
   "metadata": {},
   "source": [
    "**For missing data some times Mensonet uses NaN and other times uses M. Regardless of the designation the cell below removes these values**"
   ]
  },
  {
   "cell_type": "code",
   "execution_count": 35,
   "metadata": {},
   "outputs": [],
   "source": [
    "df[pd.to_numeric(df.Tmax, errors='coerce').isnull()]\n",
    "df=df[pd.to_numeric(df.Tmax, errors='coerce').notnull()]"
   ]
  },
  {
   "cell_type": "code",
   "execution_count": 36,
   "metadata": {},
   "outputs": [
    {
     "data": {
      "text/html": [
       "<div>\n",
       "<style scoped>\n",
       "    .dataframe tbody tr th:only-of-type {\n",
       "        vertical-align: middle;\n",
       "    }\n",
       "\n",
       "    .dataframe tbody tr th {\n",
       "        vertical-align: top;\n",
       "    }\n",
       "\n",
       "    .dataframe thead th {\n",
       "        text-align: right;\n",
       "    }\n",
       "</style>\n",
       "<table border=\"1\" class=\"dataframe\">\n",
       "  <thead>\n",
       "    <tr style=\"text-align: right;\">\n",
       "      <th></th>\n",
       "      <th>Date</th>\n",
       "      <th>STATION</th>\n",
       "      <th>Tmin</th>\n",
       "      <th>Tmax</th>\n",
       "    </tr>\n",
       "  </thead>\n",
       "  <tbody>\n",
       "    <tr>\n",
       "      <th>0</th>\n",
       "      <td>2014-01-02</td>\n",
       "      <td>Manhattan</td>\n",
       "      <td>-12.82</td>\n",
       "      <td>0.10</td>\n",
       "    </tr>\n",
       "    <tr>\n",
       "      <th>1</th>\n",
       "      <td>2014-01-03</td>\n",
       "      <td>Manhattan</td>\n",
       "      <td>-17.79</td>\n",
       "      <td>-6.43</td>\n",
       "    </tr>\n",
       "    <tr>\n",
       "      <th>2</th>\n",
       "      <td>2014-01-04</td>\n",
       "      <td>Manhattan</td>\n",
       "      <td>-14.39</td>\n",
       "      <td>6.53</td>\n",
       "    </tr>\n",
       "    <tr>\n",
       "      <th>3</th>\n",
       "      <td>2014-01-05</td>\n",
       "      <td>Manhattan</td>\n",
       "      <td>-8.81</td>\n",
       "      <td>3.90</td>\n",
       "    </tr>\n",
       "    <tr>\n",
       "      <th>4</th>\n",
       "      <td>2014-01-06</td>\n",
       "      <td>Manhattan</td>\n",
       "      <td>-19.15</td>\n",
       "      <td>-8.74</td>\n",
       "    </tr>\n",
       "  </tbody>\n",
       "</table>\n",
       "</div>"
      ],
      "text/plain": [
       "        Date    STATION   Tmin  Tmax\n",
       "0 2014-01-02  Manhattan -12.82  0.10\n",
       "1 2014-01-03  Manhattan -17.79 -6.43\n",
       "2 2014-01-04  Manhattan -14.39  6.53\n",
       "3 2014-01-05  Manhattan  -8.81  3.90\n",
       "4 2014-01-06  Manhattan -19.15 -8.74"
      ]
     },
     "execution_count": 36,
     "metadata": {},
     "output_type": "execute_result"
    }
   ],
   "source": [
    "df.Tmin = df.Tmin.astype(float)\n",
    "df.Tmax = df.Tmax.astype(float)\n",
    "df = df.interpolate()\n",
    "df.head(5)"
   ]
  },
  {
   "cell_type": "markdown",
   "metadata": {},
   "source": [
    "<a name=\"BJE_step4\"></a>\n",
    "# Step 4: Define User Inputs\n",
    "* The inputs needed are;\n",
    "    * plantDate- this is to start the season of interest. This can be stored as a variable now or entered as a string in the \"Growing_season\" function that will be defined later. Format of input needs to be YYYY-mm-dd.\n",
    "    * harvestDate- this is to end the season of interest. This can be stored as a variable now or entered as a string in the \"Growing_season\" function that will be defined later. Format of input needs to be YYYY-mm-dd.\n",
    "    * long- this is a decimal degree longitude point for the field of interest. This is used by the ephem module to give the most accurate photoperiod. \n",
    "    * lat- this is a decimal degree latitude point for the field of interest. This is used by the ephem module to give the most accurate photoperiod. \n",
    "    * tbase- this sets the base temperature for the crop of interest in degrees C. In this case wheat is the crop of interest. Temperatures of 5C and 0C are acceptable but 5 is chosen for this example.\n",
    "    * k- is a set scale factor for the Pdays equation. This maybe be edited for other crops. \n",
    "    * topt- this sets the optimumn growing temperature for the crop of interest in degrees C. For wheat in this example 17C was used.\n",
    "    * tmax- this sets the maximum growing temperature for the crop of interest in degrees C. For wheat in this example 30C was used.\n",
    "    \n",
    "**All of these parameters are designed so that users can adjust them to fit the needs of the individual project**"
   ]
  },
  {
   "cell_type": "code",
   "execution_count": 37,
   "metadata": {},
   "outputs": [],
   "source": [
    "# Define inputs \n",
    "plantDate=np.datetime64('2017-10-10') #set the date your crop was planted\n",
    "harvestDate=np.datetime64('2018-06-22') #set the date your crop was harvest\n",
    "# Set your location to be used for photoperiod\n",
    "lat = '39.127298'\n",
    "long = '-96.610158' \n",
    "\n",
    "\n",
    "# GDD inputs\n",
    "tbase= 5 #set the base temperature for your given crop\n",
    "\n",
    "# Pdays input\n",
    "k= .35 #scale factor \n",
    "topt = 17\n",
    "tmax = 30\n"
   ]
  },
  {
   "cell_type": "markdown",
   "metadata": {},
   "source": [
    "# Step 5: Calculate Photoperiod\n",
    "\n",
    "To complete this the ephem module is used. The output is displayed as decimal hours with the times of sunrise and sunset on a 24 hour clock. Date frame must have the following columns;\n",
    "* Date\n",
    "* lat\n",
    "* long"
   ]
  },
  {
   "cell_type": "code",
   "execution_count": 38,
   "metadata": {},
   "outputs": [
    {
     "data": {
      "text/html": [
       "<div>\n",
       "<style scoped>\n",
       "    .dataframe tbody tr th:only-of-type {\n",
       "        vertical-align: middle;\n",
       "    }\n",
       "\n",
       "    .dataframe tbody tr th {\n",
       "        vertical-align: top;\n",
       "    }\n",
       "\n",
       "    .dataframe thead th {\n",
       "        text-align: right;\n",
       "    }\n",
       "</style>\n",
       "<table border=\"1\" class=\"dataframe\">\n",
       "  <thead>\n",
       "    <tr style=\"text-align: right;\">\n",
       "      <th></th>\n",
       "      <th>Date</th>\n",
       "      <th>STATION</th>\n",
       "      <th>Tmin</th>\n",
       "      <th>Tmax</th>\n",
       "      <th>Sunrise</th>\n",
       "      <th>Sunset</th>\n",
       "      <th>PhotoPeriod</th>\n",
       "    </tr>\n",
       "  </thead>\n",
       "  <tbody>\n",
       "    <tr>\n",
       "      <th>0</th>\n",
       "      <td>2014-01-02</td>\n",
       "      <td>Manhattan</td>\n",
       "      <td>-12.82</td>\n",
       "      <td>0.10</td>\n",
       "      <td>8.759000</td>\n",
       "      <td>18.262868</td>\n",
       "      <td>9.503868</td>\n",
       "    </tr>\n",
       "    <tr>\n",
       "      <th>1</th>\n",
       "      <td>2014-01-03</td>\n",
       "      <td>Manhattan</td>\n",
       "      <td>-17.79</td>\n",
       "      <td>-6.43</td>\n",
       "      <td>8.760316</td>\n",
       "      <td>18.277155</td>\n",
       "      <td>9.516839</td>\n",
       "    </tr>\n",
       "    <tr>\n",
       "      <th>2</th>\n",
       "      <td>2014-01-04</td>\n",
       "      <td>Manhattan</td>\n",
       "      <td>-14.39</td>\n",
       "      <td>6.53</td>\n",
       "      <td>8.761032</td>\n",
       "      <td>18.291815</td>\n",
       "      <td>9.530783</td>\n",
       "    </tr>\n",
       "    <tr>\n",
       "      <th>3</th>\n",
       "      <td>2014-01-05</td>\n",
       "      <td>Manhattan</td>\n",
       "      <td>-8.81</td>\n",
       "      <td>3.90</td>\n",
       "      <td>8.761145</td>\n",
       "      <td>18.306832</td>\n",
       "      <td>9.545687</td>\n",
       "    </tr>\n",
       "    <tr>\n",
       "      <th>4</th>\n",
       "      <td>2014-01-06</td>\n",
       "      <td>Manhattan</td>\n",
       "      <td>-19.15</td>\n",
       "      <td>-8.74</td>\n",
       "      <td>8.760654</td>\n",
       "      <td>18.322192</td>\n",
       "      <td>9.561538</td>\n",
       "    </tr>\n",
       "  </tbody>\n",
       "</table>\n",
       "</div>"
      ],
      "text/plain": [
       "        Date    STATION   Tmin  Tmax   Sunrise     Sunset  PhotoPeriod\n",
       "0 2014-01-02  Manhattan -12.82  0.10  8.759000  18.262868     9.503868\n",
       "1 2014-01-03  Manhattan -17.79 -6.43  8.760316  18.277155     9.516839\n",
       "2 2014-01-04  Manhattan -14.39  6.53  8.761032  18.291815     9.530783\n",
       "3 2014-01-05  Manhattan  -8.81  3.90  8.761145  18.306832     9.545687\n",
       "4 2014-01-06  Manhattan -19.15 -8.74  8.760654  18.322192     9.561538"
      ]
     },
     "execution_count": 38,
     "metadata": {},
     "output_type": "execute_result"
    }
   ],
   "source": [
    "obs = ephem.Observer()\n",
    "obs.long = ephem.degrees(long)\n",
    "obs.lat = ephem.degrees(lat)\n",
    "date =  df['Date'].dt.strftime('%Y/%m/%d')\n",
    "sun = ephem.Sun(obs)\n",
    "\n",
    "rise_data=[]\n",
    "set_data=[]\n",
    "photoperiod_data=[]\n",
    "\n",
    "for i in date:\n",
    "    obs.date = ephem.Date(i)\n",
    "    r1 = obs.next_rising(sun)\n",
    "    s1 = obs.next_setting(sun)\n",
    "    r1_lt = ephem.Date(r1 - 5 * ephem.hour) #local time \n",
    "    (y, mn, d, h, min, s) = r1_lt.tuple()\n",
    "    rise = ( h + min/60. + s/3600. )\n",
    "    s1_lt = ephem.Date(s1 - 5 * ephem.hour) #local time\n",
    "    (y, mn, d, h, min, s) = s1_lt.tuple()\n",
    "    sunset = ( h + min/60. + s/3600. )\n",
    "    photoperiod=sunset-rise\n",
    "    rise_data.append(rise)\n",
    "    set_data.append(sunset)\n",
    "    photoperiod_data.append(photoperiod)\n",
    "    df['Sunrise']= pd.DataFrame(rise_data)\n",
    "    df['Sunset']= pd.DataFrame(set_data)\n",
    "    df['PhotoPeriod']= pd.DataFrame(photoperiod_data)   \n",
    "df.head(5)    "
   ]
  },
  {
   "cell_type": "markdown",
   "metadata": {},
   "source": [
    "<a name=\"BJE_step6\"></a>\n",
    "# Step 6: Define Growing Season\n",
    "The function will only return dates that fall within the growing season of interest. When running the function multiple 'sub-data frames\" can be created at once for each growing season of interest. For this project data frames df17 and df18 are used to represent the 2017 and 2018 growing seasons. As long as the planting comes before the harvest and the dates are within the limits of the data downloaded from the Mesonet any combination will work. If the selected dates are beyond the limits of the data set the function bellow will return an error. When running this example, I encourage the user to edit the \"plant\" string date to '1984-07-13' to test the lower limit error. Likewise change the \"harvest\" string to '2222-06-21' to check the upper limit error."
   ]
  },
  {
   "cell_type": "code",
   "execution_count": 39,
   "metadata": {},
   "outputs": [],
   "source": [
    "def Growing_season (plant, harvest, df):\n",
    "    \"\"\"\n",
    "    Sets the growing season form plant to harvest for each growing season \n",
    "   \n",
    "     Input: Requires three inputs;\n",
    "    1. harvest date string formatted as 'YYYY-MM-DD' this can be in the form of a stored variable or a direct string input\n",
    "    2. Harvest date, string, formatted as 'YYYY-MM-DD' this can be in the form of a stored variable or a direct string input\n",
    "    3. Pandas data frame with required date column formatted as 'YYYY-MM-DD'\n",
    "    \n",
    "    Output: Pandas data frame. With the dates of the growing season of interest. Recommend to save the ouput as a variable\n",
    "        \n",
    "    Byron Evers\n",
    "    \n",
    "    2019-03-06 \n",
    "    \"\"\"\n",
    "    plant = np.datetime64(plant)\n",
    "    harvest = np.datetime64(harvest)\n",
    "    min_date = df.Date.min()\n",
    "    min_date = min_date.to_datetime64()\n",
    "    max_date = df.Date.max()\n",
    "    max_date = max_date.to_datetime64()\n",
    "    if min_date > plant:\n",
    "        print('The planting date ' +str(plant)+' is beyond the range of the Mesonet data. The mesonet data goes from ' + str(df.Date.min())+ \" to \" + str(df.Date.max()))\n",
    "        return('The harvest date ' +str(plant)+' is beyond the range of the Mesonet data. The mesonet data goes from ' + str(df.Date.min())+ \" to \" + str(df.Date.max()))\n",
    "    if min_date > harvest:\n",
    "        print('The harvest date ' +str(harvest)+' is beyond the range of the Mesonet data. The mesonet data goes from ' + str(df.Date.min())+ \" to \" + str(df.Date.max()))\n",
    "        return('The harvest date ' +str(harvest)+' is beyond the range of the Mesonet data. The mesonet data goes from ' + str(df.Date.min())+ \" to \" + str(df.Date.max()))\n",
    "    if max_date < harvest:\n",
    "        print('The harvest date ' +str(harvest)+' is beyond the range of the Mesonet data. The mesonet data goes from ' + str(df.Date.min())+ \" to \" + str(df.Date.max()))\n",
    "        return('The harvest date ' +str(harvest)+' is beyond the range of the Mesonet data. The mesonet data goes from ' + str(df.Date.min())+ \" to \" + str(df.Date.max()))\n",
    "    if max_date < plant:\n",
    "        print('The planting date ' +str(plant)+' is beyond the range of the Mesonet data. The mesonet data goes from ' + str(df.Date.min())+ \" to \" + str(df.Date.max()))\n",
    "        return('The planting date ' +str(plant)+' is beyond the range of the Mesonet data. The mesonet data goes from ' + str(df.Date.min())+ \" to \" + str(df.Date.max()))\n",
    "    df = df.drop(df[df.Date < plant].index)\n",
    "    df = df.drop(df[df.Date > harvest].index)\n",
    "    return df"
   ]
  },
  {
   "cell_type": "code",
   "execution_count": 40,
   "metadata": {},
   "outputs": [],
   "source": [
    "#Call the function and store the data as a new data frame. In this example two data frames are created,df17 and df18, for the 2017 and 2018 winter wheat growing season\n",
    "df17 = Growing_season('2016-10-17','2017-06-21',df)\n",
    "df18 = Growing_season(plantDate,harvestDate,df)\n",
    "# For df17 date as a string was used where as df18 used the stored variable from input cell. \n",
    "#This is just to demonstrate that either format is accepted with this function."
   ]
  },
  {
   "cell_type": "code",
   "execution_count": 41,
   "metadata": {},
   "outputs": [
    {
     "name": "stdout",
     "output_type": "stream",
     "text": [
      "           Date    STATION   Tmin   Tmax   Sunrise     Sunset  PhotoPeriod\n",
      "1377 2017-10-10  Manhattan   8.28  19.33  7.518620  18.915235    11.396615\n",
      "1378 2017-10-11  Manhattan   4.16   8.42  7.535063  18.890279    11.355217\n",
      "1379 2017-10-12  Manhattan   2.26  20.54  7.551600  18.865518    11.313918\n",
      "1380 2017-10-13  Manhattan   8.91  27.46  7.568234  18.840959    11.272726\n",
      "1381 2017-10-14  Manhattan  14.20  26.37  7.584965  18.816613    11.231648\n",
      "           Date    STATION   Tmin   Tmax   Sunrise     Sunset  PhotoPeriod\n",
      "1019 2016-10-17  Manhattan  15.86  30.81  7.639600  18.739033    11.099432\n",
      "1020 2016-10-18  Manhattan  18.14  31.95  7.656686  18.715647    11.058961\n",
      "1021 2016-10-19  Manhattan  11.32  23.25  7.673870  18.692521    11.018651\n",
      "1022 2016-10-20  Manhattan   8.70  23.45  7.691152  18.669663    10.978511\n",
      "1023 2016-10-21  Manhattan   6.35  16.82  7.708533  18.647084    10.938551\n"
     ]
    }
   ],
   "source": [
    "print(df18.head(5))\n",
    "print(df17.head(5))"
   ]
  },
  {
   "cell_type": "markdown",
   "metadata": {},
   "source": [
    "<a name=\"BJE_step7\"></a>\n",
    "# Step 7: Calculate GDD\n",
    "The next cell defines a function to calculate growing degree days. For the purpose of this demonstration going forward df17 and df18 will be treated as separate data frames. I could see the value of applying the Growing_season function last and completing the remaining steps first. However, this can not be accomplished as the thermal times are cumulative and would need to be reset."
   ]
  },
  {
   "cell_type": "code",
   "execution_count": 42,
   "metadata": {},
   "outputs": [],
   "source": [
    "def GDD(df):\n",
    "    \"\"\"\n",
    "    Calculates an individual and cumulative value for GDD for each day in the data frame\n",
    "    \n",
    "    Input: Pandas data frame. Minimum required columns include:\n",
    "        Tmax= daily maximum temperature\n",
    "        Tmin= daily minimum temperature\n",
    "        Date = date of collection\n",
    "        \n",
    "    Output: Pandas data frame. In addition, the columns in the data frame input two additional columns will be calculated and added:\n",
    "        GDD= The growing degree day value for that individual day\n",
    "        cum_GDD = The cumulative growing degree day value for all days in the designated growing period.\n",
    "    \n",
    "    Byron Evers\n",
    "    \n",
    "    2019-03-06\n",
    "    \"\"\"\n",
    "    df['Tbase']=tbase\n",
    "    tavg =((df.Tmax+df.Tmin)/2)\n",
    "    values = np.where(tavg < tbase, df.Tbase, tavg).astype(float)\n",
    "    df['GDD']=(values)-df.Tbase\n",
    "    df['cum_GDD'] = df.GDD.cumsum()\n",
    "    return df"
   ]
  },
  {
   "cell_type": "markdown",
   "metadata": {},
   "source": [
    "**Call the function and override the data frame so the new variables are added**"
   ]
  },
  {
   "cell_type": "code",
   "execution_count": 43,
   "metadata": {},
   "outputs": [
    {
     "data": {
      "text/html": [
       "<div>\n",
       "<style scoped>\n",
       "    .dataframe tbody tr th:only-of-type {\n",
       "        vertical-align: middle;\n",
       "    }\n",
       "\n",
       "    .dataframe tbody tr th {\n",
       "        vertical-align: top;\n",
       "    }\n",
       "\n",
       "    .dataframe thead th {\n",
       "        text-align: right;\n",
       "    }\n",
       "</style>\n",
       "<table border=\"1\" class=\"dataframe\">\n",
       "  <thead>\n",
       "    <tr style=\"text-align: right;\">\n",
       "      <th></th>\n",
       "      <th>Date</th>\n",
       "      <th>STATION</th>\n",
       "      <th>Tmin</th>\n",
       "      <th>Tmax</th>\n",
       "      <th>Sunrise</th>\n",
       "      <th>Sunset</th>\n",
       "      <th>PhotoPeriod</th>\n",
       "      <th>Tbase</th>\n",
       "      <th>GDD</th>\n",
       "      <th>cum_GDD</th>\n",
       "    </tr>\n",
       "  </thead>\n",
       "  <tbody>\n",
       "    <tr>\n",
       "      <th>1019</th>\n",
       "      <td>2016-10-17</td>\n",
       "      <td>Manhattan</td>\n",
       "      <td>15.86</td>\n",
       "      <td>30.81</td>\n",
       "      <td>7.639600</td>\n",
       "      <td>18.739033</td>\n",
       "      <td>11.099432</td>\n",
       "      <td>5</td>\n",
       "      <td>18.335</td>\n",
       "      <td>18.335</td>\n",
       "    </tr>\n",
       "    <tr>\n",
       "      <th>1020</th>\n",
       "      <td>2016-10-18</td>\n",
       "      <td>Manhattan</td>\n",
       "      <td>18.14</td>\n",
       "      <td>31.95</td>\n",
       "      <td>7.656686</td>\n",
       "      <td>18.715647</td>\n",
       "      <td>11.058961</td>\n",
       "      <td>5</td>\n",
       "      <td>20.045</td>\n",
       "      <td>38.380</td>\n",
       "    </tr>\n",
       "  </tbody>\n",
       "</table>\n",
       "</div>"
      ],
      "text/plain": [
       "           Date    STATION   Tmin   Tmax   Sunrise     Sunset  PhotoPeriod  \\\n",
       "1019 2016-10-17  Manhattan  15.86  30.81  7.639600  18.739033    11.099432   \n",
       "1020 2016-10-18  Manhattan  18.14  31.95  7.656686  18.715647    11.058961   \n",
       "\n",
       "      Tbase     GDD  cum_GDD  \n",
       "1019      5  18.335   18.335  \n",
       "1020      5  20.045   38.380  "
      ]
     },
     "execution_count": 43,
     "metadata": {},
     "output_type": "execute_result"
    }
   ],
   "source": [
    "df17=GDD(df17)\n",
    "df18=GDD(df18)\n",
    "df17.head(2) # this just print a small sample of one of the data frames to check that Tbase, GDD and cum_GDD are added to the data frame"
   ]
  },
  {
   "cell_type": "markdown",
   "metadata": {},
   "source": [
    "<a name=\"BJE_step8\"></a>\n",
    "# Step 8: Calculate Pdays \n",
    "The next cell defines a function to calculate physiological days. Physiological days incorporates an optimum and maximum growing temperature to determine growth (Saiyed et al. 2009)."
   ]
  },
  {
   "cell_type": "code",
   "execution_count": 44,
   "metadata": {},
   "outputs": [],
   "source": [
    "def Pdays(df):\n",
    "    \"\"\"\n",
    "    Calculates an individual and cumulative value for Pdays for each day in the data frame\n",
    "    \n",
    "    Input: Pandas data frame. Minimum required columns include:\n",
    "        Tmax= daily maximum temperature\n",
    "        Tmin= daily minimum temperature\n",
    "        Tbase= base growing temperature for given crop\n",
    "        topt= optimum growing temperature for given crop\n",
    "        tmax= maximum growing temperature for given crop\n",
    "        Date = date of collection\n",
    "        \n",
    "        \n",
    "    Output: Pandas data frame. In addition, the columns in the data frame input two additional columns will be calculated and added:\n",
    "        Pdays= The Pday value for that individual day\n",
    "        cum_Pdays = The cumulative Pdays value for all days in the designated growing period.\n",
    "    \n",
    "    Byron Evers\n",
    "    \n",
    "    2019-04-06\n",
    "    \"\"\"\n",
    "    T1=np.where(df.Tmin > tbase, df.Tmin, tbase)\n",
    "    T4=np.where(df.Tmax > 30, 30, df.Tmax)\n",
    "    T2=((2*T1) + T4)/2\n",
    "    T3=((2*T4) + T1)/2\n",
    "    T =((df.Tmax+df.Tmin)/2)\n",
    "    df['P'] = np.where(T < topt,(k*(1-((T-topt)*2)/((topt-df.Tmin)*2))),T)\n",
    "    df['P'] = np.where(T > topt,(k*(1-((T-topt)*2)/((df.Tmax-topt)*2))),df.P)\n",
    "    df['P'] = np.where(T < tbase,0,df.P)\n",
    "    df['P'] = np.where(T > tmax,0,df.P)\n",
    "    df['Pdays']= (1/24)*((5*df.P*T1)+ (8*df.P*T2) + (8*df.P*T3) + (3*df.P*T4))\n",
    "    df['cum_Pdays']= df.Pdays.cumsum()\n",
    "    return df"
   ]
  },
  {
   "cell_type": "code",
   "execution_count": 45,
   "metadata": {},
   "outputs": [
    {
     "data": {
      "text/html": [
       "<div>\n",
       "<style scoped>\n",
       "    .dataframe tbody tr th:only-of-type {\n",
       "        vertical-align: middle;\n",
       "    }\n",
       "\n",
       "    .dataframe tbody tr th {\n",
       "        vertical-align: top;\n",
       "    }\n",
       "\n",
       "    .dataframe thead th {\n",
       "        text-align: right;\n",
       "    }\n",
       "</style>\n",
       "<table border=\"1\" class=\"dataframe\">\n",
       "  <thead>\n",
       "    <tr style=\"text-align: right;\">\n",
       "      <th></th>\n",
       "      <th>Date</th>\n",
       "      <th>STATION</th>\n",
       "      <th>Tmin</th>\n",
       "      <th>Tmax</th>\n",
       "      <th>Sunrise</th>\n",
       "      <th>Sunset</th>\n",
       "      <th>PhotoPeriod</th>\n",
       "      <th>Tbase</th>\n",
       "      <th>GDD</th>\n",
       "      <th>cum_GDD</th>\n",
       "      <th>P</th>\n",
       "      <th>Pdays</th>\n",
       "      <th>cum_Pdays</th>\n",
       "    </tr>\n",
       "  </thead>\n",
       "  <tbody>\n",
       "    <tr>\n",
       "      <th>1377</th>\n",
       "      <td>2017-10-10</td>\n",
       "      <td>Manhattan</td>\n",
       "      <td>8.28</td>\n",
       "      <td>19.33</td>\n",
       "      <td>7.518620</td>\n",
       "      <td>18.915235</td>\n",
       "      <td>11.396615</td>\n",
       "      <td>5</td>\n",
       "      <td>8.805</td>\n",
       "      <td>8.805</td>\n",
       "      <td>0.478240</td>\n",
       "      <td>8.582609</td>\n",
       "      <td>8.582609</td>\n",
       "    </tr>\n",
       "    <tr>\n",
       "      <th>1378</th>\n",
       "      <td>2017-10-11</td>\n",
       "      <td>Manhattan</td>\n",
       "      <td>4.16</td>\n",
       "      <td>8.42</td>\n",
       "      <td>7.535063</td>\n",
       "      <td>18.890279</td>\n",
       "      <td>11.355217</td>\n",
       "      <td>5</td>\n",
       "      <td>1.290</td>\n",
       "      <td>10.095</td>\n",
       "      <td>0.641939</td>\n",
       "      <td>5.651740</td>\n",
       "      <td>14.234349</td>\n",
       "    </tr>\n",
       "  </tbody>\n",
       "</table>\n",
       "</div>"
      ],
      "text/plain": [
       "           Date    STATION  Tmin   Tmax   Sunrise     Sunset  PhotoPeriod  \\\n",
       "1377 2017-10-10  Manhattan  8.28  19.33  7.518620  18.915235    11.396615   \n",
       "1378 2017-10-11  Manhattan  4.16   8.42  7.535063  18.890279    11.355217   \n",
       "\n",
       "      Tbase    GDD  cum_GDD         P     Pdays  cum_Pdays  \n",
       "1377      5  8.805    8.805  0.478240  8.582609   8.582609  \n",
       "1378      5  1.290   10.095  0.641939  5.651740  14.234349  "
      ]
     },
     "execution_count": 45,
     "metadata": {},
     "output_type": "execute_result"
    }
   ],
   "source": [
    "df17=Pdays(df17)\n",
    "df18=Pdays(df18)\n",
    "df18.head(2) #This just print a small sample of one of the data frames to check that P, Pdays and cum_Pdays are added to the data frame"
   ]
  },
  {
   "cell_type": "markdown",
   "metadata": {},
   "source": [
    "<a name=\"BJE_step9\"></a>\n",
    "# Step 9: Calculate BMT\n",
    "The next several cells defines a function to calculate biometeorological time. The coefficients used for this equation are developed from Robertson (1968). However, these coefficients have been edited as Robertson’s coefficients were developed for spring wheat where vernalization was not needed. Additionally, Robertson’s equation is capped at a 5 point scale. However, I was not able to accomplish this limit. I hypothesize that is due to the length of the winter wheat season comparted to a spring wheat growing season. Rega\n",
    "\n",
    "The first cell identifies the coefficients for each growth stage. The growth stages used for this project are adapted from Robertson and are defined as follows;\n",
    "\n",
    "* PE- Planting to Emergence\n",
    "* EJ- Emergence to Jointing\n",
    "* JH- Jointing to Heading \n",
    "* HS- Heading to Soft Dough\n",
    "* SR- Soft Dough to Ripe\n"
   ]
  },
  {
   "cell_type": "code",
   "execution_count": 46,
   "metadata": {},
   "outputs": [],
   "source": [
    "par = {'a0':0,'a1':0,'a2':0,'b0':0,'b1':0,'b2':0,'d1':0,'d2':0,\n",
    "       'a0_PE':8.413,'a1_PE':1.005,'a2_PE':0,'b0_PE':0,'b1_PE':0.003512,'b2_PE':0.00005026,'d1_PE':0.000366,'d2_PE':0.000004282,\n",
    "       'a0_EJ':9.413,'a1_EJ':1.005,'a2_EJ':0,'b0_EJ':0,'b1_EJ':0.003512,'b2_EJ':0.00005026,'d1_EJ':0.000366,'d2_EJ':0.000004282,\n",
    "       'a0_JH':10.93,'a1_JH':0.9256,'a2_JH':0.06025,'b0_JH':0,'b1_JH':0.0002958,'b2_JH':0,'d1_JH':0.0003943,'d2_JH':0,\n",
    "       'a0_HS':10.94,'a1_HS':1.389,'a2_HS':1,'b0_HS':0,'b1_HS':0.004458,'b2_HS':0,'d1_HS':0.00003109,'d2_HS':0,\n",
    "       'a0_SR':14.38,'a1_SR':1.614,'a2_SR':1,'b0_SR':0,'b1_SR':0.007733,'b2_SR':0,'d1_SR':0.0003442,'d2_SR':0,}"
   ]
  },
  {
   "cell_type": "code",
   "execution_count": 47,
   "metadata": {},
   "outputs": [],
   "source": [
    "def BMT (par,df):\n",
    "    \"\"\"\n",
    "    Calculates an individual and cumulative value for BMT for each day in the data frame\n",
    "    \n",
    "    Input: Pandas data frame. Minimum required columns include:\n",
    "        par = dictonary of coefficents for each stage of development\n",
    "        Tmax= daily maximum temperature\n",
    "        Tmin= daily minimum temperature\n",
    "        PhotoPeriod=daily photo period\n",
    "        Date = date of collection\n",
    "        \n",
    "        \n",
    "    Output: Pandas data frame. In addition, the columns in the data frame input two additional columns will be calculated and added:\n",
    "        BMT= The BMT value for that individual day\n",
    "        cum_BMT = The cumulative BMT value for all days in the designated growing period.\n",
    "    \n",
    "    Byron Evers\n",
    "    \n",
    "    2019-05-05\n",
    "    \"\"\"\n",
    "    BMT=[0]*len(df)\n",
    "    cum_BMT=[0]*len(df)\n",
    "    for i in range(1,len(df)):\n",
    "        if cum_BMT[i-1] < 1:\n",
    "            par['a0']=par['a0_PE']\n",
    "            par['a1']=par['a1_PE']\n",
    "            par['a2']=par['a2_PE']\n",
    "            par['b0']=par['b0_PE']\n",
    "            par['b1']=par['b1_PE']\n",
    "            par['b2']=par['b2_PE']\n",
    "            par['d1']=par['d1_PE']\n",
    "            par['d2']=par['d2_PE']\n",
    "        elif cum_BMT[i-1] >= 1 and cum_BMT[i-1]< 2:\n",
    "            par['a0']=par['a0_EJ']\n",
    "            par['a1']=par['a1_EJ']\n",
    "            par['a2']=par['a2_EJ']\n",
    "            par['b0']=par['b0_EJ']\n",
    "            par['b1']=par['b1_EJ']\n",
    "            par['b2']=par['b2_EJ']\n",
    "            par['d1']=par['d1_EJ']\n",
    "            par['d2']=par['d2_EJ']\n",
    "        elif cum_BMT[i-1] >= 2 and cum_BMT[i-1]< 2.5:\n",
    "            par['a0']=par['a0_JH']\n",
    "            par['a1']=par['a1_JH']\n",
    "            par['a2']=par['a2_JH']\n",
    "            par['b0']=par['b0_JH']\n",
    "            par['b1']=par['b1_JH']\n",
    "            par['b2']=par['b2_JH']\n",
    "            par['d1']=par['d1_JH']\n",
    "            par['d2']=par['d2_JH']\n",
    "        elif cum_BMT[i-1] >= 2.5 and cum_BMT[i-1]< 3:\n",
    "            par['a0']=par['a0_HS']\n",
    "            par['a1']=par['a1_HS']\n",
    "            par['a2']=par['a2_HS']\n",
    "            par['b0']=par['b0_HS']\n",
    "            par['b1']=par['b1_HS']\n",
    "            par['b2']=par['b2_HS']\n",
    "            par['d1']=par['d1_HS']\n",
    "            par['d2']=par['d2_HS']  \n",
    "        else: \n",
    "            par['a0']=par['a0_SR']\n",
    "            par['a1']=par['a1_SR']\n",
    "            par['a2']=par['a2_SR']\n",
    "            par['b0']=par['b0_SR']\n",
    "            par['b1']=par['b1_SR']\n",
    "            par['b2']=par['b2_SR']\n",
    "            par['d1']=par['d1_SR']\n",
    "            par['d2']=par['d2_SR']\n",
    "        \n",
    "        photo =df.PhotoPeriod\n",
    "        photo= np.where(photo < 0,0,photo)\n",
    "        tmax =df.Tmax\n",
    "        tmax= np.where(tmax < 0,0,tmax)\n",
    "        tmin =df.Tmin\n",
    "        tmin= np.where(tmin < 0,0,tmin)\n",
    "        if cum_BMT[i-1] < 0.25:\n",
    "            v1=1\n",
    "        else:\n",
    "            v1=abs((par['a1']*(photo[i]-par['a0'])+(par['a2']*((photo[i]-par['a0'])**2))))\n",
    "        v2=(par['b1']*(tmin[i]-par['b0'])+(par['b2']*((tmin[i]-par['b0'])**2)))\n",
    "        v3=(par['d1']*(tmin[i]-par['b0'])+(par['d2']*((tmin[i]-par['b0'])**2)))\n",
    "        BMT[i]=(v1*(v2+v3))\n",
    "\n",
    "        T=cum_BMT[i-1]+BMT[i]\n",
    "        cum_BMT[i]=T\n",
    "    df['BMT']=BMT  \n",
    "    df['cum_BMT']=cum_BMT   \n",
    "    return df"
   ]
  },
  {
   "cell_type": "code",
   "execution_count": 48,
   "metadata": {},
   "outputs": [
    {
     "data": {
      "text/html": [
       "<div>\n",
       "<style scoped>\n",
       "    .dataframe tbody tr th:only-of-type {\n",
       "        vertical-align: middle;\n",
       "    }\n",
       "\n",
       "    .dataframe tbody tr th {\n",
       "        vertical-align: top;\n",
       "    }\n",
       "\n",
       "    .dataframe thead th {\n",
       "        text-align: right;\n",
       "    }\n",
       "</style>\n",
       "<table border=\"1\" class=\"dataframe\">\n",
       "  <thead>\n",
       "    <tr style=\"text-align: right;\">\n",
       "      <th></th>\n",
       "      <th>Date</th>\n",
       "      <th>STATION</th>\n",
       "      <th>Tmin</th>\n",
       "      <th>Tmax</th>\n",
       "      <th>Sunrise</th>\n",
       "      <th>Sunset</th>\n",
       "      <th>PhotoPeriod</th>\n",
       "      <th>Tbase</th>\n",
       "      <th>GDD</th>\n",
       "      <th>cum_GDD</th>\n",
       "      <th>P</th>\n",
       "      <th>Pdays</th>\n",
       "      <th>cum_Pdays</th>\n",
       "      <th>BMT</th>\n",
       "      <th>cum_BMT</th>\n",
       "    </tr>\n",
       "  </thead>\n",
       "  <tbody>\n",
       "    <tr>\n",
       "      <th>1628</th>\n",
       "      <td>2018-06-18</td>\n",
       "      <td>Manhattan</td>\n",
       "      <td>25.91</td>\n",
       "      <td>35.68</td>\n",
       "      <td>5.996649</td>\n",
       "      <td>20.920240</td>\n",
       "      <td>14.923591</td>\n",
       "      <td>5</td>\n",
       "      <td>25.795</td>\n",
       "      <td>1559.605</td>\n",
       "      <td>0.000000</td>\n",
       "      <td>0.000000</td>\n",
       "      <td>1039.791298</td>\n",
       "      <td>0.245454</td>\n",
       "      <td>7.364153</td>\n",
       "    </tr>\n",
       "    <tr>\n",
       "      <th>1629</th>\n",
       "      <td>2018-06-19</td>\n",
       "      <td>Manhattan</td>\n",
       "      <td>25.24</td>\n",
       "      <td>35.48</td>\n",
       "      <td>5.999099</td>\n",
       "      <td>20.925255</td>\n",
       "      <td>14.926156</td>\n",
       "      <td>5</td>\n",
       "      <td>25.360</td>\n",
       "      <td>1584.965</td>\n",
       "      <td>0.000000</td>\n",
       "      <td>0.000000</td>\n",
       "      <td>1039.791298</td>\n",
       "      <td>0.240520</td>\n",
       "      <td>7.604674</td>\n",
       "    </tr>\n",
       "    <tr>\n",
       "      <th>1630</th>\n",
       "      <td>2018-06-20</td>\n",
       "      <td>Manhattan</td>\n",
       "      <td>20.43</td>\n",
       "      <td>30.38</td>\n",
       "      <td>6.002030</td>\n",
       "      <td>20.929786</td>\n",
       "      <td>14.927756</td>\n",
       "      <td>5</td>\n",
       "      <td>20.405</td>\n",
       "      <td>1605.370</td>\n",
       "      <td>0.130138</td>\n",
       "      <td>4.323356</td>\n",
       "      <td>1044.114654</td>\n",
       "      <td>0.195399</td>\n",
       "      <td>7.800073</td>\n",
       "    </tr>\n",
       "    <tr>\n",
       "      <th>1631</th>\n",
       "      <td>2018-06-21</td>\n",
       "      <td>Manhattan</td>\n",
       "      <td>17.71</td>\n",
       "      <td>29.77</td>\n",
       "      <td>6.005437</td>\n",
       "      <td>20.933827</td>\n",
       "      <td>14.928390</td>\n",
       "      <td>5</td>\n",
       "      <td>18.740</td>\n",
       "      <td>1624.110</td>\n",
       "      <td>0.165270</td>\n",
       "      <td>5.148303</td>\n",
       "      <td>1049.262957</td>\n",
       "      <td>0.169630</td>\n",
       "      <td>7.969703</td>\n",
       "    </tr>\n",
       "    <tr>\n",
       "      <th>1632</th>\n",
       "      <td>2018-06-22</td>\n",
       "      <td>Manhattan</td>\n",
       "      <td>16.16</td>\n",
       "      <td>24.83</td>\n",
       "      <td>6.009312</td>\n",
       "      <td>20.937371</td>\n",
       "      <td>14.928059</td>\n",
       "      <td>5</td>\n",
       "      <td>15.495</td>\n",
       "      <td>1639.605</td>\n",
       "      <td>0.193774</td>\n",
       "      <td>5.225195</td>\n",
       "      <td>1054.488153</td>\n",
       "      <td>0.154667</td>\n",
       "      <td>8.124370</td>\n",
       "    </tr>\n",
       "  </tbody>\n",
       "</table>\n",
       "</div>"
      ],
      "text/plain": [
       "           Date    STATION   Tmin   Tmax   Sunrise     Sunset  PhotoPeriod  \\\n",
       "1628 2018-06-18  Manhattan  25.91  35.68  5.996649  20.920240    14.923591   \n",
       "1629 2018-06-19  Manhattan  25.24  35.48  5.999099  20.925255    14.926156   \n",
       "1630 2018-06-20  Manhattan  20.43  30.38  6.002030  20.929786    14.927756   \n",
       "1631 2018-06-21  Manhattan  17.71  29.77  6.005437  20.933827    14.928390   \n",
       "1632 2018-06-22  Manhattan  16.16  24.83  6.009312  20.937371    14.928059   \n",
       "\n",
       "      Tbase     GDD   cum_GDD         P     Pdays    cum_Pdays       BMT  \\\n",
       "1628      5  25.795  1559.605  0.000000  0.000000  1039.791298  0.245454   \n",
       "1629      5  25.360  1584.965  0.000000  0.000000  1039.791298  0.240520   \n",
       "1630      5  20.405  1605.370  0.130138  4.323356  1044.114654  0.195399   \n",
       "1631      5  18.740  1624.110  0.165270  5.148303  1049.262957  0.169630   \n",
       "1632      5  15.495  1639.605  0.193774  5.225195  1054.488153  0.154667   \n",
       "\n",
       "       cum_BMT  \n",
       "1628  7.364153  \n",
       "1629  7.604674  \n",
       "1630  7.800073  \n",
       "1631  7.969703  \n",
       "1632  8.124370  "
      ]
     },
     "execution_count": 48,
     "metadata": {},
     "output_type": "execute_result"
    }
   ],
   "source": [
    "df17=BMT(par, df17)\n",
    "df18=BMT(par, df18)\n",
    "df18.tail(5)"
   ]
  },
  {
   "cell_type": "markdown",
   "metadata": {},
   "source": [
    "<a name=\"BJE_step10\"></a>\n",
    "# Step 10: Graph Results\n",
    "Graphing the data allows for visual comparison. However, as stated in Step 9 the scale of the three thermal time indices are not equivalent. Therefore, when comparing the three indices a scale factor was needed. For this project the scale created was defined as;\n",
    "\n",
    "$$scale = \\frac{cumGDD.max()}{cumBMT.max()}$$\n",
    "\n",
    "In addition to graphing the thermal time indices horizontal growth stage lines were added to the graph based on GDD values from Miller et al. (2001). A green vertical line was also added to identify the average heading date for each year. This average is an actual ground recorded date that I recorded during the growing season.   "
   ]
  },
  {
   "cell_type": "code",
   "execution_count": 49,
   "metadata": {},
   "outputs": [],
   "source": [
    "# Add stage predictor GDD for reference\n",
    "Tillering=420\n",
    "Flowering=650\n",
    "GrainFill=930\n",
    "FullMaturity=1250\n",
    "# Stages were based of refernce numbers form Miller et al. \n",
    "scale17=df17.cum_GDD.max()/df17.cum_BMT.max()\n",
    "scale18=df18.cum_GDD.max()/df18.cum_BMT.max()"
   ]
  },
  {
   "cell_type": "markdown",
   "metadata": {},
   "source": [
    "<a name=\"Update__graph\"></a>"
   ]
  },
  {
   "cell_type": "code",
   "execution_count": 51,
   "metadata": {},
   "outputs": [
    {
     "data": {
      "image/png": "[encoded data removed]",
      "text/plain": [
       "<Figure size 864x1008 with 1 Axes>"
      ]
     },
     "metadata": {
      "needs_background": "light"
     },
     "output_type": "display_data"
    }
   ],
   "source": [
    "#size plot\n",
    "plt.figure(figsize=(12,14))\n",
    "\n",
    "\n",
    "#plot 2017 Data\n",
    "plt.subplot(2,1,2)\n",
    "plt.plot(df17.Date,df17.cum_GDD, '-k')\n",
    "plt.plot(df17.Date,df17.cum_Pdays,'-r')\n",
    "plt.plot(df17.Date,df17.cum_BMT*(scale17),'-y')\n",
    "plt.ylabel('GDD', fontsize =24)\n",
    "plt.xticks(rotation=60)\n",
    "\n",
    "#plot stage prediction lines\n",
    "plt.axhline(y=Tillering, color='y', linestyle='--')\n",
    "plt.axhline(y=Flowering, color='k', linestyle='--')\n",
    "plt.axhline(y=GrainFill, color='r', linestyle='--')\n",
    "plt.axvline(x='2017-04-26',linestyle='--', color='green')\n",
    "plt.axvline(x='2018-05-16',linestyle='--', color='green')\n",
    "\n",
    "#plot 2018 Data\n",
    "plt.subplot(2,1,2)\n",
    "plt.plot(df18.Date,df18.cum_GDD, 'k')\n",
    "plt.plot(df18.Date,df18.cum_Pdays, 'r')\n",
    "plt.plot(df18.Date,df18.cum_BMT*(scale18),'-y')\n",
    "plt.ylabel('GDD', fontsize =24)\n",
    "plt.xticks(rotation=60)\n",
    "\n",
    "\n",
    "# edit plot\n",
    "plt.title('Manthattan Thermal Time Indices Comparison by Year', size=24)\n",
    "\n",
    "plt.legend(['GDD', 'Pdays','BMT','Tillering Est.','Flowering Est.', 'Grain Fill Est.','Observed Average Heading Date'], loc=2)\n",
    "axes = plt.gca()\n",
    "axes.set_ylim([0,1500])\n",
    "\n",
    "plt.show()"
   ]
  },
  {
   "cell_type": "markdown",
   "metadata": {},
   "source": [
    "<a name=\"BJE_step11\"></a>\n",
    "# Step 11: Merge UAV and Thermal Time Index\n",
    "The final step is to merge UAV data and the newly calculated thermal time indices into one file. This is accomplished by using the pd.merge function in pandas. This can be done as the two sources share \"Date\" as a similar column. In this example only 2017 Manhattan UAV data is used."
   ]
  },
  {
   "cell_type": "code",
   "execution_count": null,
   "metadata": {},
   "outputs": [],
   "source": [
    "dirname = '/Users/bevers/Desktop/Coding/Thermal_Time_Indices/Data/'\n",
    "filename_17 ='2017_RL_NDVI.csv'"
   ]
  },
  {
   "cell_type": "code",
   "execution_count": null,
   "metadata": {},
   "outputs": [],
   "source": [
    "UAV17 = pd.read_csv(dirname + filename_17)\n",
    "UAV17['Date'] = pd.to_datetime(UAV17.Date)\n",
    "UAV17.head(5)"
   ]
  },
  {
   "cell_type": "code",
   "execution_count": null,
   "metadata": {},
   "outputs": [],
   "source": [
    "UAV17['UAV_Date'] = pd.to_datetime(UAV17.Date)\n",
    "df17['Date'] = pd.to_datetime(df17.Date)\n",
    "finaldf17 = pd.merge(UAV17,df17, on='Date',how='inner')"
   ]
  },
  {
   "cell_type": "code",
   "execution_count": null,
   "metadata": {},
   "outputs": [],
   "source": [
    "finaldf17 = pd.merge(df17, UAV17, on=['Date'], how='inner')\n",
    "finaldf17 =finaldf17[['Plot_ID','Date','UAV_Date','STATION','NDVI', 'Tmax','Tmin','cum_GDD','cum_Pdays','cum_BMT']] #selects columns needed\n",
    "finaldf17.cum_BMT= finaldf17.cum_BMT*scale17\n",
    "finaldf17.tail(5)"
   ]
  },
  {
   "cell_type": "code",
   "execution_count": null,
   "metadata": {},
   "outputs": [],
   "source": [
    "finaldf17.to_csv(\"2017_UAV_ThermalTime.csv\", index=False)"
   ]
  },
  {
   "cell_type": "markdown",
   "metadata": {},
   "source": [
    "<a name=\"BJE_conclusions\"></a>\n",
    "## Conclusions\n",
    "\n",
    "When plotted next to each other in 2017 all the thermal time indices appear to return similar results. In this case the BMT showed more early growth than the other two indices and at the observed heading date had a lower accumulated thermal time. The 2017 growing season overall was warmer than normal with a quick warming period in the spring. This maybe the reason the Pdays and GDD curves are nearly identical in the spring of 2017 as the weighted scale for the optimum temperature in the Pdays equation would have been minimized. \n",
    "\n",
    "In 2018 the all the curves show similar shape, but the magnitude of values starts to deviate. Pdays in 2018 appears to over predict growth in the spring. However, the Pday curve matches both BMT and GDD near the recorded average heading date of the trial. Again, this is most likely due to the weighting of the optimum temperature. Unlike 2017 the spring of 2018 was cool early before an extreme heating trend in late spring early summer. This would explain the over prediction of growth early and reduced prediction as temperatures increase. \n",
    "\n",
    "Overall this project proves to be beneficial as it provides an automated path to compare and observe thermal time indices across several growing seasons. Moving forward these thermal times indices could be beneficial tools when analyzing UAV reflectance data on a geospatial time scale."
   ]
  },
  {
   "cell_type": "markdown",
   "metadata": {},
   "source": [
    "<a name=\"BJE_self\"></a>\n",
    "## Self Evaluation\n",
    "\n",
    "Overall, I am pleased with the functionality of the code. However, I realize there is always room for improvement and this project made me aware of some of my limitations and areas I need to improve on. I welcome constructive criticism on any of these self-identified issues along with the identification of any other potential issues. \n",
    "\n",
    "1. I am not completely satisfied how I handle missing data from the Mesont. I am not convinced I am interpolating data or if that is even the best way to handle missing data. \n",
    "2. I feel some of my functions are heavy in code. In the future I would like to clean them to optimize the code particularly the BMT equation.\n",
    "3. I would like to increase the flexibility of the user input names. As written now I feel my inputs are to specific and I could see other users having problems replicating my work over a wrong data frame label. \n",
    "4. When merging the thermal time and UAV data I would like to develop code that could identify dates where the thermal time was interpolated or missing. I still would merge on that date but having a system that would identify these situations. For example, if a data set was missing data from 4/1/19 to 4/10/19 and a UAV flight was done on 4/7/19 the output would be interpolated data for 4/7 but I would also return 4/10 as that is the nearest actual recorded data. This way the user can compare and make a decision on the best value to use.\n"
   ]
  },
  {
   "cell_type": "markdown",
   "metadata": {},
   "source": [
    "<a name=\"BJE_ref\"></a>\n",
    "## References\n",
    "Kyratzis Angelos C., Skarlatos Dimitrios P., Menexes George C., Vamvakousis Vasileios F., Katsiotis Andreas, 2017. Assessment of Vegetation Indices Derived by UAV Imagery for Durum Wheat Phenotyping under a Water Limited and Heat Stressed Mediterranean Environment. Frontiers in Plant Science V.8 P 1114\n",
    "\n",
    "Miller P, Lanier W, Brandt S (2001) Using Growing Degree Days to Predict\n",
    "Plant Stages, Ag/Extension Communications Coordinator, Communications\n",
    "Services, Montana State University-Bozeman, Bozeman, MO, pp 1-8.\n",
    "Available online:\n",
    "http://msuextension.org/publications/AgandNaturalResources/MT200103AG.\n",
    "pdf\n",
    "\n",
    "Robertson, G. W. 1968. A biometeorological time scale for a\n",
    "cereal crop involving day and night temperatures and photoperiod.\n",
    "Int. J. Biometeor. 12: 191\u0001223.\n",
    "\n",
    "Saiyed, I., Bullock, P.R., Sapirstein, H.D., Finlay, G.J., Jarvis, C.K., 2009. Thermal time models for estimating wheat phenological development and weather-based relationships to wheat quality. Can. J. Plant Sci. 89, 429–439.\n",
    "\n"
   ]
  }
 ],
 "metadata": {
  "kernelspec": {
   "display_name": "Python 3",
   "language": "python",
   "name": "python3"
  },
  "language_info": {
   "codemirror_mode": {
    "name": "ipython",
    "version": 3
   },
   "file_extension": ".py",
   "mimetype": "text/x-python",
   "name": "python",
   "nbconvert_exporter": "python",
   "pygments_lexer": "ipython3",
   "version": "3.7.1"
  }
 },
 "nbformat": 4,
 "nbformat_minor": 2
}
