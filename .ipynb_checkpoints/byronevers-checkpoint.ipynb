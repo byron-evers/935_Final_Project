{
 "cells": [
  {
   "cell_type": "markdown",
   "metadata": {},
   "source": [
    "# Project Update\n",
    "### 2019-03-19\n",
    "\n",
    "## Calculating thermal time indices and merging UAV data.\n",
    "\n",
    "**Name**: Byron Evers<br/>\n",
    "**Semester**: Spring 2019 <br/>\n",
    "**Project area**: Agronomy"
   ]
  },
  {
   "cell_type": "markdown",
   "metadata": {},
   "source": [
    "## Table of contents\n",
    "1. [Objective](#Update_Objective)\n",
    "2. [Motivation](#Update_Motivation)\n",
    "3. [Equations](#Update_Equations)\n",
    "    * [GDD](#Update_GDD)\n",
    "    * [Pdays](#Update_Pdays)\n",
    "    * [BMT](#Update_BMT)\n",
    "4. [Progress](#Update_Progress)\n",
    "5. [Road Blocks](#Update_Road_Blocks)\n",
    "6. [Examples](#Update_examples)\n",
    "    * [Mesonet Input](#Update_inputs)\n",
    "    * [GDD Function](#Update_function)\n",
    "    * [Data Frame Output](#Update_output)\n",
    "    * [Graph](#Update_graph)\n"
   ]
  },
  {
   "cell_type": "markdown",
   "metadata": {},
   "source": [
    "<a name=\"Update_Objective\"></a>\n",
    "## Objective\n",
    "\n",
    "1. Write a python function to calculate three thermal time indices for all UAV collection dates\n",
    "    * growing degree days (GDD)\n",
    "    * physiological days (Pdays)\n",
    "    * biometeorological time (BMT) \n",
    "2. Merge all of the UAV reflectance data, plot level phenotypic data and the calculated thermal values into one .csv file.\n"
   ]
  },
  {
   "cell_type": "markdown",
   "metadata": {},
   "source": [
    "<img src=\"diagram.png\" alt=\"sketch_image\" width=\"1000\"/>"
   ]
  },
  {
   "cell_type": "markdown",
   "metadata": {},
   "source": [
    "<a name=\"Update_Motivation\"></a>\n",
    "## Motivation\n",
    "- Poland labs current UAV pipeline includes stitching photos and extracting plot level reflectance data through Agisoft software.\n",
    "    * 2017 Data is \n",
    "- Data recived from this process is in either an Excel or csv file. \n",
    "- The data set includes reflectance values for 5 indiviual bands (R,G,B,RE and NIR) and 3 vegitative indices (NDVI, NDRE and GNDVI). \n",
    "- Thermal time indices are important for data analysis between years\n",
    "- Comparing thermal time indices maybe usefull in plots with diverse germplasm"
   ]
  },
  {
   "cell_type": "markdown",
   "metadata": {},
   "source": [
    "<a name=\"Update_Equations\"></a>\n",
    "## Equations\n"
   ]
  },
  {
   "cell_type": "markdown",
   "metadata": {},
   "source": [
    "<a name=\"Update_GDD\"></a>\n",
    "### Growing Degree Days (GDD):\n",
    "$$GDD = \\sum_{Planting}^{Harvest}(\\frac{Tmax+Tmin}{2})-Tbase$$"
   ]
  },
  {
   "cell_type": "markdown",
   "metadata": {},
   "source": [
    "<a name=\"Update_Pdays\"></a>\n",
    "### Physological Days (Pdays):\n",
    "$$Pdays = \\frac{1}{24}(5*P(T_1)+8*P(T_2)+8*P(T_3)+3*P(T_4))$$\n",
    "**Where**\n",
    "* $T_1=Tmin$\n",
    "* $T_2=\\frac{(2*Tmin)+Tmax}{3}$\n",
    "* $T_3=\\frac{Tmin+(2*Tmax)}{3}$\n",
    "* $T_4=Tmax$\n",
    "\n",
    "**And P is**\n",
    "* $P=0$   When $T <=Tmin$\n",
    "* $P=k*(1-\\frac{(T-Topt)2}{(Topt-Tmin)2})$ when $Tmin <= T <=Topt$\n",
    "* $P=k*(1-\\frac{(T-Topt)2}{(Tmax-Topt)2})$ when $Topt <= T <=Tmax$\n",
    "* $P=0$ when $T >=Tmax$\n"
   ]
  },
  {
   "cell_type": "markdown",
   "metadata": {},
   "source": [
    "<a name=\"Update_BMT\"></a>\n",
    "### Biometeorological Time\n",
    "$$BMT = \\sum_{Planting}^{Harvest}[a_1(L-a_0) + a_2(L-a_0)^2]$$\n",
    "$$*{[b_1(L-b_0) + b_2(L-b_0)^2]}$$\n",
    "$$*{[d_1(L-b_0) + d_2(L-b_0)^2]}$$"
   ]
  },
  {
   "cell_type": "markdown",
   "metadata": {},
   "source": [
    "**Where**\n",
    "* $L$= daily photoperiod\n",
    "* $a_0$= base daylength\n",
    "* $b_0$= base temperature\n",
    "* $a_1, a_2, b_1, b_2, d_1, d_2$ are response coefficents "
   ]
  },
  {
   "cell_type": "markdown",
   "metadata": {},
   "source": [
    "<a name=\"Update_Progress\"></a>\n",
    "## Progress\n",
    "- [X] Downloaded data from KSU Mesonet as a csv\n",
    "- [X] Defined and imported needed modules\n",
    "- [X] Imported data as a pands dataframe\n",
    "- [X] Edited the dataframe\n",
    "- Define user inputs needed for the cacluations and provide and place to enter\n",
    "    * [X] <span style=\"color:green\">Planting Date</span>\n",
    "    * [X] <span style=\"color:green\">Harvest Date</span>\n",
    "    * [X] <span style=\"color:green\">tbase</span>\n",
    "    * [X] <span style=\"color:green\">topt</span>\n",
    "    * [X] <span style=\"color:green\">tmax</span>\n",
    "- Define function for:\n",
    "    * [x] <span style=\"color:green\">Pdays</span>\n",
    "    * [ ] <span style=\"color:red\">Pdays</span>\n",
    "    * [ ] <span style=\"color:red\">BMT</span>\n",
    "- Visulize GDD with matplotlib. Include biophysical thermal time predictors\n",
    "    * [x] <span style=\"color:green\">Tillering</span>\n",
    "    * [x] <span style=\"color:green\">Flowering</span>\n",
    "    * [x] <span style=\"color:green\">Grain Fill</span>\n",
    "    \n",
    "    \n"
   ]
  },
  {
   "cell_type": "markdown",
   "metadata": {},
   "source": [
    "<a name=\"Update_Road_Blocks\"></a>\n",
    "## Road Blocks\n",
    "- Pdays how to incorperate two conditions (ie 5<x<17)\n",
    "- Source data and how to incorperate photoperiod \n",
    "- Importing UAV data from Excel particularly multiple tabs\n",
    "- Formating UAV csv data from a table format to a database format\n",
    "- Importing all csv files from single working directory and joining them on a common column"
   ]
  },
  {
   "cell_type": "markdown",
   "metadata": {},
   "source": [
    "<a name=\"Update_examples\"></a>\n",
    "## Examples"
   ]
  },
  {
   "cell_type": "markdown",
   "metadata": {},
   "source": [
    "<a name=\"Update_inputs\"></a>\n",
    "## Mesonet Input\n",
    "<img src=\"mesonetimport.png\" alt=\"sketch_image\" width=\"1600\"/>"
   ]
  },
  {
   "cell_type": "code",
   "execution_count": 2,
   "metadata": {},
   "outputs": [
    {
     "data": {
      "text/plain": [
       "\"df17.rename(columns={'Timestamp':'Date', 'AirTemperature':'Tmax', 'AirTemperature.1':'Tmin'}, inplace=True)\\ndf17 = df17.drop((df17.index[:2])) # Drop top lines of non numaric data\\ndf17 = df17.drop(['RelativeHumidity', 'Precipitation', 'WindSpeed2m','WindSpeed2m.1','SoilTemperature5cm','SoilTemperature5cm.1',\\n             'SoilTemperature10cm','SoilTemperature10cm.1','SolarRadiation','ETo','ETo.1'], axis=1)\""
      ]
     },
     "execution_count": 2,
     "metadata": {},
     "output_type": "execute_result"
    }
   ],
   "source": [
    "'''df17.rename(columns={'Timestamp':'Date', 'AirTemperature':'Tmax', 'AirTemperature.1':'Tmin'}, inplace=True)\n",
    "df17 = df17.drop((df17.index[:2])) # Drop top lines of non numaric data\n",
    "df17 = df17.drop(['RelativeHumidity', 'Precipitation', 'WindSpeed2m','WindSpeed2m.1','SoilTemperature5cm','SoilTemperature5cm.1',\n",
    "             'SoilTemperature10cm','SoilTemperature10cm.1','SolarRadiation','ETo','ETo.1'], axis=1)'''"
   ]
  },
  {
   "cell_type": "markdown",
   "metadata": {},
   "source": [
    "<img src=\"clean.png\" alt=\"sketch_image\" width=\"300\"/>"
   ]
  },
  {
   "cell_type": "markdown",
   "metadata": {},
   "source": [
    "<a name=\"Update_function\"></a>\n",
    "## Define GDD Function"
   ]
  },
  {
   "cell_type": "code",
   "execution_count": 5,
   "metadata": {},
   "outputs": [],
   "source": [
    "#Define function\n",
    "def GDD(df):\n",
    "    \"\"\"\n",
    "    Clacluates an individual and cumluative value for GDD for each day in the dataframe\n",
    "    \n",
    "    Input: Pandas dataframe. Minimum required columns include:\n",
    "        T_max= daily maximum temprerature\n",
    "        T_min= daily minimum temperatrue\n",
    "        Date = date of collection\n",
    "        \n",
    "    Output: Pandas dataframe. In addition the columns in the dataframe input two additional columns will be clclulated and added:\n",
    "        GDD= The growing degree day value for that individual day\n",
    "        cum_GDD = The cumlative growing degree day value for all days in the designated growing period.\n",
    "    \n",
    "    Byron Evers\n",
    "    \n",
    "    2019-03-06\n",
    "    \"\"\"\n",
    "    df.Tmin = df.Tmin.astype(float)\n",
    "    df.Tmax = df.Tmax.astype(float)\n",
    "    df.Date =  pd.to_datetime(df.Date,format='%Y-%m-%d')\n",
    "    df = df.drop(df[df.Date < plantDate].index)\n",
    "    df = df.drop(df[df.Date > harvestDate].index)\n",
    "    df['Tbase']=tbase\n",
    "    df['tavg'] =((df.Tmax+df.Tmin)/2)\n",
    "    values = np.where(df.tavg < tbase, df.Tbase, df.tavg).astype(float)\n",
    "    df['GDD']=(values)-df.Tbase\n",
    "    df['cum_GDD'] = df.GDD.cumsum()\n",
    "    return df"
   ]
  },
  {
   "cell_type": "markdown",
   "metadata": {},
   "source": [
    "<a name=\"Update_output\"></a>\n",
    "## Dataframe Output\n",
    "<img src=\"dfoutput.png\" alt=\"sketch_image\" width=\"500\"/>"
   ]
  },
  {
   "cell_type": "markdown",
   "metadata": {},
   "source": [
    "<a name=\"Update_graph\"></a>\n",
    "## Graph\n",
    "<img src=\"2017v2018GDD.png\" alt=\"sketch_image\" width=\"700\"/>"
   ]
  },
  {
   "cell_type": "code",
   "execution_count": 6,
   "metadata": {},
   "outputs": [
    {
     "data": {
      "text/plain": [
       "\"#size plot\\nplt.figure(figsize=(12,14))\\n\\n\\n#plot 2017 Data\\nplt.subplot(2,1,2)\\nplt.plot(df17.Date,df17.cum_GDD)\\nplt.ylabel('GDD', fontsize =24)\\nplt.xticks(rotation=60)\\n\\n#plot 2018 Data\\nplt.subplot(2,1,2)\\nplt.plot(df18.Date,df18.cum_GDD, 'k')\\nplt.ylabel('GDD', fontsize =24)\\nplt.xticks(rotation=60)\\n\\n#plot stage prediction lines\\nplt.plot(df17.Date, df17.Tillering, '--y')\\nplt.plot(df17.Date, df17.Flower, '--k')\\nplt.plot(df17.Date, df17.GrainFill, '--r')\\nplt.plot(df18.Date, df18.Tillering, '--y')\\nplt.plot(df18.Date, df18.Flower, '--k')\\nplt.plot(df18.Date, df18.GrainFill, '--r')\\n\\n\\n# edit plot\\nplt.title('GDD Comparison by Year', size=24)\\n\\nplt.legend(['17-GDD','18-GDD','Tillering Est.','Flowering Est.', 'Grain Fill Est.'], loc=2)\\nplt.show()\""
      ]
     },
     "execution_count": 6,
     "metadata": {},
     "output_type": "execute_result"
    }
   ],
   "source": [
    "'''#size plot\n",
    "plt.figure(figsize=(12,14))\n",
    "\n",
    "\n",
    "#plot 2017 Data\n",
    "plt.subplot(2,1,2)\n",
    "plt.plot(df17.Date,df17.cum_GDD)\n",
    "plt.ylabel('GDD', fontsize =24)\n",
    "plt.xticks(rotation=60)\n",
    "\n",
    "#plot 2018 Data\n",
    "plt.subplot(2,1,2)\n",
    "plt.plot(df18.Date,df18.cum_GDD, 'k')\n",
    "plt.ylabel('GDD', fontsize =24)\n",
    "plt.xticks(rotation=60)\n",
    "\n",
    "#plot stage prediction lines\n",
    "plt.plot(df17.Date, df17.Tillering, '--y')\n",
    "plt.plot(df17.Date, df17.Flower, '--k')\n",
    "plt.plot(df17.Date, df17.GrainFill, '--r')\n",
    "plt.plot(df18.Date, df18.Tillering, '--y')\n",
    "plt.plot(df18.Date, df18.Flower, '--k')\n",
    "plt.plot(df18.Date, df18.GrainFill, '--r')\n",
    "\n",
    "\n",
    "# edit plot\n",
    "plt.title('GDD Comparison by Year', size=24)\n",
    "\n",
    "plt.legend(['17-GDD','18-GDD','Tillering Est.','Flowering Est.', 'Grain Fill Est.'], loc=2)\n",
    "plt.show()'''"
   ]
  },
  {
   "cell_type": "code",
   "execution_count": null,
   "metadata": {},
   "outputs": [],
   "source": []
  }
 ],
 "metadata": {
  "kernelspec": {
   "display_name": "Python 3",
   "language": "python",
   "name": "python3"
  },
  "language_info": {
   "codemirror_mode": {
    "name": "ipython",
    "version": 3
   },
   "file_extension": ".py",
   "mimetype": "text/x-python",
   "name": "python",
   "nbconvert_exporter": "python",
   "pygments_lexer": "ipython3",
   "version": "3.7.1"
  }
 },
 "nbformat": 4,
 "nbformat_minor": 2
}
