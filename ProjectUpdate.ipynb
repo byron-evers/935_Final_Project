{
 "cells": [
  {
   "cell_type": "markdown",
   "metadata": {},
   "source": [
    "# Project Update\n",
    "### 2019-03-19\n",
    "\n",
    "## Calculating thermal time indices and merging UAV data.\n",
    "\n",
    "**Name**: Byron Evers<br/>\n",
    "**Semester**: Spring 2019 <br/>\n",
    "**Project area**: Agronomy"
   ]
  },
  {
   "cell_type": "markdown",
   "metadata": {},
   "source": [
    "**Objective:** \n",
    "\n",
    "Write a python function to calculate biometeorological time (BMT), physiological days (Pdays) and growing degree days (GDD) for several UAV collection dates. The objective is to have the thermal time parameters calculated for the specific dates that UAV data was collected. Ultimitly, through a python function, I would like merge all of the UAV reflectance data, plot level phenotypic data and the calculated thermal values into one .csv file.\n",
    "\n",
    "**Rational:** \n",
    "Current phenotyping methods are labor intensive, hard to replicate, and have limited temporal resolution. UAVs equipped with multispectral sensors present a possible solution to obtain valuable time sensitive data. To use these data points in spatio-temporal models, crop phenology needs to be estimate. Past research papers have used a range of thermal time equations to estimate crop phenology (Saiyed et al 2009). However, there is still a need to compare evaluate these thermal predictors in relationship to reflectance data.\n",
    "\n",
    "Over the last two growing season I have collected UAV reflectance data across several breeding nursery locations at several dates. Currently this data is being merged with plot level data with excel. This process is inefficient and introduces potential errors. I would like to stream line this process with Python. Additionally, having the ability to calculate several phenological development thermal times, with a Python function, will be useful for modeling purposes.\n",
    "\n",
    "Current UAV pipeline includes stitching photos and extracting plot level reflectance data through Agisoft software. Data recived from this process is formated as a .csv file and includes 5 indiviual reflectance bands (R,G,B,RE and NIR) and 3 vegitative indices (NDVI, NDRE and GNDVI). Each band and vegitative index can be be used to analyze biophysical traits of various crops. At this time I do not wish to calculate these indcies with python, though I would like to write a python script that can combine the Agisoft data with the calculated thermal times and plot level data such as yield and plant hieght."
   ]
  },
  {
   "cell_type": "markdown",
   "metadata": {},
   "source": [
    "**Step: 1 Download data from the KSU Mesonet**\n",
    "- Go to http://mesonet.k-state.edu/weather/historical/\n",
    "- Select location of intrest. For this projcet I have started with the Scandia weather station.\n",
    "- Enter the range of dates you would like to download. However, maximum range is 366 days. For this project I have dowloaded days for the 2016-2017 winter wheat growing season. I used dates ranging from 2016-09-01 to 2017-07-15. This is beyond the scope of the growing season but the defined function will only capture the dates within the growing season. \n",
    "- Export the data as a CSV to your working directory \n"
   ]
  },
  {
   "cell_type": "markdown",
   "metadata": {},
   "source": [
    "**Step: 2 import needed modules**"
   ]
  },
  {
   "cell_type": "code",
   "execution_count": 262,
   "metadata": {},
   "outputs": [],
   "source": [
    "import pandas as pd\n",
    "import numpy as np\n",
    "import glob\n",
    "import datetime as dt\n",
    "from datetime import datetime\n",
    "import matplotlib.pyplot as plt\n",
    "#import matplotlib.pyplot as plt\n",
    "%matplotlib inline"
   ]
  },
  {
   "cell_type": "markdown",
   "metadata": {},
   "source": [
    "**Step3: Review equation and evaluate minimum needed variables.**\n",
    "- Review equation and evaluate minimum needed variables.    \n",
    "**Growing Degree Days (GDD)**:\n",
    "$$GDD = \\sum_{Planting}^{Harvest}(\\frac{Tmax+Tmin}{2})-Tbase$$\n",
    "**Physological Days (Pdays)**:\n",
    "$$Pdays = \\frac{1}{24}(5*P(T_1)+8*P(T_2)+8*P(T_3)+3*P(T_4))$$\n",
    "**Where**\n",
    "$$T_1=Tmin$$\n",
    "\n",
    "$$$$\n",
    "\n",
    "$$T_2=\\frac{(2*Tmin)+Tmax}{3}$$\n",
    "\n",
    "$$$$\n",
    "\n",
    "$$T_3=\\frac{Tmin+(2*Tmax)}{3}$$\n",
    "\n",
    "$$$$\n",
    "\n",
    "$$T_4=Tmax$$\n",
    "\n",
    "**And P is**\n",
    "$$P=0$$   $$when T <=Tmin$$\n",
    "\n",
    "$$$$\n",
    "\n",
    "$$P=k*(1-\\frac{(T-Topt)2}{(Topt-Tmin)2})$$ $$when Tmin <= T <=Topt$$\n",
    "\n",
    "$$$$\n",
    "\n",
    "$$P=k*(1-\\frac{(T-Topt)2}{(Tmax-Topt)2})$$ $$when Topt <= T <=Tmax$$\n",
    "\n",
    "$$$$\n",
    "\n",
    "$$P=0$$   $$when T >=Tmax$$\n"
   ]
  },
  {
   "cell_type": "markdown",
   "metadata": {},
   "source": [
    "**Step4: Import data and review format**\n",
    "- Set directory name and file name"
   ]
  },
  {
   "cell_type": "code",
   "execution_count": 263,
   "metadata": {},
   "outputs": [],
   "source": [
    "dirname = '/Users/bevers/Desktop/Coding/Project_Update/'\n",
    "filename = '2017_growing_season.txt'"
   ]
  },
  {
   "cell_type": "markdown",
   "metadata": {},
   "source": [
    "- Import file and review the first 10 entries to check content and format"
   ]
  },
  {
   "cell_type": "code",
   "execution_count": 264,
   "metadata": {},
   "outputs": [],
   "source": [
    "df = pd.read_csv(dirname + filename)\n",
    "#df.head(10)"
   ]
  },
  {
   "cell_type": "markdown",
   "metadata": {},
   "source": [
    "<img src=\"mesonetimport.png\" alt=\"sketch_image\" width=\"1600\"/>"
   ]
  },
  {
   "cell_type": "markdown",
   "metadata": {},
   "source": [
    "**Step5: Edit data frame to match format needed**"
   ]
  },
  {
   "cell_type": "code",
   "execution_count": 265,
   "metadata": {},
   "outputs": [
    {
     "name": "stdout",
     "output_type": "stream",
     "text": [
      "<class 'pandas.core.frame.DataFrame'>\n",
      "Int64Index: 342 entries, 2 to 343\n",
      "Data columns (total 4 columns):\n",
      "Date       342 non-null object\n",
      "Station    342 non-null object\n",
      "Tmax       342 non-null object\n",
      "Tmin       342 non-null object\n",
      "dtypes: object(4)\n",
      "memory usage: 13.4+ KB\n"
     ]
    }
   ],
   "source": [
    "df.rename(columns={'Timestamp':'Date', 'AirTemperature':'Tmax', 'AirTemperature.1':'Tmin'}, inplace=True)\n",
    "df = df.drop((df.index[:2])) # Drop top lines of non numaric data\n",
    "df = df.drop(['RelativeHumidity', 'Precipitation', 'WindSpeed2m','WindSpeed2m.1','SoilTemperature5cm','SoilTemperature5cm.1',\n",
    "             'SoilTemperature10cm','SoilTemperature10cm.1','SolarRadiation','ETo','ETo.1'], axis=1)\n",
    "df.info()"
   ]
  },
  {
   "cell_type": "markdown",
   "metadata": {},
   "source": [
    "**Step6: Edit data types**\n",
    "- The data should be in a 'pandas.core.frame.DataFrame'\n",
    "- Date should be in datetime64 format\n",
    "- Tmax and Tmin should be float64 format"
   ]
  },
  {
   "cell_type": "code",
   "execution_count": 266,
   "metadata": {},
   "outputs": [
    {
     "name": "stdout",
     "output_type": "stream",
     "text": [
      "<class 'pandas.core.frame.DataFrame'>\n",
      "Int64Index: 342 entries, 2 to 343\n",
      "Data columns (total 4 columns):\n",
      "Date       342 non-null datetime64[ns]\n",
      "Station    342 non-null object\n",
      "Tmax       342 non-null float64\n",
      "Tmin       342 non-null float64\n",
      "dtypes: datetime64[ns](1), float64(2), object(1)\n",
      "memory usage: 13.4+ KB\n"
     ]
    }
   ],
   "source": [
    "#Set T_max and T_min to float values\n",
    "df.Tmin = df.Tmin.astype(float)\n",
    "df.Tmax = df.Tmax.astype(float)\n",
    "\n",
    "df.Date =  pd.to_datetime(df.Date,format='%Y-%m-%d')\n",
    "df.head(5)\n",
    "df.info()"
   ]
  },
  {
   "cell_type": "markdown",
   "metadata": {},
   "source": [
    "**Step7: Set user inputs**\n",
    "- Set planting date in 'YYYY-MM-DD' form. Make sure it is a string\n",
    "- Set harvest date in 'YYYY-MM-DD' form. Make sure it is a string\n",
    "- Set your base/minimum temperatrue (Tbase) value in degrees C\n",
    "- Set you optimum temperature (Topt) value in degrees C\n",
    "- Set you maximum temperature (Tmax) value in degrees C\n",
    "- Set k scale factor, default is 10"
   ]
  },
  {
   "cell_type": "code",
   "execution_count": 267,
   "metadata": {},
   "outputs": [],
   "source": [
    "# Define inputs \n",
    "plantDate=np.datetime64('2016-10-10') #set the date your crop was planted\n",
    "harvestDate=np.datetime64('2017-06-30') #set the date your crop was planted\n",
    "tbase=5 # set the base temperature for your given crop. \n",
    "topt=17\n",
    "tmax=31\n",
    "k= .5"
   ]
  },
  {
   "cell_type": "markdown",
   "metadata": {},
   "source": [
    "**Step 7: Define GDD function**\n",
    "- Only uses dates between planting and harvesting\n",
    "- Adds Tbase to the dataframe\n",
    "- Adds a GDD for each indivudual date\n",
    "- Adds a running cumlative total (cum_GDD) for GDD throughout the season"
   ]
  },
  {
   "cell_type": "code",
   "execution_count": 268,
   "metadata": {},
   "outputs": [],
   "source": [
    "#Define function\n",
    "def GDD(df):\n",
    "    \"\"\"\n",
    "    Clacluates an individual and cumluative value for GDD for each day in the dataframe\n",
    "    \n",
    "    Input: Pandas dataframe. Minimum required columns include:\n",
    "        T_max= daily maximum temprerature\n",
    "        T_min= daily minimum temperatrue\n",
    "        Date = date of collection\n",
    "        \n",
    "    Output: Pandas dataframe. In addition the columns in the dataframe input two additional columns will be clclulated and added:\n",
    "        GDD= The growing degree day value for that individual day\n",
    "        cum_GDD = The cumlative growing degree day value for all days in the designated growing period.\n",
    "    \n",
    "    Byron Evers\n",
    "    \n",
    "    2019-03-06\n",
    "    \"\"\"\n",
    "    df = df.drop(df[df.Date < plantDate].index)\n",
    "    df = df.drop(df[df.Date > harvestDate].index)\n",
    "    df['Tbase']=tbase\n",
    "    df['tavg'] =((df.Tmax+df.Tmin)/2)\n",
    "    values = np.where(df.tavg < tbase, df.Tbase, df.tavg).astype(float)\n",
    "    df['GDD']=(values)-df.Tbase\n",
    "    df['cum_GDD'] = df.GDD.cumsum()\n",
    "    return df"
   ]
  },
  {
   "cell_type": "markdown",
   "metadata": {},
   "source": [
    "**Step 8: Define Pdays function**\n",
    "- Only uses dates between planting and harvesting\n",
    "- Adds a Pday for each indivudual date\n",
    "- Adds a running cumlative total (cum_Pdays) for Pdays throughout the season"
   ]
  },
  {
   "cell_type": "code",
   "execution_count": 269,
   "metadata": {},
   "outputs": [],
   "source": [
    "def Pdays(df):\n",
    "    df = df.drop(df[df.Date < plantDate].index)\n",
    "    df = df.drop(df[df.Date > harvestDate].index)\n",
    "    T1=np.where(df.Tmin > tbase, df.Tmin, tbase)\n",
    "    T4=np.where(df.Tmax > 30, 30, df.Tmax)\n",
    "    T2=((2*T1) + T4)/2\n",
    "    T3=((2*T4) + T1)/2\n",
    "    T =((df.Tmax+df.Tmin)/2)\n",
    "    df['P'] = np.where(T < topt,(k*(1-((T-topt)*2)/((topt-df.Tmin)*2))),T)\n",
    "    df['P'] = np.where(T > topt,(k*(1-((T-topt)*2)/((df.Tmax-topt)*2))),df.P)\n",
    "    df['P'] = np.where(T < tbase,0,df.P)\n",
    "    df['P'] = np.where(T > tmax,0,df.P)\n",
    "    df['Pdays']= (1/24)*((5*df.P*T1)+ (8*df.P*T2) + (8*df.P*T3) + (3*df.P*T4))\n",
    "    df['cum_Pdays']= df.Pdays.cumsum()\n",
    "    return df"
   ]
  },
  {
   "cell_type": "markdown",
   "metadata": {},
   "source": [
    "**Step 9: Call the function and store as a varable**\n",
    "- Call the first 5 items of the data frame to make sure the function worked properly\n"
   ]
  },
  {
   "cell_type": "code",
   "execution_count": 270,
   "metadata": {},
   "outputs": [
    {
     "name": "stdout",
     "output_type": "stream",
     "text": [
      "<class 'pandas.core.frame.DataFrame'>\n",
      "Int64Index: 264 entries, 41 to 304\n",
      "Data columns (total 13 columns):\n",
      "Date         264 non-null datetime64[ns]\n",
      "Station      264 non-null object\n",
      "Tmax         264 non-null float64\n",
      "Tmin         264 non-null float64\n",
      "Tbase        264 non-null int64\n",
      "tavg         264 non-null float64\n",
      "GDD          264 non-null float64\n",
      "cum_GDD      264 non-null float64\n",
      "P            264 non-null float64\n",
      "Pdays        264 non-null float64\n",
      "cum_Pdays    264 non-null float64\n",
      "Tillering    264 non-null int64\n",
      "GrainFill    264 non-null int64\n",
      "dtypes: datetime64[ns](1), float64(8), int64(3), object(1)\n",
      "memory usage: 28.9+ KB\n"
     ]
    }
   ],
   "source": [
    "df = GDD(df)\n",
    "df = Pdays(df)\n",
    "# Add stage predictor GDD for reference\n",
    "df['Tillering']=420\n",
    "df['GrainFill']=1200\n",
    "df.info()"
   ]
  },
  {
   "cell_type": "markdown",
   "metadata": {},
   "source": [
    "**Step 10: Plot cumlative**\n",
    "- Gives visualization to GDD as a tool to ensure the cumlative value never decreases. If it does decrease then either the inputs or the function needs to be adjusted.\n",
    "- This can also be used to compare other thermal perameters (Pdays and BMT) as these functions are added and defined. "
   ]
  },
  {
   "cell_type": "code",
   "execution_count": 271,
   "metadata": {},
   "outputs": [
    {
     "data": {
      "image/png": "[encoded data removed]",
      "text/plain": [
       "<Figure size 432x288 with 1 Axes>"
      ]
     },
     "metadata": {
      "needs_background": "light"
     },
     "output_type": "display_data"
    },
    {
     "data": {
      "text/plain": [
       "<Figure size 432x288 with 0 Axes>"
      ]
     },
     "metadata": {},
     "output_type": "display_data"
    }
   ],
   "source": [
    "import matplotlib.dates as mdates\n",
    "# plot thermal indices\n",
    "plt.plot(df.Date, df.cum_GDD, 'k')\n",
    "plt.plot(df.Date, df.cum_Pdays, '--b')\n",
    "\n",
    "#plot stage prediction lines\n",
    "plt.plot(df.Date, df.Tillering, '--y')\n",
    "plt.plot(df.Date, df.GrainFill, '--r')\n",
    "\n",
    "#edit figure\n",
    "plt.title('Thermal Time Index Comparison', size=16)\n",
    "plt.ylabel('Thermal Time', size=12)\n",
    "plt.legend(['GDD','Pdays','Tillering Est.', 'Grain Fill Est.'])\n",
    "plt.autoscale(enable=True, axis='x', tight=True)\n",
    "#plt.gca().xaxis.set_major_formatter(mdates.DateFormatter('%m-%d'))\n",
    "plt.xticks(rotation=60)\n",
    "plt.show()\n",
    "plt.savefig('GDDvsPday.png', dpi=2000) "
   ]
  },
  {
   "cell_type": "markdown",
   "metadata": {},
   "source": [
    "<img src=\"figure2.png\" alt=\"sketch_image\" width=\"600\"/>"
   ]
  },
  {
   "cell_type": "code",
   "execution_count": null,
   "metadata": {},
   "outputs": [],
   "source": []
  },
  {
   "cell_type": "code",
   "execution_count": null,
   "metadata": {},
   "outputs": [],
   "source": []
  },
  {
   "cell_type": "code",
   "execution_count": null,
   "metadata": {},
   "outputs": [],
   "source": []
  }
 ],
 "metadata": {
  "kernelspec": {
   "display_name": "Python 3",
   "language": "python",
   "name": "python3"
  },
  "language_info": {
   "codemirror_mode": {
    "name": "ipython",
    "version": 3
   },
   "file_extension": ".py",
   "mimetype": "text/x-python",
   "name": "python",
   "nbconvert_exporter": "python",
   "pygments_lexer": "ipython3",
   "version": "3.7.1"
  }
 },
 "nbformat": 4,
 "nbformat_minor": 2
}
