{
 "cells": [
  {
   "cell_type": "markdown",
   "metadata": {},
   "source": [
    "# Project Update\n",
    "### 2019-04-19\n",
    "\n",
    "## Calculating thermal time indices and merging UAV data.\n",
    "\n",
    "**Name**: Byron Evers<br/>\n",
    "**Semester**: Spring 2019 <br/>\n",
    "**Project area**: Agronomy"
   ]
  },
  {
   "cell_type": "markdown",
   "metadata": {},
   "source": [
    "## Table of contents\n",
    "1. [Objective](#Update_Objective)\n",
    "2. [Motivation](#Update_Motivation)\n",
    "3. [Equations](#Update_Equations)\n",
    "    * [GDD](#Update_GDD)\n",
    "    * [Pdays](#Update_Pdays)\n",
    "    * [BMT](#Update_BMT)\n",
    "4. [Progress](#Update_Progress)\n",
    "5. [Road Blocks](#Update_Road_Blocks)\n",
    "6. [Examples](#Update_examples)\n",
    "    * [Mesonet Input](#Update_inputs)\n",
    "    * [Functions](#Update_function)\n",
    "    * [Graph](#Update_graph)\n",
    "    * [Data Frame Output](#Update_output)"
   ]
  },
  {
   "cell_type": "markdown",
   "metadata": {},
   "source": [
    "## Motivation\n",
    "- Poland labs current UAV pipeline includes stitching photos and extracting plot level reflectance data through Agisoft software.\n",
    "- Data received from this process is in either an Excel or csv file. \n",
    "- The data set includes reflectance values for 5 individual bands (R,G,B,RE and NIR) and 3 vegetative indices (NDVI, NDRE and GNDVI). \n",
    "- Thermal time indices are important for data analysis between years\n",
    "- Comparing thermal time indices maybe useful in plots with diverse germplasm"
   ]
  },
  {
   "cell_type": "markdown",
   "metadata": {},
   "source": [
    "<a name=\"Update_Objective\"></a>\n",
    "## Objective\n",
    "\n",
    "1. Write a python function to calculate three thermal time indices for all UAV collection dates\n",
    "    * growing degree days (GDD)\n",
    "    * physiological days (Pdays)\n",
    "    * biometeorological time (BMT) \n",
    "2. Merge all of the UAV reflectance data, plot level phenotypic data and the calculated thermal values into one .csv file.\n",
    "\n",
    "**I would like to emphasize that the goal of this project is to create a single output file with UAV data and thermal time indices. Calculating UAV indices such as NDVI is already completed by this point. The diagram bellow shows the outline of the entire process. However only steps in green are the objectives of this project.**"
   ]
  },
  {
   "cell_type": "markdown",
   "metadata": {},
   "source": [
    "<img src=\"diagram.png\" alt=\"sketch_image\" width=\"1000\"/>"
   ]
  },
  {
   "cell_type": "markdown",
   "metadata": {},
   "source": [
    "<a name=\"Update_Equations\"></a>\n",
    "## Equations"
   ]
  },
  {
   "cell_type": "markdown",
   "metadata": {},
   "source": [
    "<a name=\"Update_GDD\"></a>\n",
    "### Growing Degree Days (GDD):\n",
    "$$GDD = \\sum_{Planting}^{Harvest}(\\frac{Tmax+Tmin}{2})-Tbase$$"
   ]
  },
  {
   "cell_type": "markdown",
   "metadata": {},
   "source": [
    "<a name=\"Update_Pdays\"></a>\n",
    "### Physiological Days (Pdays):\n",
    "$$Pdays = \\frac{1}{24}(5*P(T_1)+8*P(T_2)+8*P(T_3)+3*P(T_4))$$\n",
    "**Where**\n",
    "* $T_1=Tmin$\n",
    "* $T_2=\\frac{(2*Tmin)+Tmax}{3}$\n",
    "* $T_3=\\frac{Tmin+(2*Tmax)}{3}$\n",
    "* $T_4=Tmax$\n",
    "\n",
    "**And P is**\n",
    "* $P=0$   When $T <=Tmin$\n",
    "* $P=k*(1-\\frac{(T-Topt)2}{(Topt-Tmin)2})$ when $Tmin <= T <=Topt$\n",
    "* $P=k*(1-\\frac{(T-Topt)2}{(Tmax-Topt)2})$ when $Topt <= T <=Tmax$\n",
    "* $P=0$ when $T >=Tmax$\n",
    "\n",
    "**And k is**\n",
    "* $P=0$   When $T <=Tmin$"
   ]
  },
  {
   "cell_type": "markdown",
   "metadata": {},
   "source": [
    "<a name=\"Update_BMT\"></a>\n",
    "### Biometeorological Time\n",
    "$$BMT = \\sum_{Planting}^{Harvest}[a_1(L-a_0) + a_2(L-a_0)^2* {[b_1(Tmax-b_0) + b_2(Tmax-b_0)^2}+{d_1(Tmin-b_0) + d_2(Tmin-b_0)^2]}$$\n",
    "**Where**\n",
    "* $L$= daily photoperiod\n",
    "* $a_0$= base daylength\n",
    "* $b_0$= base temperature\n",
    "* $a_1, a_2, b_1, b_2, d_1, d_2$ are response coefficients"
   ]
  },
  {
   "cell_type": "markdown",
   "metadata": {},
   "source": [
    "<a name=\"Update_Progress\"></a>\n",
    "## Progress\n",
    "- [X] Downloaded data from KSU Mesonet as a csv\n",
    "   * <span style=\"color:green\">NEW! Direct download using URL</span>\n",
    "- [X] Defined and imported needed modules\n",
    "- [X] Imported data as a pandas dataframe\n",
    "- [X] Edited the dataframe\n",
    "- Define user inputs needed for the cacluations and provide and place to enter\n",
    "    * [X] <span style=\"color:green\">Planting Date</span>\n",
    "    * [X] <span style=\"color:green\">Harvest Date</span>\n",
    "    * [X] <span style=\"color:green\">tbase</span>\n",
    "    * [X] <span style=\"color:green\">topt</span>\n",
    "    * [X] <span style=\"color:green\">tmax</span>\n",
    "- Define function for:\n",
    "    * [X] <span style=\"color:green\">GDD</span>\n",
    "    * [X] <span style=\"color:green\">Pdays</span>\n",
    "    * [X] <span style=\"color:green\">BMT</span>\n",
    "- Visualize thermal time with matplotlib. Include biophysical thermal time predictors\n",
    "    * [X] <span style=\"color:green\">Tillering</span>\n",
    "    * [X] <span style=\"color:green\">Flowering</span>\n",
    "    * [X] <span style=\"color:green\">Grain Fill</span>"
   ]
  },
  {
   "cell_type": "markdown",
   "metadata": {},
   "source": [
    "<a name=\"Update_Road_Blocks\"></a>\n",
    "## Road Blocks/Future Work\n",
    "- BMT equation\n",
    "    * I have a function with the equation however, as you will see on the graph, it is not calculating realistic values. I believe this is an issue with the coefficients. This is not necessarily a codding road block but is a limiting factor to my success. \n",
    " \n",
    "- Merging on date\n",
    "    * Currently I can get the UAV data and the thermal time data to merge based on date. However, as written the rows will not merge if both files do not contain the date. I want to merge based on the UAV collection date with the \"nearest\" thermal time date. For example, if for some reason the mesonet was not working for a week and within that week I conducted a flight. I still want to match the closest thermal time to UAV collection date. A nice added bonus would to have a threshold tolerance of a set number of days.\n"
   ]
  },
  {
   "cell_type": "markdown",
   "metadata": {},
   "source": [
    "<a name=\"Update_examples\"></a>\n",
    "## Examples and Operational Code\n",
    "\n",
    "Thank you for reviewing my project and I appreciate any feedback you can provide. This is a fully functional version that pulls data from KSU Mesonet. If for some reason KSU Mesonet is not working I do have a .csv file with weather data save in the data folder. "
   ]
  },
  {
   "cell_type": "code",
   "execution_count": 26,
   "metadata": {},
   "outputs": [],
   "source": [
    "#Import needed modules\n",
    "import pandas as pd\n",
    "import numpy as np\n",
    "from numpy import genfromtxt\n",
    "import glob\n",
    "import datetime\n",
    "import ephem\n",
    "import datetime\n",
    "import matplotlib.pyplot as plt\n",
    "%matplotlib inline\n",
    "\n",
    "# to run ephm you may need to install it first. To do this please run the line below in your shell\n",
    "# pip install ephem"
   ]
  },
  {
   "cell_type": "markdown",
   "metadata": {},
   "source": [
    "<a name=\"Update__inputs\"></a>"
   ]
  },
  {
   "cell_type": "code",
   "execution_count": 27,
   "metadata": {},
   "outputs": [],
   "source": [
    "# Set up conection to KS Mesonet\n",
    "root = 'http://mesonet.k-state.edu/rest/stationdata/?'\n",
    "stn = 'Manhattan'\n",
    "interval = 'day'\n",
    "start_time = \"20140101000000\" # date searches must be formated as YYYYmmddHHMMSS (year,month,day,hour,minute,second)\n",
    "end_time =  datetime.datetime.now().strftime('%Y%m%d%H%M%S') # date searches must be formated as YYYYmmddHHMMSS (year,month,day,hour,minute,second)\n",
    "#additional documentation can be found at; http://mesonet.k-state.edu/rest/\n",
    "#valid station names and cordinates can be found at; http://mesonet.k-state.edu/rest/stationnames/"
   ]
  },
  {
   "cell_type": "code",
   "execution_count": 3,
   "metadata": {},
   "outputs": [
    {
     "data": {
      "text/plain": [
       "'http://mesonet.k-state.edu/rest/stationdata/?stn=Manhattan&int=day&t_start=20140101000000&t_end=20190416104140'"
      ]
     },
     "execution_count": 3,
     "metadata": {},
     "output_type": "execute_result"
    }
   ],
   "source": [
    "# Create url to mesonet\n",
    "url = root + \"stn=\"+stn+'&int='+interval+'&t_start='+start_time+'&t_end='+end_time\n",
    "url #prints url so user can check format"
   ]
  },
  {
   "cell_type": "markdown",
   "metadata": {},
   "source": [
    "<span style=\"color:red\">**The cell below will pull data from KSU Mesonet. This works as long as the mesonet site is operational. Additionally, this can be slow dependent on your internet connection. Feel free to try this however, I do have a sample data set saved as a .txt that you can access in the cells bellow.**<span>"
   ]
  },
  {
   "cell_type": "code",
   "execution_count": 28,
   "metadata": {},
   "outputs": [
    {
     "name": "stdout",
     "output_type": "stream",
     "text": [
      "<class 'pandas.core.frame.DataFrame'>\n"
     ]
    }
   ],
   "source": [
    "df = pd.read_csv(url)\n",
    "print(type(df))"
   ]
  },
  {
   "cell_type": "markdown",
   "metadata": {},
   "source": [
    "<span style=\"color:red\">**If mesonet is working you can skip the next two cells. However, if mesonet is not working or if you want to try the remaining code with a stored source of code please continue.**<span>"
   ]
  },
  {
   "cell_type": "code",
   "execution_count": 29,
   "metadata": {},
   "outputs": [],
   "source": [
    "dirname = '/Users/bevers/Desktop/Coding/Thermal_Time_Indices/Data/' #change to the working directory where the data is stored\n",
    "filename ='Manhattan_mesonet.txt'"
   ]
  },
  {
   "cell_type": "code",
   "execution_count": 30,
   "metadata": {},
   "outputs": [
    {
     "name": "stdout",
     "output_type": "stream",
     "text": [
      "<class 'pandas.core.frame.DataFrame'>\n"
     ]
    }
   ],
   "source": [
    "df = pd.read_csv(dirname + filename)\n",
    "print(type(df))"
   ]
  },
  {
   "cell_type": "markdown",
   "metadata": {},
   "source": [
    "**df should now be a pandas.core.frame.DataFrame if not please try to re-upload the data either from the url or directly from the data folder. If you cannot get the data to load properly please contact me.**"
   ]
  },
  {
   "cell_type": "code",
   "execution_count": 31,
   "metadata": {},
   "outputs": [
    {
     "data": {
      "text/html": [
       "<div>\n",
       "<style scoped>\n",
       "    .dataframe tbody tr th:only-of-type {\n",
       "        vertical-align: middle;\n",
       "    }\n",
       "\n",
       "    .dataframe tbody tr th {\n",
       "        vertical-align: top;\n",
       "    }\n",
       "\n",
       "    .dataframe thead th {\n",
       "        text-align: right;\n",
       "    }\n",
       "</style>\n",
       "<table border=\"1\" class=\"dataframe\">\n",
       "  <thead>\n",
       "    <tr style=\"text-align: right;\">\n",
       "      <th></th>\n",
       "      <th>Date</th>\n",
       "      <th>STATION</th>\n",
       "      <th>Tmin</th>\n",
       "      <th>Tmax</th>\n",
       "    </tr>\n",
       "  </thead>\n",
       "  <tbody>\n",
       "    <tr>\n",
       "      <th>0</th>\n",
       "      <td>2014-01-02</td>\n",
       "      <td>Manhattan</td>\n",
       "      <td>-12.82</td>\n",
       "      <td>0.10</td>\n",
       "    </tr>\n",
       "    <tr>\n",
       "      <th>1</th>\n",
       "      <td>2014-01-03</td>\n",
       "      <td>Manhattan</td>\n",
       "      <td>-17.79</td>\n",
       "      <td>-6.43</td>\n",
       "    </tr>\n",
       "    <tr>\n",
       "      <th>2</th>\n",
       "      <td>2014-01-04</td>\n",
       "      <td>Manhattan</td>\n",
       "      <td>-14.39</td>\n",
       "      <td>6.53</td>\n",
       "    </tr>\n",
       "    <tr>\n",
       "      <th>3</th>\n",
       "      <td>2014-01-05</td>\n",
       "      <td>Manhattan</td>\n",
       "      <td>-8.81</td>\n",
       "      <td>3.90</td>\n",
       "    </tr>\n",
       "    <tr>\n",
       "      <th>4</th>\n",
       "      <td>2014-01-06</td>\n",
       "      <td>Manhattan</td>\n",
       "      <td>-19.15</td>\n",
       "      <td>-8.74</td>\n",
       "    </tr>\n",
       "  </tbody>\n",
       "</table>\n",
       "</div>"
      ],
      "text/plain": [
       "        Date    STATION   Tmin  Tmax\n",
       "0 2014-01-02  Manhattan -12.82  0.10\n",
       "1 2014-01-03  Manhattan -17.79 -6.43\n",
       "2 2014-01-04  Manhattan -14.39  6.53\n",
       "3 2014-01-05  Manhattan  -8.81  3.90\n",
       "4 2014-01-06  Manhattan -19.15 -8.74"
      ]
     },
     "execution_count": 31,
     "metadata": {},
     "output_type": "execute_result"
    }
   ],
   "source": [
    "# Select colums you want and put in a dataframe\n",
    "df =df[['TIMESTAMP', 'STATION', 'TEMP2MMIN','TEMP2MMAX']] #selects columns needed\n",
    "df.rename(columns={'TIMESTAMP':'Date', 'TEMP2MMAX':'Tmax', 'TEMP2MMIN':'Tmin'}, inplace=True) #renames columns \n",
    "df['Date'] =  pd.to_datetime(df['Date'],format='%Y-%m-%d') # formats 'Date' coulmn to correct datetime format\n",
    "df.Tmin = df.Tmin.astype(float)\n",
    "df.Tmax = df.Tmax.astype(float)\n",
    "df = df.dropna(axis=0, subset=['Tmax'])\n",
    "df = df.dropna(axis=0, subset=['Tmin'])\n",
    "df.head(5)"
   ]
  },
  {
   "cell_type": "code",
   "execution_count": 32,
   "metadata": {},
   "outputs": [],
   "source": [
    "# Define inputs \n",
    "plantDate=np.datetime64('2017-10-10') #set the date your crop was planted\n",
    "harvestDate=np.datetime64('2018-06-22') #set the date your crop was planted\n",
    "long = '-98.12082630' \n",
    "lat = '37.96295259'\n",
    "\n",
    "# GDD inputs\n",
    "tbase= 5 # set the base temperature for your given crop. \n",
    "\n",
    "\n",
    "# Pdays input\n",
    "k= .35# scale factor \n",
    "topt = 17\n",
    "tmax = 30\n",
    "\n",
    "# BMT inputs\n",
    "a0=10 #base day length\n",
    "a1=.1\n",
    "a2=.1\n",
    "b1=0.05\n",
    "b2=0.05\n",
    "d1=0.05\n",
    "d2=0.05\n"
   ]
  },
  {
   "cell_type": "markdown",
   "metadata": {},
   "source": [
    "<a name=\"Update__function\"></a>\n",
    "\n",
    "**For this project we only need daily Tmin and Tmax from the mesonet. The code in the above cell only selects the columns needed and renames them to a name format that will be needed in functions. \n",
    "In this case NaN values are dropped. \n",
    "When the thermal time index is assigned to a UAV flight date if the exact date is not available it will select the next closest date.**\n",
    "\n",
    "**The next cell calculates and adds values to the dataframe for sunrise, sunset and photoperiod.**"
   ]
  },
  {
   "cell_type": "code",
   "execution_count": 33,
   "metadata": {},
   "outputs": [
    {
     "data": {
      "text/html": [
       "<div>\n",
       "<style scoped>\n",
       "    .dataframe tbody tr th:only-of-type {\n",
       "        vertical-align: middle;\n",
       "    }\n",
       "\n",
       "    .dataframe tbody tr th {\n",
       "        vertical-align: top;\n",
       "    }\n",
       "\n",
       "    .dataframe thead th {\n",
       "        text-align: right;\n",
       "    }\n",
       "</style>\n",
       "<table border=\"1\" class=\"dataframe\">\n",
       "  <thead>\n",
       "    <tr style=\"text-align: right;\">\n",
       "      <th></th>\n",
       "      <th>Date</th>\n",
       "      <th>STATION</th>\n",
       "      <th>Tmin</th>\n",
       "      <th>Tmax</th>\n",
       "      <th>Sunrise</th>\n",
       "      <th>Sunset</th>\n",
       "      <th>PhotoPeriod</th>\n",
       "    </tr>\n",
       "  </thead>\n",
       "  <tbody>\n",
       "    <tr>\n",
       "      <th>0</th>\n",
       "      <td>2014-01-02</td>\n",
       "      <td>Manhattan</td>\n",
       "      <td>-12.82</td>\n",
       "      <td>0.10</td>\n",
       "      <td>8.804678</td>\n",
       "      <td>18.418592</td>\n",
       "      <td>9.613914</td>\n",
       "    </tr>\n",
       "    <tr>\n",
       "      <th>1</th>\n",
       "      <td>2014-01-03</td>\n",
       "      <td>Manhattan</td>\n",
       "      <td>-17.79</td>\n",
       "      <td>-6.43</td>\n",
       "      <td>8.806285</td>\n",
       "      <td>18.432580</td>\n",
       "      <td>9.626295</td>\n",
       "    </tr>\n",
       "    <tr>\n",
       "      <th>2</th>\n",
       "      <td>2014-01-04</td>\n",
       "      <td>Manhattan</td>\n",
       "      <td>-14.39</td>\n",
       "      <td>6.53</td>\n",
       "      <td>8.807314</td>\n",
       "      <td>18.446919</td>\n",
       "      <td>9.639604</td>\n",
       "    </tr>\n",
       "    <tr>\n",
       "      <th>3</th>\n",
       "      <td>2014-01-05</td>\n",
       "      <td>Manhattan</td>\n",
       "      <td>-8.81</td>\n",
       "      <td>3.90</td>\n",
       "      <td>8.807762</td>\n",
       "      <td>18.461594</td>\n",
       "      <td>9.653831</td>\n",
       "    </tr>\n",
       "    <tr>\n",
       "      <th>4</th>\n",
       "      <td>2014-01-06</td>\n",
       "      <td>Manhattan</td>\n",
       "      <td>-19.15</td>\n",
       "      <td>-8.74</td>\n",
       "      <td>8.807627</td>\n",
       "      <td>18.476589</td>\n",
       "      <td>9.668963</td>\n",
       "    </tr>\n",
       "  </tbody>\n",
       "</table>\n",
       "</div>"
      ],
      "text/plain": [
       "        Date    STATION   Tmin  Tmax   Sunrise     Sunset  PhotoPeriod\n",
       "0 2014-01-02  Manhattan -12.82  0.10  8.804678  18.418592     9.613914\n",
       "1 2014-01-03  Manhattan -17.79 -6.43  8.806285  18.432580     9.626295\n",
       "2 2014-01-04  Manhattan -14.39  6.53  8.807314  18.446919     9.639604\n",
       "3 2014-01-05  Manhattan  -8.81  3.90  8.807762  18.461594     9.653831\n",
       "4 2014-01-06  Manhattan -19.15 -8.74  8.807627  18.476589     9.668963"
      ]
     },
     "execution_count": 33,
     "metadata": {},
     "output_type": "execute_result"
    }
   ],
   "source": [
    "obs = ephem.Observer()\n",
    "obs.long = ephem.degrees(long)\n",
    "obs.lat = ephem.degrees(lat)\n",
    "date =  df['Date'].dt.strftime('%Y/%m/%d')\n",
    "sun = ephem.Sun(obs)\n",
    "\n",
    "rise_data=[]\n",
    "set_data=[]\n",
    "photoperiod_data=[]\n",
    "\n",
    "for i in date:\n",
    "    obs.date = ephem.Date(i)\n",
    "    r1 = obs.next_rising(sun)\n",
    "    s1 = obs.next_setting(sun)\n",
    "    r1_lt = ephem.Date(r1 - 5 * ephem.hour) #local time \n",
    "    (y, mn, d, h, min, s) = r1_lt.tuple()\n",
    "    rise = ( h + min/60. + s/3600. )\n",
    "    s1_lt = ephem.Date(s1 - 5 * ephem.hour) #local time\n",
    "    (y, mn, d, h, min, s) = s1_lt.tuple()\n",
    "    sunset = ( h + min/60. + s/3600. )\n",
    "    photoperiod=sunset-rise\n",
    "    rise_data.append(rise)\n",
    "    set_data.append(sunset)\n",
    "    photoperiod_data.append(photoperiod)\n",
    "    df['Sunrise']= pd.DataFrame(rise_data)\n",
    "    df['Sunset']= pd.DataFrame(set_data)\n",
    "    df['PhotoPeriod']= pd.DataFrame(photoperiod_data)   \n",
    "df.head(5)    "
   ]
  },
  {
   "cell_type": "markdown",
   "metadata": {},
   "source": [
    "**The next cell defines a function that will only return dates of the growing season of interest**"
   ]
  },
  {
   "cell_type": "code",
   "execution_count": 34,
   "metadata": {},
   "outputs": [],
   "source": [
    "def Growing_season (plant, harvest, df):\n",
    "    \"\"\"\n",
    "    Sets the growing season form plant to harvest for each growing season \n",
    "   \n",
    "     Input: Requires three inputs;\n",
    "    1. harvest date string formated as 'YYYY-MM-DD' this can be in the form of a stored variable or a direct string input\n",
    "    2. Harvest date, sring, formated as 'YYYY-MM-DD' this can be in the form of a stored variable or a direct string input\n",
    "    3. Pandas dataframe with required Date column formated as 'YYYY-MM-DD'\n",
    "    \n",
    "    Output: Pandas dataframe. With the dates of the growing season of intrest. Recomed to save the ouput as a variable\n",
    "        \n",
    "    Byron Evers\n",
    "    \n",
    "    2019-03-06 \n",
    "    \"\"\"\n",
    "    df = df.drop(df[df.Date < plant].index)\n",
    "    df = df.drop(df[df.Date > harvest].index)\n",
    "    return df"
   ]
  },
  {
   "cell_type": "code",
   "execution_count": 35,
   "metadata": {},
   "outputs": [],
   "source": [
    "# call the function and store the data as a new dataframe. In this example two dataframes are created,df17 and df18, for the 2017 and 2018 winter wheat growing season\n",
    "df17 = Growing_season('2016-10-17','2017-06-21',df)\n",
    "df18 = Growing_season(plantDate,harvestDate,df)\n",
    "# For df17 date as a string was used where as df18 used the stored variable from the above cell where inputs are set. \n",
    "#This is just to demonstrate that either format is accpeted with this function."
   ]
  },
  {
   "cell_type": "markdown",
   "metadata": {},
   "source": [
    "**The next cell defines a function to calculate growing degree days**"
   ]
  },
  {
   "cell_type": "code",
   "execution_count": 36,
   "metadata": {},
   "outputs": [],
   "source": [
    "def GDD(df):\n",
    "    \"\"\"\n",
    "    Clacluates an individual and cumluative value for GDD for each day in the dataframe\n",
    "    \n",
    "    Input: Pandas dataframe. Minimum required columns include:\n",
    "        T_max= daily maximum temprerature\n",
    "        T_min= daily minimum temperatrue\n",
    "        Date = date of collection\n",
    "        \n",
    "    Output: Pandas dataframe. In addition the columns in the dataframe input two additional columns will be clclulated and added:\n",
    "        GDD= The growing degree day value for that individual day\n",
    "        cum_GDD = The cumlative growing degree day value for all days in the designated growing period.\n",
    "    \n",
    "    Byron Evers\n",
    "    \n",
    "    2019-03-06\n",
    "    \"\"\"\n",
    "    df['Tbase']=tbase\n",
    "    tavg =((df.Tmax+df.Tmin)/2)\n",
    "    values = np.where(tavg < tbase, df.Tbase, tavg).astype(float)\n",
    "    df['GDD']=(values)-df.Tbase\n",
    "    df['cum_GDD'] = df.GDD.cumsum()\n",
    "    return df"
   ]
  },
  {
   "cell_type": "markdown",
   "metadata": {},
   "source": [
    "**Call the function and over ride the data frame so the new variables are added**"
   ]
  },
  {
   "cell_type": "code",
   "execution_count": 37,
   "metadata": {},
   "outputs": [
    {
     "data": {
      "text/html": [
       "<div>\n",
       "<style scoped>\n",
       "    .dataframe tbody tr th:only-of-type {\n",
       "        vertical-align: middle;\n",
       "    }\n",
       "\n",
       "    .dataframe tbody tr th {\n",
       "        vertical-align: top;\n",
       "    }\n",
       "\n",
       "    .dataframe thead th {\n",
       "        text-align: right;\n",
       "    }\n",
       "</style>\n",
       "<table border=\"1\" class=\"dataframe\">\n",
       "  <thead>\n",
       "    <tr style=\"text-align: right;\">\n",
       "      <th></th>\n",
       "      <th>Date</th>\n",
       "      <th>STATION</th>\n",
       "      <th>Tmin</th>\n",
       "      <th>Tmax</th>\n",
       "      <th>Sunrise</th>\n",
       "      <th>Sunset</th>\n",
       "      <th>PhotoPeriod</th>\n",
       "      <th>Tbase</th>\n",
       "      <th>GDD</th>\n",
       "      <th>cum_GDD</th>\n",
       "    </tr>\n",
       "  </thead>\n",
       "  <tbody>\n",
       "    <tr>\n",
       "      <th>1019</th>\n",
       "      <td>2016-10-17</td>\n",
       "      <td>Manhattan</td>\n",
       "      <td>15.86</td>\n",
       "      <td>30.81</td>\n",
       "      <td>7.720195</td>\n",
       "      <td>18.860190</td>\n",
       "      <td>11.139995</td>\n",
       "      <td>5</td>\n",
       "      <td>18.335</td>\n",
       "      <td>18.335</td>\n",
       "    </tr>\n",
       "    <tr>\n",
       "      <th>1020</th>\n",
       "      <td>2016-10-18</td>\n",
       "      <td>Manhattan</td>\n",
       "      <td>18.14</td>\n",
       "      <td>31.95</td>\n",
       "      <td>7.736437</td>\n",
       "      <td>18.837647</td>\n",
       "      <td>11.101210</td>\n",
       "      <td>5</td>\n",
       "      <td>20.045</td>\n",
       "      <td>38.380</td>\n",
       "    </tr>\n",
       "  </tbody>\n",
       "</table>\n",
       "</div>"
      ],
      "text/plain": [
       "           Date    STATION   Tmin   Tmax   Sunrise     Sunset  PhotoPeriod  \\\n",
       "1019 2016-10-17  Manhattan  15.86  30.81  7.720195  18.860190    11.139995   \n",
       "1020 2016-10-18  Manhattan  18.14  31.95  7.736437  18.837647    11.101210   \n",
       "\n",
       "      Tbase     GDD  cum_GDD  \n",
       "1019      5  18.335   18.335  \n",
       "1020      5  20.045   38.380  "
      ]
     },
     "execution_count": 37,
     "metadata": {},
     "output_type": "execute_result"
    }
   ],
   "source": [
    "df17=GDD(df17)\n",
    "df18=GDD(df18)\n",
    "df17.head(2) # this just print a small sample of one of the data frames to check that Tbase, GDD and cum_GDD are added to the dataframe"
   ]
  },
  {
   "cell_type": "markdown",
   "metadata": {},
   "source": [
    "**The next cell defines a function that will caclulate Pdays thermal time index**"
   ]
  },
  {
   "cell_type": "code",
   "execution_count": 38,
   "metadata": {},
   "outputs": [],
   "source": [
    "def Pdays(df):\n",
    "    T1=np.where(df.Tmin > tbase, df.Tmin, tbase)\n",
    "    T4=np.where(df.Tmax > 30, 30, df.Tmax)\n",
    "    T2=((2*T1) + T4)/2\n",
    "    T3=((2*T4) + T1)/2\n",
    "    T =((df.Tmax+df.Tmin)/2)\n",
    "    df['P'] = np.where(T < topt,(k*(1-((T-topt)*2)/((topt-df.Tmin)*2))),T)\n",
    "    df['P'] = np.where(T > topt,(k*(1-((T-topt)*2)/((df.Tmax-topt)*2))),df.P)\n",
    "    df['P'] = np.where(T < tbase,0,df.P)\n",
    "    df['P'] = np.where(T > tmax,0,df.P)\n",
    "    df['Pdays']= (1/24)*((5*df.P*T1)+ (8*df.P*T2) + (8*df.P*T3) + (3*df.P*T4))\n",
    "    df['cum_Pdays']= df.Pdays.cumsum()\n",
    "    return df"
   ]
  },
  {
   "cell_type": "code",
   "execution_count": 39,
   "metadata": {},
   "outputs": [
    {
     "data": {
      "text/html": [
       "<div>\n",
       "<style scoped>\n",
       "    .dataframe tbody tr th:only-of-type {\n",
       "        vertical-align: middle;\n",
       "    }\n",
       "\n",
       "    .dataframe tbody tr th {\n",
       "        vertical-align: top;\n",
       "    }\n",
       "\n",
       "    .dataframe thead th {\n",
       "        text-align: right;\n",
       "    }\n",
       "</style>\n",
       "<table border=\"1\" class=\"dataframe\">\n",
       "  <thead>\n",
       "    <tr style=\"text-align: right;\">\n",
       "      <th></th>\n",
       "      <th>Date</th>\n",
       "      <th>STATION</th>\n",
       "      <th>Tmin</th>\n",
       "      <th>Tmax</th>\n",
       "      <th>Sunrise</th>\n",
       "      <th>Sunset</th>\n",
       "      <th>PhotoPeriod</th>\n",
       "      <th>Tbase</th>\n",
       "      <th>GDD</th>\n",
       "      <th>cum_GDD</th>\n",
       "      <th>P</th>\n",
       "      <th>Pdays</th>\n",
       "      <th>cum_Pdays</th>\n",
       "    </tr>\n",
       "  </thead>\n",
       "  <tbody>\n",
       "    <tr>\n",
       "      <th>1377</th>\n",
       "      <td>2017-10-10</td>\n",
       "      <td>Manhattan</td>\n",
       "      <td>8.28</td>\n",
       "      <td>19.33</td>\n",
       "      <td>7.605383</td>\n",
       "      <td>19.054527</td>\n",
       "      <td>11.449145</td>\n",
       "      <td>5</td>\n",
       "      <td>8.805</td>\n",
       "      <td>8.805</td>\n",
       "      <td>0.478240</td>\n",
       "      <td>8.582609</td>\n",
       "      <td>8.582609</td>\n",
       "    </tr>\n",
       "    <tr>\n",
       "      <th>1378</th>\n",
       "      <td>2017-10-11</td>\n",
       "      <td>Manhattan</td>\n",
       "      <td>4.16</td>\n",
       "      <td>8.42</td>\n",
       "      <td>7.620969</td>\n",
       "      <td>19.030241</td>\n",
       "      <td>11.409272</td>\n",
       "      <td>5</td>\n",
       "      <td>1.290</td>\n",
       "      <td>10.095</td>\n",
       "      <td>0.641939</td>\n",
       "      <td>5.651740</td>\n",
       "      <td>14.234349</td>\n",
       "    </tr>\n",
       "  </tbody>\n",
       "</table>\n",
       "</div>"
      ],
      "text/plain": [
       "           Date    STATION  Tmin   Tmax   Sunrise     Sunset  PhotoPeriod  \\\n",
       "1377 2017-10-10  Manhattan  8.28  19.33  7.605383  19.054527    11.449145   \n",
       "1378 2017-10-11  Manhattan  4.16   8.42  7.620969  19.030241    11.409272   \n",
       "\n",
       "      Tbase    GDD  cum_GDD         P     Pdays  cum_Pdays  \n",
       "1377      5  8.805    8.805  0.478240  8.582609   8.582609  \n",
       "1378      5  1.290   10.095  0.641939  5.651740  14.234349  "
      ]
     },
     "execution_count": 39,
     "metadata": {},
     "output_type": "execute_result"
    }
   ],
   "source": [
    "df17=Pdays(df17)\n",
    "df18=Pdays(df18)\n",
    "df18.head(2) # this just print a small sample of one of the data frames to check that P, Pdays and cum_Pdays are added to the dataframe"
   ]
  },
  {
   "cell_type": "markdown",
   "metadata": {},
   "source": [
    "***The next cell defines a function to calculate BMT.**<span style=\"color:red\">**This is one of my road blocks although I do not believe it is as much coding related as it is needing to better understand the equation and the coefficients.**<span>"
   ]
  },
  {
   "cell_type": "code",
   "execution_count": 40,
   "metadata": {},
   "outputs": [],
   "source": [
    "def BMT (df):\n",
    "    part1 = (a1*(df.PhotoPeriod-a0))+(a2*((df.PhotoPeriod-a0)**2))\n",
    "    part2 = (b1*(df.Tmax-tbase))+(b2*((df.Tmax-tbase)**2))\n",
    "    part3 = (d1*(df.Tmin-tbase))+(d2*((df.Tmin-tbase)**2))\n",
    "    df['BMT']= part1 * (part2 + part3)\n",
    "    df['cum_BMT'] = df.BMT.cumsum()\n",
    "    \n",
    "    return df"
   ]
  },
  {
   "cell_type": "code",
   "execution_count": 41,
   "metadata": {},
   "outputs": [
    {
     "data": {
      "text/html": [
       "<div>\n",
       "<style scoped>\n",
       "    .dataframe tbody tr th:only-of-type {\n",
       "        vertical-align: middle;\n",
       "    }\n",
       "\n",
       "    .dataframe tbody tr th {\n",
       "        vertical-align: top;\n",
       "    }\n",
       "\n",
       "    .dataframe thead th {\n",
       "        text-align: right;\n",
       "    }\n",
       "</style>\n",
       "<table border=\"1\" class=\"dataframe\">\n",
       "  <thead>\n",
       "    <tr style=\"text-align: right;\">\n",
       "      <th></th>\n",
       "      <th>Date</th>\n",
       "      <th>STATION</th>\n",
       "      <th>Tmin</th>\n",
       "      <th>Tmax</th>\n",
       "      <th>Sunrise</th>\n",
       "      <th>Sunset</th>\n",
       "      <th>PhotoPeriod</th>\n",
       "      <th>Tbase</th>\n",
       "      <th>GDD</th>\n",
       "      <th>cum_GDD</th>\n",
       "      <th>P</th>\n",
       "      <th>Pdays</th>\n",
       "      <th>cum_Pdays</th>\n",
       "      <th>BMT</th>\n",
       "      <th>cum_BMT</th>\n",
       "    </tr>\n",
       "  </thead>\n",
       "  <tbody>\n",
       "    <tr>\n",
       "      <th>1019</th>\n",
       "      <td>2016-10-17</td>\n",
       "      <td>Manhattan</td>\n",
       "      <td>15.86</td>\n",
       "      <td>30.81</td>\n",
       "      <td>7.720195</td>\n",
       "      <td>18.860190</td>\n",
       "      <td>11.139995</td>\n",
       "      <td>5</td>\n",
       "      <td>18.335</td>\n",
       "      <td>18.335</td>\n",
       "      <td>0.189446</td>\n",
       "      <td>5.680382</td>\n",
       "      <td>5.680382</td>\n",
       "      <td>10.011629</td>\n",
       "      <td>10.011629</td>\n",
       "    </tr>\n",
       "    <tr>\n",
       "      <th>1020</th>\n",
       "      <td>2016-10-18</td>\n",
       "      <td>Manhattan</td>\n",
       "      <td>18.14</td>\n",
       "      <td>31.95</td>\n",
       "      <td>7.736437</td>\n",
       "      <td>18.837647</td>\n",
       "      <td>11.101210</td>\n",
       "      <td>5</td>\n",
       "      <td>20.045</td>\n",
       "      <td>38.380</td>\n",
       "      <td>0.161656</td>\n",
       "      <td>5.108180</td>\n",
       "      <td>10.788562</td>\n",
       "      <td>10.864239</td>\n",
       "      <td>20.875868</td>\n",
       "    </tr>\n",
       "    <tr>\n",
       "      <th>1021</th>\n",
       "      <td>2016-10-19</td>\n",
       "      <td>Manhattan</td>\n",
       "      <td>11.32</td>\n",
       "      <td>23.25</td>\n",
       "      <td>7.752778</td>\n",
       "      <td>18.815361</td>\n",
       "      <td>11.062582</td>\n",
       "      <td>5</td>\n",
       "      <td>12.285</td>\n",
       "      <td>50.665</td>\n",
       "      <td>0.334040</td>\n",
       "      <td>7.532463</td>\n",
       "      <td>18.321025</td>\n",
       "      <td>4.356753</td>\n",
       "      <td>25.232621</td>\n",
       "    </tr>\n",
       "    <tr>\n",
       "      <th>1022</th>\n",
       "      <td>2016-10-20</td>\n",
       "      <td>Manhattan</td>\n",
       "      <td>8.70</td>\n",
       "      <td>23.45</td>\n",
       "      <td>7.769221</td>\n",
       "      <td>18.793341</td>\n",
       "      <td>11.024121</td>\n",
       "      <td>5</td>\n",
       "      <td>11.075</td>\n",
       "      <td>61.740</td>\n",
       "      <td>0.389006</td>\n",
       "      <td>8.098619</td>\n",
       "      <td>26.419644</td>\n",
       "      <td>3.899648</td>\n",
       "      <td>29.132268</td>\n",
       "    </tr>\n",
       "    <tr>\n",
       "      <th>1023</th>\n",
       "      <td>2016-10-21</td>\n",
       "      <td>Manhattan</td>\n",
       "      <td>6.35</td>\n",
       "      <td>16.82</td>\n",
       "      <td>7.785764</td>\n",
       "      <td>18.771598</td>\n",
       "      <td>10.985834</td>\n",
       "      <td>5</td>\n",
       "      <td>6.585</td>\n",
       "      <td>68.325</td>\n",
       "      <td>0.527958</td>\n",
       "      <td>7.924866</td>\n",
       "      <td>34.344509</td>\n",
       "      <td>1.514331</td>\n",
       "      <td>30.646599</td>\n",
       "    </tr>\n",
       "  </tbody>\n",
       "</table>\n",
       "</div>"
      ],
      "text/plain": [
       "           Date    STATION   Tmin   Tmax   Sunrise     Sunset  PhotoPeriod  \\\n",
       "1019 2016-10-17  Manhattan  15.86  30.81  7.720195  18.860190    11.139995   \n",
       "1020 2016-10-18  Manhattan  18.14  31.95  7.736437  18.837647    11.101210   \n",
       "1021 2016-10-19  Manhattan  11.32  23.25  7.752778  18.815361    11.062582   \n",
       "1022 2016-10-20  Manhattan   8.70  23.45  7.769221  18.793341    11.024121   \n",
       "1023 2016-10-21  Manhattan   6.35  16.82  7.785764  18.771598    10.985834   \n",
       "\n",
       "      Tbase     GDD  cum_GDD         P     Pdays  cum_Pdays        BMT  \\\n",
       "1019      5  18.335   18.335  0.189446  5.680382   5.680382  10.011629   \n",
       "1020      5  20.045   38.380  0.161656  5.108180  10.788562  10.864239   \n",
       "1021      5  12.285   50.665  0.334040  7.532463  18.321025   4.356753   \n",
       "1022      5  11.075   61.740  0.389006  8.098619  26.419644   3.899648   \n",
       "1023      5   6.585   68.325  0.527958  7.924866  34.344509   1.514331   \n",
       "\n",
       "        cum_BMT  \n",
       "1019  10.011629  \n",
       "1020  20.875868  \n",
       "1021  25.232621  \n",
       "1022  29.132268  \n",
       "1023  30.646599  "
      ]
     },
     "execution_count": 41,
     "metadata": {},
     "output_type": "execute_result"
    }
   ],
   "source": [
    "df18=BMT(df18)\n",
    "df17=BMT(df17)\n",
    "df17.head(5)"
   ]
  },
  {
   "cell_type": "code",
   "execution_count": 42,
   "metadata": {},
   "outputs": [],
   "source": [
    "# Add stage predictor GDD for reference\n",
    "df17['Tillering']=420\n",
    "df17['Flower']=650\n",
    "df17['GrainFill']=930\n",
    "df17['FullMaturity']= 1250\n",
    "# Add stage predictor GDD for reference\n",
    "df18['Tillering']=420\n",
    "df18['Flower']=650\n",
    "df18['GrainFill']=930\n",
    "df18['FullMaturity']= 1250"
   ]
  },
  {
   "cell_type": "markdown",
   "metadata": {},
   "source": [
    "<a name=\"Update__graph\"></a>"
   ]
  },
  {
   "cell_type": "code",
   "execution_count": 43,
   "metadata": {},
   "outputs": [
    {
     "data": {
      "image/png": "[encoded data removed]",
      "text/plain": [
       "<Figure size 864x1008 with 1 Axes>"
      ]
     },
     "metadata": {
      "needs_background": "light"
     },
     "output_type": "display_data"
    }
   ],
   "source": [
    "#size plot\n",
    "plt.figure(figsize=(12,14))\n",
    "\n",
    "\n",
    "#plot 2017 Data\n",
    "plt.subplot(2,1,2)\n",
    "plt.plot(df17.Date,df17.cum_GDD, '-k')\n",
    "plt.plot(df17.Date,df17.cum_Pdays,'-r')\n",
    "plt.plot(df17.Date,df17.cum_BMT,'-y')\n",
    "plt.ylabel('GDD', fontsize =24)\n",
    "plt.xticks(rotation=60)\n",
    "\n",
    "#plot stage prediction lines\n",
    "plt.plot(df17.Date, df17.Tillering, '--y')\n",
    "plt.plot(df17.Date, df17.Flower, '--k')\n",
    "plt.plot(df17.Date, df17.GrainFill, '--r')\n",
    "plt.plot(df18.Date, df18.Tillering, '--y')\n",
    "#plt.plot(df18.Date, df18.cum_BMT, '--y')\n",
    "plt.plot(df18.Date, df18.Flower, '--k')\n",
    "plt.plot(df18.Date, df18.GrainFill, '--r')\n",
    "\n",
    "#plot 2018 Data\n",
    "plt.subplot(2,1,2)\n",
    "plt.plot(df18.Date,df18.cum_GDD, 'k')\n",
    "plt.plot(df18.Date,df18.cum_Pdays, 'r')\n",
    "plt.plot(df18.Date,df18.cum_BMT,'-y')\n",
    "plt.ylabel('GDD', fontsize =24)\n",
    "plt.xticks(rotation=60)\n",
    "\n",
    "\n",
    "# edit plot\n",
    "plt.title('Manthattan Thermal Time Indices Comparison by Year', size=24)\n",
    "\n",
    "plt.legend(['GDD', 'Pdays','BMT','Tillering Est.','Flowering Est.', 'Grain Fill Est.'], loc=2)\n",
    "axes = plt.gca()\n",
    "axes.set_ylim([0,1500])\n",
    "\n",
    "plt.show()"
   ]
  },
  {
   "cell_type": "markdown",
   "metadata": {},
   "source": [
    "**The final remaining cells are desinged to merge the thermal time indices to UAV reflectance data based on date of collection**"
   ]
  },
  {
   "cell_type": "code",
   "execution_count": 44,
   "metadata": {},
   "outputs": [],
   "source": [
    "dirname = '/Users/bevers/Desktop/Coding/Thermal_Time_Indices/Data/'\n",
    "filename_18 ='2018_MCP_NDVI.csv'"
   ]
  },
  {
   "cell_type": "code",
   "execution_count": 45,
   "metadata": {},
   "outputs": [
    {
     "data": {
      "text/html": [
       "<div>\n",
       "<style scoped>\n",
       "    .dataframe tbody tr th:only-of-type {\n",
       "        vertical-align: middle;\n",
       "    }\n",
       "\n",
       "    .dataframe tbody tr th {\n",
       "        vertical-align: top;\n",
       "    }\n",
       "\n",
       "    .dataframe thead th {\n",
       "        text-align: right;\n",
       "    }\n",
       "</style>\n",
       "<table border=\"1\" class=\"dataframe\">\n",
       "  <thead>\n",
       "    <tr style=\"text-align: right;\">\n",
       "      <th></th>\n",
       "      <th>Plot_ID</th>\n",
       "      <th>KC</th>\n",
       "      <th>KR</th>\n",
       "      <th>Date</th>\n",
       "      <th>NDVI</th>\n",
       "      <th>Column</th>\n",
       "      <th>Range</th>\n",
       "      <th>Merge_id</th>\n",
       "    </tr>\n",
       "  </thead>\n",
       "  <tbody>\n",
       "    <tr>\n",
       "      <th>0</th>\n",
       "      <td>18MP_0</td>\n",
       "      <td>1</td>\n",
       "      <td>1</td>\n",
       "      <td>2018-05-22</td>\n",
       "      <td>0.719</td>\n",
       "      <td>1</td>\n",
       "      <td>1</td>\n",
       "      <td>C1_R1</td>\n",
       "    </tr>\n",
       "    <tr>\n",
       "      <th>1</th>\n",
       "      <td>18MP_0</td>\n",
       "      <td>1</td>\n",
       "      <td>1</td>\n",
       "      <td>2018-06-06</td>\n",
       "      <td>0.259</td>\n",
       "      <td>1</td>\n",
       "      <td>1</td>\n",
       "      <td>C1_R1</td>\n",
       "    </tr>\n",
       "    <tr>\n",
       "      <th>2</th>\n",
       "      <td>18MP_0</td>\n",
       "      <td>1</td>\n",
       "      <td>2</td>\n",
       "      <td>2018-05-22</td>\n",
       "      <td>0.717</td>\n",
       "      <td>1</td>\n",
       "      <td>2</td>\n",
       "      <td>C1_R2</td>\n",
       "    </tr>\n",
       "    <tr>\n",
       "      <th>3</th>\n",
       "      <td>18MP_0</td>\n",
       "      <td>1</td>\n",
       "      <td>2</td>\n",
       "      <td>2018-06-06</td>\n",
       "      <td>0.255</td>\n",
       "      <td>1</td>\n",
       "      <td>2</td>\n",
       "      <td>C1_R2</td>\n",
       "    </tr>\n",
       "    <tr>\n",
       "      <th>4</th>\n",
       "      <td>18MP_0</td>\n",
       "      <td>1</td>\n",
       "      <td>3</td>\n",
       "      <td>2018-05-22</td>\n",
       "      <td>0.717</td>\n",
       "      <td>1</td>\n",
       "      <td>3</td>\n",
       "      <td>C1_R3</td>\n",
       "    </tr>\n",
       "  </tbody>\n",
       "</table>\n",
       "</div>"
      ],
      "text/plain": [
       "  Plot_ID  KC  KR       Date   NDVI  Column  Range Merge_id\n",
       "0  18MP_0   1   1 2018-05-22  0.719       1      1    C1_R1\n",
       "1  18MP_0   1   1 2018-06-06  0.259       1      1    C1_R1\n",
       "2  18MP_0   1   2 2018-05-22  0.717       1      2    C1_R2\n",
       "3  18MP_0   1   2 2018-06-06  0.255       1      2    C1_R2\n",
       "4  18MP_0   1   3 2018-05-22  0.717       1      3    C1_R3"
      ]
     },
     "execution_count": 45,
     "metadata": {},
     "output_type": "execute_result"
    }
   ],
   "source": [
    "UAV18 = pd.read_csv(dirname + filename_18)\n",
    "#UAV18['Date'] =  pd.to_datetime(UAV18['Date'],format='%Y-%m-%d') # formats 'Date' coulmn to correct datetime format\n",
    "UAV18['Date'] = pd.to_datetime(UAV18.Date)\n",
    "UAV18.head(5)"
   ]
  },
  {
   "cell_type": "markdown",
   "metadata": {},
   "source": [
    "<a name=\"Update__output\"></a>\n",
    "<span style=\"color:red\">**This is my final road block. I can get the UAV data and the thermal time indices to merge. However, I want to be able to merge even if the dates are not exact.**<span> "
   ]
  },
  {
   "cell_type": "code",
   "execution_count": 47,
   "metadata": {},
   "outputs": [],
   "source": [
    "UAV18['UAV_Date'] = pd.to_datetime(UAV18.Date)\n",
    "df18['Date'] = pd.to_datetime(df18.Date)\n",
    "\n",
    "finaldf18 = pd.merge(UAV18,df18, on='Date',how='inner')\n",
    "finaldf18['Days_Diff']= finaldf18.UAV_Date-finaldf18.Date\n"
   ]
  },
  {
   "cell_type": "code",
   "execution_count": 48,
   "metadata": {},
   "outputs": [
    {
     "data": {
      "text/html": [
       "<div>\n",
       "<style scoped>\n",
       "    .dataframe tbody tr th:only-of-type {\n",
       "        vertical-align: middle;\n",
       "    }\n",
       "\n",
       "    .dataframe tbody tr th {\n",
       "        vertical-align: top;\n",
       "    }\n",
       "\n",
       "    .dataframe thead th {\n",
       "        text-align: right;\n",
       "    }\n",
       "</style>\n",
       "<table border=\"1\" class=\"dataframe\">\n",
       "  <thead>\n",
       "    <tr style=\"text-align: right;\">\n",
       "      <th></th>\n",
       "      <th>Plot_ID</th>\n",
       "      <th>Range</th>\n",
       "      <th>Column</th>\n",
       "      <th>Date</th>\n",
       "      <th>UAV_Date</th>\n",
       "      <th>STATION</th>\n",
       "      <th>NDVI</th>\n",
       "      <th>Tmax</th>\n",
       "      <th>Tmin</th>\n",
       "      <th>cum_GDD</th>\n",
       "      <th>cum_Pdays</th>\n",
       "      <th>cum_BMT</th>\n",
       "    </tr>\n",
       "  </thead>\n",
       "  <tbody>\n",
       "    <tr>\n",
       "      <th>0</th>\n",
       "      <td>18MP_0</td>\n",
       "      <td>1</td>\n",
       "      <td>1</td>\n",
       "      <td>2018-05-22</td>\n",
       "      <td>2018-05-22</td>\n",
       "      <td>Manhattan</td>\n",
       "      <td>0.719</td>\n",
       "      <td>27.26</td>\n",
       "      <td>12.37</td>\n",
       "      <td>979.38</td>\n",
       "      <td>924.371597</td>\n",
       "      <td>2388.15652</td>\n",
       "    </tr>\n",
       "    <tr>\n",
       "      <th>1</th>\n",
       "      <td>18MP_0</td>\n",
       "      <td>2</td>\n",
       "      <td>1</td>\n",
       "      <td>2018-05-22</td>\n",
       "      <td>2018-05-22</td>\n",
       "      <td>Manhattan</td>\n",
       "      <td>0.717</td>\n",
       "      <td>27.26</td>\n",
       "      <td>12.37</td>\n",
       "      <td>979.38</td>\n",
       "      <td>924.371597</td>\n",
       "      <td>2388.15652</td>\n",
       "    </tr>\n",
       "    <tr>\n",
       "      <th>2</th>\n",
       "      <td>18MP_0</td>\n",
       "      <td>3</td>\n",
       "      <td>1</td>\n",
       "      <td>2018-05-22</td>\n",
       "      <td>2018-05-22</td>\n",
       "      <td>Manhattan</td>\n",
       "      <td>0.717</td>\n",
       "      <td>27.26</td>\n",
       "      <td>12.37</td>\n",
       "      <td>979.38</td>\n",
       "      <td>924.371597</td>\n",
       "      <td>2388.15652</td>\n",
       "    </tr>\n",
       "    <tr>\n",
       "      <th>3</th>\n",
       "      <td>18MP_0</td>\n",
       "      <td>4</td>\n",
       "      <td>1</td>\n",
       "      <td>2018-05-22</td>\n",
       "      <td>2018-05-22</td>\n",
       "      <td>Manhattan</td>\n",
       "      <td>0.704</td>\n",
       "      <td>27.26</td>\n",
       "      <td>12.37</td>\n",
       "      <td>979.38</td>\n",
       "      <td>924.371597</td>\n",
       "      <td>2388.15652</td>\n",
       "    </tr>\n",
       "    <tr>\n",
       "      <th>4</th>\n",
       "      <td>18MP_0</td>\n",
       "      <td>5</td>\n",
       "      <td>1</td>\n",
       "      <td>2018-05-22</td>\n",
       "      <td>2018-05-22</td>\n",
       "      <td>Manhattan</td>\n",
       "      <td>0.677</td>\n",
       "      <td>27.26</td>\n",
       "      <td>12.37</td>\n",
       "      <td>979.38</td>\n",
       "      <td>924.371597</td>\n",
       "      <td>2388.15652</td>\n",
       "    </tr>\n",
       "  </tbody>\n",
       "</table>\n",
       "</div>"
      ],
      "text/plain": [
       "  Plot_ID  Range  Column       Date   UAV_Date    STATION   NDVI   Tmax  \\\n",
       "0  18MP_0      1       1 2018-05-22 2018-05-22  Manhattan  0.719  27.26   \n",
       "1  18MP_0      2       1 2018-05-22 2018-05-22  Manhattan  0.717  27.26   \n",
       "2  18MP_0      3       1 2018-05-22 2018-05-22  Manhattan  0.717  27.26   \n",
       "3  18MP_0      4       1 2018-05-22 2018-05-22  Manhattan  0.704  27.26   \n",
       "4  18MP_0      5       1 2018-05-22 2018-05-22  Manhattan  0.677  27.26   \n",
       "\n",
       "    Tmin  cum_GDD   cum_Pdays     cum_BMT  \n",
       "0  12.37   979.38  924.371597  2388.15652  \n",
       "1  12.37   979.38  924.371597  2388.15652  \n",
       "2  12.37   979.38  924.371597  2388.15652  \n",
       "3  12.37   979.38  924.371597  2388.15652  \n",
       "4  12.37   979.38  924.371597  2388.15652  "
      ]
     },
     "execution_count": 48,
     "metadata": {},
     "output_type": "execute_result"
    }
   ],
   "source": [
    "finaldf18 = pd.merge(df18, UAV18, on=['Date'], how='inner')\n",
    "finaldf18 =finaldf18[['Plot_ID','Range', 'Column', 'Date','UAV_Date','STATION','NDVI', 'Tmax','Tmin','cum_GDD','cum_Pdays','cum_BMT']] #selects columns needed\n",
    "finaldf18.head(5)"
   ]
  },
  {
   "cell_type": "code",
   "execution_count": null,
   "metadata": {},
   "outputs": [],
   "source": []
  }
 ],
 "metadata": {
  "kernelspec": {
   "display_name": "Python 3",
   "language": "python",
   "name": "python3"
  },
  "language_info": {
   "codemirror_mode": {
    "name": "ipython",
    "version": 3
   },
   "file_extension": ".py",
   "mimetype": "text/x-python",
   "name": "python",
   "nbconvert_exporter": "python",
   "pygments_lexer": "ipython3",
   "version": "3.7.1"
  }
 },
 "nbformat": 4,
 "nbformat_minor": 2
}
